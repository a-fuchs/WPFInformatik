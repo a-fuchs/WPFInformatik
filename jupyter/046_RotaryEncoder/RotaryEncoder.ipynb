{
 "cells": [
  {
   "cell_type": "code",
   "execution_count": 1,
   "id": "bc4161cb-58be-4558-8a36-e774fc9a74ce",
   "metadata": {},
   "outputs": [
    {
     "name": "stdout",
     "output_type": "stream",
     "text": [
      "\u001b[34mConnecting to --port=/dev/ttyUSB0 --baud=115200 \u001b[0m\n",
      "\u001b[34mReady.\n",
      "\u001b[0m"
     ]
    }
   ],
   "source": [
    "#%serialconnect --port=COM3 --baud=115200 \n",
    "%serialconnect"
   ]
  },
  {
   "cell_type": "code",
   "execution_count": 2,
   "id": "8e3aab58-430b-47a3-99ca-5894bd203814",
   "metadata": {},
   "outputs": [],
   "source": [
    "# Robust Rotary encoder reading\n",
    "# Copyright John Main - best-microcontroller-projects.com\n",
    "# Adapted to Python - Alfred Fuchs\n",
    "# https://www.best-microcontroller-projects.com/rotary-encoder.html\n",
    "# Improved Table Decode\n",
    "\n",
    "from machine import Pin\n",
    "\n",
    "class RotaryEncoder :\n",
    "    _rot_enc_table = [0,1,1,0,1,0,0,1,1,0,0,1,0,1,1,0]\n",
    "    \n",
    "    def __init__( self, _iPinCLK, _iPinDT, _iLeftBound = None, _iRightBound = None, _bCycle = False, _bNoisyEncoder = True ) :\n",
    "        self._bNoisyEncoder = _bNoisyEncoder\n",
    "        self._pinCLK        = Pin( _iPinCLK, Pin.IN, Pin.PULL_UP )\n",
    "        self._pinDT         = Pin( _iPinDT,  Pin.IN, Pin.PULL_UP )\n",
    "        self._prevNextCode  = 0\n",
    "        self._store         = 0\n",
    "        self._value         = 0\n",
    "        self._iLeftBound    = _iLeftBound\n",
    "        self._iRightBound   = _iRightBound\n",
    "        self._bCycle        = _bCycle\n",
    "\n",
    "\n",
    "    # A valid CW or CCW move returns 1, invalid returns 0.\n",
    "    def read_rotary( self ) :\n",
    "        self._prevNextCode <<= 2\n",
    "\n",
    "        if self._pinDT .value() == 0 : self._prevNextCode |= 0x02\n",
    "        if self._pinCLK.value() == 0 : self._prevNextCode |= 0x01\n",
    "\n",
    "        self._prevNextCode &= 0x0f\n",
    "\n",
    "\n",
    "        # If valid then store as 16 bit data.\n",
    "        if RotaryEncoder._rot_enc_table[self._prevNextCode] != 0 :\n",
    "            self._store = int( self._store << 4 )\n",
    "            self._store |= self._prevNextCode\n",
    "            self._store &= 0xffff\n",
    "            \n",
    "            if self._bNoisyEncoder == True :\n",
    "                if (self._store & 0xff) == 0x2b: return -1\n",
    "                if (self._store & 0xff) == 0x17: return 1\n",
    "            else :\n",
    "                if self._store == 0xd42b : return  1\n",
    "                if self._store == 0xe817 : return -1\n",
    "\n",
    "        return 0;\n",
    "\n",
    "    def update( self ) :\n",
    "        step = self.read_rotary()\n",
    "\n",
    "        if step != 0:\n",
    "            self._value += step\n",
    "            \n",
    "            if step == 1 :\n",
    "                if self._iRightBound is not None and self._value > self._iRightBound :\n",
    "                    self._value = self._iLeftBound if self._bCycle else self._iRightBound\n",
    "\n",
    "            elif step == -1 :\n",
    "                if self._iLeftBound is not None and self._value < self._iLeftBound :\n",
    "                    self._value = self._iRightBound if self._bCycle else self._iLeftBound\n",
    "            \n",
    "            return True\n",
    "        \n",
    "        else :\n",
    "            return False\n",
    "        \n",
    "    def value( self ) :\n",
    "        return self._value\n",
    "    \n",
    "    def __str__(self) :\n",
    "        strDirection = \"<--\" if self._prevNextCode == 0x0b else \"-->\" if self._prevNextCode == 0x07 else \"???\"\n",
    "\n",
    "        return ( strDirection + \" value = \" + str( self._value ) + \", store = \" + hex(self._store) + \", prevNextCode = \" + hex( self._prevNextCode ) )"
   ]
  },
  {
   "cell_type": "code",
   "execution_count": 3,
   "id": "cf800b4e-b29f-44e5-b2cc-c4fae8ceb687",
   "metadata": {},
   "outputs": [
    {
     "name": "stdout",
     "output_type": "stream",
     "text": [
      ".............\u001b[34m\n",
      "\n",
      "*** Sending Ctrl-C\n",
      "\n",
      "\u001b[0m\n",
      "Done.\n"
     ]
    }
   ],
   "source": [
    "# Sample\n",
    "rotaryEncoder = RotaryEncoder( 2, 22 )\n",
    "\n",
    "from display import Display\n",
    "import time\n",
    "\n",
    "display = Display()\n",
    "\n",
    "try:\n",
    "    while True:\n",
    "        if rotaryEncoder.update() == True:\n",
    "            display.fill_rect( 0, 0, 127, 10, 0 )\n",
    "            display.text( f\"{rotaryEncoder.value()}\", 0, 0 )\n",
    "            display.show()\n",
    "\n",
    "except KeyboardInterrupt:\n",
    "    pass\n",
    "\n",
    "display.text( \"Done.\", 0, 50 )\n",
    "display.show()\n",
    "print( \"\\nDone.\" )"
   ]
  },
  {
   "cell_type": "markdown",
   "id": "62f4986f-cf8c-48c1-9ffe-aef26e906e20",
   "metadata": {},
   "source": [
    "**Sources:**\n",
    "\n",
    "* [best-microcontroller-projects.com](https://www.best-microcontroller-projects.com/rotary-encoder.html)\n",
    "* [mikrocontroller.net](https://www.mikrocontroller.net/articles/Drehgeber)\n",
    "* [randomnerdtutorials.com](https://randomnerdtutorials.com/micropython-interrupts-esp32-esp8266/)\n",
    "* [micropython.org](https://docs.micropython.org/en/latest/reference/isr_rules.html)\n",
    "\n",
    "\n",
    "|Prev/Next State|Valid code|Direction|\n",
    "|------|---|---|\n",
    "| 0000 | X | X |\n",
    "| 0001 | Valid | CW |\n",
    "| 0010 | Valid | CCW |\n",
    "| 0011 | X | X |\n",
    "| 0100 | Valid | CCW |\n",
    "| 0101 | X | X |\n",
    "| 0110 | X | X |\n",
    "| 0111 | Valid | CW |\n",
    "| 1000 | Valid | CW |\n",
    "| 1001 | X | X |\n",
    "| 1010 | X | X |\n",
    "| 1011 | Valid | CCW |\n",
    "| 1100 | X | X |\n",
    "| 1101 | Valid | CCW |\n",
    "| 1110 | Valid | CW |\n",
    "| 1111 | X | X |"
   ]
  },
  {
   "cell_type": "code",
   "execution_count": null,
   "id": "a99b5aa5-2083-48bc-9448-c34dcf7b46c3",
   "metadata": {},
   "outputs": [],
   "source": []
  }
 ],
 "metadata": {
  "kernelspec": {
   "display_name": "MicroPython - USB",
   "language": "micropython",
   "name": "micropython"
  },
  "language_info": {
   "codemirror_mode": "python",
   "file_extension": ".py",
   "mimetype": "text/python",
   "name": "micropython"
  }
 },
 "nbformat": 4,
 "nbformat_minor": 5
}
