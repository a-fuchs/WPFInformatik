{
 "cells": [
  {
   "cell_type": "markdown",
   "id": "f5db822b",
   "metadata": {},
   "source": [
    "<!--\n",
    "Doc Writer email@nixdabei.de\n",
    "v0.0.1, 2021-08-04\n",
    "v0.0.2, 2022-01-16\n",
    "-->\n",
    "[Home](../index.ipynb) / Erste Schritte mit MicroPython\n",
    "***"
   ]
  },
  {
   "cell_type": "markdown",
   "id": "5b45f25c-0160-4078-a454-07802819c162",
   "metadata": {},
   "source": [
    "<span style=\"font-size:20pt;\">Erste Schritte mit MicroPython</span>\n",
    "    \n",
    "auf einem Arduino-kompatiblen Board wie dem Croduino ESP8266, oder HelTec ESP32.\n",
    "\n",
    "---\n",
    "# Hello World\n",
    "**Vorbemerkungen:**  \n",
    "* Zum Ausführen einer Code-Zelle: in die betreffende Zelle gehen und SHIFT ENTER drücken, oder oben auf ▶ drücken.\n",
    "* Alle Code-Zeilen sollten <span style=\"color:red\">der Reihe nach</span> ausgeführt werden, <span style=\"color:red\">ohne eine auszulassen</span>.\n",
    "* Sollte ein Code-Schnipsel einmal nicht funktionieren: manchmal hilft einfach nur mal kurz den Stecker abziehen und noch mal neu verbinden.\n",
    "\n",
    "## Verbinden mit dem Mikrocontroller:\n",
    "Den Mikrocontroller über das USB-Kabel mit dem Rechner verbinden und folgenden Code ausführen:"
   ]
  },
  {
   "cell_type": "code",
   "execution_count": null,
   "id": "c881a7a3",
   "metadata": {},
   "outputs": [],
   "source": [
    "%serialconnect --port=COM3 --baud=115200 # für Windows\n",
    "#%serialconnect # für Linux"
   ]
  },
  {
   "cell_type": "markdown",
   "id": "318c8219-eeab-4823-bb3b-0dc90fc2166d",
   "metadata": {},
   "source": [
    "Sollte eine Meldung kommen wie\n",
    "```bash\n",
    "Connecting to --port=COM3 --baud=115200 \n",
    "\n",
    "Try one of these ports as --port= \n",
    "  COM1\n",
    "  COM4  \n",
    "```\n",
    "ändern Sie oben `COM3` in `COM4` etc. und probieren und ändern Sie so lange, bis es klappt."
   ]
  },
  {
   "cell_type": "markdown",
   "id": "29f7d669-f9a9-4390-8c2c-a194ac788e45",
   "metadata": {},
   "source": [
    "## \"Hello world!\" mit MicroPython\n",
    "### Auf der Console, also unter der nächsten Zelle"
   ]
  },
  {
   "cell_type": "code",
   "execution_count": null,
   "id": "a82dc586-0843-4d5e-a6a5-3f473c784f70",
   "metadata": {},
   "outputs": [],
   "source": [
    "print( \"Hello world!\" )"
   ]
  },
  {
   "cell_type": "markdown",
   "id": "0fac9f40-d4f7-4f04-a2a6-9246fbbdf1a5",
   "metadata": {},
   "source": [
    "Wow?!? ...\n",
    "\n",
    "Was ist hier passiert?\n",
    "\n",
    "**Sehr viel!**\n",
    "\n",
    "* Der Browser hat den Code an den Jupyter-Server geschickt (ist auch ein kleiner Web-Server!),\n",
    "* der schickte den Python-Code über USB an den Controller.\n",
    "* **Der Contoller** hat den Python Code augeführt und das\n",
    "* Resultat über USB wieder an den Jupyter-Server geschickt (das \"Hello world!\" also),\n",
    "* der wiederum zurück an den Browser und dieser hat dann das `Hello world!` in der Ausgabezelle angezeigt.\n",
    "\n",
    "**Fazit:** **Jeder** Python Code den Sie hier ausführen wird **auf dem Controller** ausgeführt!  \n",
    "Schauen Sie in die rechte obere Ecke des dieses Fensters: dort sehen Sie \"MicroPython-USB\" stehen: diese Seite hier führt also nur Code auf einem MicroPyhon via USB aus."
   ]
  },
  {
   "cell_type": "markdown",
   "id": "16cc1384-8db7-461b-b39f-3de203cfbe22",
   "metadata": {},
   "source": [
    "### Auf dem OLED-Display\n",
    "Nur mal um das Display zu testen (Genaueres siehe unter: [Ausgabe auf dem Display](#Ausgabe-auf-dem-Display)):"
   ]
  },
  {
   "cell_type": "code",
   "execution_count": null,
   "id": "4083e5a7-7695-4ca3-8bc9-72d1583a41ae",
   "metadata": {},
   "outputs": [],
   "source": [
    "import display\n",
    "\n",
    "display = display.Display()\n",
    "display.text( \"Hello world!\", 18, 30 ) # draw \"Hello world!\" at x=18, y=30, colour=1\n",
    "display.show()"
   ]
  },
  {
   "cell_type": "markdown",
   "id": "6f9560d1-13ce-4b5a-9f6f-e26abc9487f8",
   "metadata": {},
   "source": [
    "### Externe Tutorials zum Eigenstudium\n",
    "* [Kurs: MicroPython on ESP Using Jupyter Notebook](https://mjrobot.org/micropython-on-esp-using-jupyter-notebook/)"
   ]
  },
  {
   "cell_type": "markdown",
   "id": "13b80734-e4c8-4048-9ff8-65a5f298991f",
   "metadata": {},
   "source": [
    "---\n",
    "# Interne LED des Controllers schalten\n",
    "\n",
    "**Bitte beachten:**\n",
    "\n",
    "Der 'Esp32 NodeMCU' hat keine für uns verwendbare LED auf dem Board.  \n",
    "Bitte eine externe LED anstecken wie [unten](#Externe-LED) beschrieben und dann hier weiter machen.\n",
    "\n",
    "## LED an und aus\n",
    "Dazu muss zuerst das Modul `machine`, das sich schon auf dem Controller befindet, geladen werden, denn wir wollen deren `Pin`-Klasse verwenden. "
   ]
  },
  {
   "cell_type": "code",
   "execution_count": null,
   "id": "eaafabd6",
   "metadata": {},
   "outputs": [],
   "source": [
    "import machine"
   ]
  },
  {
   "cell_type": "markdown",
   "id": "c4e91a5e-c01e-4c2c-b475-a4f647caad90",
   "metadata": {},
   "source": [
    "Nun wird ein `Pin`-Objekt erzeugt:  \n",
    "da sich der Code von `Pin` im Modul `machine` befindet, ist der genaue Name `machine.Pin`.  \n",
    "`machine.Pin` erwartet zwei Parameter:\n",
    "* die Nummer des Pins der verwendet werden soll: _13_ beim 'Esp8266 Croduino' und _25_ auf dem 'Esp32 HelTec',\n",
    "* sowie einen Wert der angibt, ob der Pin für Ausgabe (`machine.Pin.OUT`), oder Eingabe (`machine.Pin.IN`) verwendert werden soll.\n",
    "\n",
    "Dieses `Pin`-Objekt wird der Variablen `pin` zugewiesen (ein beliebiger Name).  \n",
    "Mit `pin.on()` kann der Pin nun auf _3,3 V_ und mit `pin.off()` auf _0 V_ gesetzt werden."
   ]
  },
  {
   "cell_type": "code",
   "execution_count": null,
   "id": "c6cc5c7c-eaeb-4a0d-b8eb-d2c8bb0156a8",
   "metadata": {},
   "outputs": [],
   "source": [
    "pin = machine.Pin(25, machine.Pin.OUT) # 25 HelTec, 13 Croduino"
   ]
  },
  {
   "cell_type": "code",
   "execution_count": null,
   "id": "10d50423",
   "metadata": {},
   "outputs": [],
   "source": [
    "pin.on() # Anschalten"
   ]
  },
  {
   "cell_type": "code",
   "execution_count": null,
   "id": "7b3a2df5",
   "metadata": {},
   "outputs": [],
   "source": [
    "pin.off() # Ausschalten"
   ]
  },
  {
   "cell_type": "markdown",
   "id": "c71b8f93-330c-48a7-902e-4e7df1626c90",
   "metadata": {},
   "source": [
    "Das ganze noch mal nur mit einer etwas anderen Schreibweise für den Import:  \n",
    "Die Klassen der Module können auch direkt importiert werden, falls keine Probleme mit dem Speicher zu befürchten sind.\n",
    "\n",
    "Nach `from machine import Pin` kann `Pin` **ohne** das vorangestellte `machine.` verwendet werden."
   ]
  },
  {
   "cell_type": "code",
   "execution_count": null,
   "id": "7c155749-f4db-48dd-97de-862da91077af",
   "metadata": {},
   "outputs": [],
   "source": [
    "from machine import Pin\n",
    "pin = Pin(25, Pin.OUT) # 25 HelTec, 13 Croduino"
   ]
  },
  {
   "cell_type": "code",
   "execution_count": null,
   "id": "223c9cc0-fe88-48da-8330-87de8102540b",
   "metadata": {},
   "outputs": [],
   "source": [
    "pin.on()"
   ]
  },
  {
   "cell_type": "code",
   "execution_count": null,
   "id": "d4957541-2459-4479-a2cc-0a27f3c8e97f",
   "metadata": {},
   "outputs": [],
   "source": [
    "pin.off()"
   ]
  },
  {
   "cell_type": "markdown",
   "id": "24bdf5be",
   "metadata": {},
   "source": [
    "## Ein paar mal blinken\n",
    "Dafür kann z.B. die Methode `time.sleep_ms( millis )` des Moduls `time` verwendet werden:  \n",
    "der Controller macht dann `millis`-Millisekunden: **nichts**, er \"schläft\".\n",
    "Eigentlich unelegant, aber für das Erste mal sehr praktisch!"
   ]
  },
  {
   "cell_type": "code",
   "execution_count": null,
   "id": "ff3355c8",
   "metadata": {},
   "outputs": [],
   "source": [
    "import time\n",
    "\n",
    "for i in range(10):\n",
    "    if i%2==0:\n",
    "        pin.on()\n",
    "    else:\n",
    "        pin.off()\n",
    "\n",
    "    time.sleep_ms(500)\n",
    "\n",
    "print( \"DONE.\" )"
   ]
  },
  {
   "cell_type": "markdown",
   "id": "0526b21f-d87f-418d-943a-77a27b0c34e3",
   "metadata": {},
   "source": [
    "`for i in range(10):` ist neben `while` die andere Schleife von Python: `i` läuft von `0` bis `9` in ganzen Schritten.\n",
    "\n",
    "Probieren Sie folgenden Code aus, dann ist klar, dass `range` etwas mächtiger ist:"
   ]
  },
  {
   "cell_type": "code",
   "execution_count": null,
   "id": "1172bc58-9b48-44c5-89db-d7355fe54a94",
   "metadata": {},
   "outputs": [],
   "source": [
    "for i in range(5,10):\n",
    "    print( i )"
   ]
  },
  {
   "cell_type": "code",
   "execution_count": null,
   "id": "40986355-175c-4e6c-898e-3561cb50d885",
   "metadata": {},
   "outputs": [],
   "source": [
    "for i in range(10,7,-2):\n",
    "    print( i )"
   ]
  },
  {
   "cell_type": "markdown",
   "id": "c56b167c-b9b2-4e8d-9c5b-d624cd44874f",
   "metadata": {},
   "source": [
    "Vertiefende Beschreibung zur `for`-Loop z.B [w3schools.com](https://www.w3schools.com/python/python_for_loops.asp)."
   ]
  },
  {
   "cell_type": "markdown",
   "id": "c70900af-0ace-4417-babf-ca70b3091eb4",
   "metadata": {},
   "source": [
    "### Aufgaben\n",
    "1. Lassen Sie die interne LED N-mal mit der Blinkperiodendauer T blinken, wobei die Leuchtzeit D der LED in Prozent der Periodendauer T angegeben werden soll.  \n",
    "   Starten Sie mit 5-mal blinken, der Periodendauer 1 s und der Leuchtzeit 10%.\n",
    "2. Probieren Sie für N=100, T=20 jeweils D=5, 20 und 100\n",
    "3. Ändern Sie D periodisch von 0 bis 100 und wieder zurück zu 0 in 5-er Schritten um die LED 5-mal puliseren zu lassen."
   ]
  },
  {
   "cell_type": "code",
   "execution_count": null,
   "id": "0389de3c-9c6a-42d8-b726-500dfc7a5f2a",
   "metadata": {
    "tags": []
   },
   "outputs": [],
   "source": []
  },
  {
   "cell_type": "markdown",
   "id": "115329fc",
   "metadata": {
    "tags": []
   },
   "source": [
    "## Pulsweitenmodulation (PWM)\n",
    "**[Etwas Information zur PWM](../990_Grundlagen/PWM/PWM.pdf)**"
   ]
  },
  {
   "cell_type": "code",
   "execution_count": null,
   "id": "6328d762",
   "metadata": {},
   "outputs": [],
   "source": [
    "#%serialconnect --port=COM3 --baud=115200 # für Windows\n",
    "%serialconnect # für Linux\n",
    "\n",
    "from machine import PWM, Pin\n",
    "import time\n",
    "\n",
    "\n",
    "pin = PWM( Pin(25, Pin.OUT), freq=1000, duty=1000)  # 25 HelTec, 13 Croduino\n",
    "\n",
    "for iDuty in range( 1000, -1, -1 ):\n",
    "    pin.duty(iDuty)\n",
    "    time.sleep( 0.005 )\n",
    "\n",
    "pin.deinit() # falls der Pin im selbem Porgramm noch mal als on/off- Pin verwendet werden soll.\n",
    "    \n",
    "print( \"DONE.\" )\n"
   ]
  },
  {
   "cell_type": "markdown",
   "id": "97aad1f3-0b3e-4031-a10a-3e9ba0e2bab2",
   "metadata": {},
   "source": [
    "### Aufgaben\n",
    "1. Lassen Sie die LED 5 mal im 1s Takt pulsieren."
   ]
  },
  {
   "cell_type": "markdown",
   "id": "e46d0e34-d234-41eb-9cb6-142a02566488",
   "metadata": {},
   "source": [
    "---\n",
    "# Ausgabe auf dem Display\n",
    "Das OLED Display auf dem HelTec hat eine Auflösung von 128x64 Pixel.\n",
    "\n",
    "Auf die Controllern wird eine Klasse `Display` im modul `display` zur verfügung gestellt.  \n",
    "Zu beachten ist, dass erst durch die Methode `show()` die Zeichungen auf dem Display erscheinen."
   ]
  },
  {
   "cell_type": "code",
   "execution_count": null,
   "id": "98ba410e-4c3c-4703-88cf-e382204af5f3",
   "metadata": {},
   "outputs": [],
   "source": [
    "#%serialconnect --port=COM3 --baud=115200 # für Windows\n",
    "%serialconnect # für Linux\n",
    "\n",
    "from display import Display\n",
    "\n",
    "display = Display()\n",
    "\n",
    "display.fill(0) # Clear the display\n",
    "\n",
    "display.text('Hello World', 0, 0, 1)    # draw some text at x=0, y=0, colour=1\n",
    "display.hline    ( 0,20,128 )\n",
    "display.circle   ( 64,40,11 )\n",
    "display.fill_rect( 60,38,9,4 )\n",
    "for iIndex in range( 12 ):\n",
    "    display.lineP( 64,40,2*3.1415/12*iIndex,13,15 )\n",
    "\n",
    "ICON = [\n",
    "    [ 0, 0, 0, 0, 0, 0, 0, 0, 0],\n",
    "    [ 0, 1, 1, 0, 0, 0, 1, 1, 0],\n",
    "    [ 1, 1, 1, 1, 0, 1, 1, 1, 1],\n",
    "    [ 1, 1, 1, 1, 1, 1, 1, 1, 1],\n",
    "    [ 1, 1, 1, 1, 1, 1, 1, 1, 1],\n",
    "    [ 0, 1, 1, 1, 1, 1, 1, 1, 0],\n",
    "    [ 0, 0, 1, 1, 1, 1, 1, 0, 0],\n",
    "    [ 0, 0, 0, 1, 1, 1, 0, 0, 0],\n",
    "    [ 0, 0, 0, 0, 1, 0, 0, 0, 0],\n",
    "]\n",
    "\n",
    "for y, row in enumerate(ICON):\n",
    "    for x, c in enumerate(row):\n",
    "        display.pixel(x+100, y, c)\n",
    "\n",
    "display.show()\n"
   ]
  },
  {
   "cell_type": "markdown",
   "id": "c86aca1a-5ad7-4f75-9496-ad586a506151",
   "metadata": {},
   "source": [
    "## Methoden der Display-Klasse\n",
    "```Python\n",
    "from display import Display\n",
    "display = Display()\n",
    "\n",
    "display.show()              # write the contents of the FrameBuffer to display memory\n",
    "                            # means: it writes the drawing to the screen\n",
    "\n",
    "display.poweroff()          # power off the display, pixels persist in memory\n",
    "display.poweron()           # power on the display, pixels redrawn\n",
    "\n",
    "display.contrast(0)         # dim\n",
    "display.contrast(255)       # bright\n",
    "\n",
    "display.invert(1)           # display inverted\n",
    "display.invert(0)           # display normal\n",
    "\n",
    "display.rotate(True)        # rotate 180 degrees\n",
    "display.rotate(False)       # rotate 0 degrees\n",
    "\n",
    "display.setCenter( 64, 32 ) # set center of viewport to (64|32)\n",
    "\n",
    "display.fill(0)                         # fill entire screen with colour=0\n",
    "display.clear()                         # fill entire screen with colour=0\n",
    "\n",
    "display.pixel(0, 10)                    # get pixel at x=0, y=10\n",
    "display.pixel(0, 10, 1)                 # set pixel at x=0, y=10 to colour=1\n",
    "\n",
    "display.hline(0, 8, 4, 1)               # draw horizontal line x=0, y=8, width=4, colour=1\n",
    "display.vline(0, 8, 4, 1)               # draw vertical line x=0, y=8, height=4, colour=1\n",
    "display.line(0, 0, 127, 63, 1)          # draw a line from 0,0 to 127,63\n",
    "display.lineP( 10, 4, 0.5, 5, 20)       # draw a line starting from point (10|4) with angle 0.5 (rad) from radius 5 to radius 20\n",
    "\n",
    "display.rect(10, 10, 107, 43, 1)        # draw a rectangle outline 10,10 to 107,43, colour=1\n",
    "display.fill_rect(10, 10, 107, 43, 1)   # draw a solid rectangle 10,10 to 107,43, colour=1\n",
    "\n",
    "display.circle( 50, 30, 10 )            # draws circle with center (50|30) and radius 10\n",
    "display.fillCircle( 50, 30, 10 )        # draws a filled circle with center (50|30) and radius 10\n",
    "\n",
    "display.text('Hello World', 0, 0, 1)    # draw some text at x=0, y=0, colour=1\n",
    "\n",
    "display.scroll(20, 0)                   # scroll 20 pixels to the right\n",
    "\n",
    "# draw another FrameBuffer on top of the current one at the given coordinates\n",
    "import framebuf\n",
    "fbuf = framebuf.FrameBuffer(bytearray(8 * 8 * 1), 8, 8, framebuf.MONO_VLSB)\n",
    "fbuf.line(0, 0, 7, 7, 1)\n",
    "display.blit(fbuf, 10, 10, 0)           # draw on top at x=10, y=10, key=0\n",
    "\n",
    "display.show()\n",
    "```"
   ]
  },
  {
   "cell_type": "markdown",
   "id": "7e6eb7b2-5b5f-44bd-a0a3-90923a23af0f",
   "metadata": {},
   "source": [
    "## Aufgaben\n",
    "1. Erstellen Sie eine animierte analoge Uhr mit Ziffernblatt (Kreis mit 12 Stunden-Striche) und Zeigern (Stunde, Minute, Sekunde)."
   ]
  },
  {
   "cell_type": "markdown",
   "id": "878e0b44-ceb8-46b6-88e0-be96e88f1cdc",
   "metadata": {
    "tags": []
   },
   "source": [
    "---\n",
    "# Externe LED\n",
    "## Anstecken einer externen LED\n",
    "Der HelTec stellt verschiedene Möglichkeiten der Ein- und Ausgabe bereit. An den **Pin 14** soll jetzt eine externe LED angeschlossen werden.\n",
    "\n",
    "Die [Sicherheitshinweise](../020_InfosZuDenControllern/Esp32_HelTec/index.ipynb) sind unbedingt zu beachten:\n",
    "Unter anderem: maximale Ströme beim 'Esp8266 Croduino' **6 mA pro Pin**, bei den Esp32: **12 mA pro Pin**, es muss somit ein Vorwiderstand eingebaut werden (330 Ohm, bzw. 220 Ohm).\n",
    "\n",
    "Der Vorwiderstand wird mit $R = \\frac{U-U_{LED}}{I_{LED}}$ berechnet. Nähere Informationen z.B. unter [Grundlagen: LED](../990_Grundlagen/index.ipynb).\n",
    "\n",
    "## Aufgabe\n",
    "1. Schreiben Sie ein Programm, das Ihnen den Vorwiderstand bei gegebener Spannung für eine rote LED berechnet und den passenden Widerstand der [E6-er Reihe](https://www.elektronik-kompendium.de/sites/bau/1109071.htm) ausgibt.\n",
    "\n",
    "## Aufbau\n",
    "**Vor dem Anschluß an Strom: auf Kurzschlüsse, maximalen Strom und maximal _3,3 V_ an den Pins kontrollieren!**\n",
    "\n",
    "| Board           | Fritzing       | Schaltplan |\n",
    "|:---------------:|:--------------:|:----------:|\n",
    "| **HelTec WiFi LoRa 32 V2** <br>(mit Spule)| [<img src=\"resources/ExternalLED_WiFiLoRa32V2_Fritzing.png\" width=\"200\">](resources/ExternalLED_WiFiLoRa32V2_Fritzing.png) |[<img src=\"resources/ExternalLED_WiFiLoRa32V2_Schematic.png\" width=\"100\">](resources/ExternalLED_WiFiLoRa32V2_Schematic.png) |\n",
    "| **HelTec WiFi Kit 32 V2** <br> (ohne Spule) | [<img src=\"resources/ExternalLED_WiFiKit32V2_Fritzing.png\" width=\"200\">](resources/ExternalLED_WiFiKit32V2_Fritzing.png) |[<img src=\"resources/ExternalLED_WiFiKit32V2_Schematic.png\" width=\"100\">](resources/ExternalLED_WiFiKit32V2_Schematic.png) |\n",
    "| **Esp32 NodeMCU** | [<img src=\"resources/ExternalLED_Esp32NodeMCU_Fritzing.png\" width=\"200\">](resources/ExternalLED_Esp32NodeMCU_Fritzing.png) |[<img src=\"resources/ExternalLED_Esp32NodeMCU_Schematic.png\" width=\"100\">](resources/ExternalLED_Esp32NodeMCU_Schematic.png) |\n",
    "| **Croduino Esp8266** | [<img src=\"resources/ExternalLED_Esp8266CroduinoNova_Fritzing.png\" width=\"200\">](resources/ExternalLED_Esp8266CroduinoNova_Fritzing.png) |[<img src=\"resources/ExternalLED_Esp8266CroduinoNova_Schematic.png\" width=\"100\">](resources/ExternalLED_Esp8266CroduinoNova_Schematic.png) |\n"
   ]
  },
  {
   "cell_type": "code",
   "execution_count": null,
   "id": "c0d692e6-91f4-43f6-8075-7b41f2e77c53",
   "metadata": {},
   "outputs": [],
   "source": [
    "#%serialconnect --port=COM3 --baud=115200 # für Windows\n",
    "%serialconnect # für Linux\n",
    "\n",
    "from machine import Pin\n",
    "pin = Pin(14, Pin.OUT) # GP14 auf dem 'Esp32 NodeMCU'\n",
    "pin.off()"
   ]
  },
  {
   "cell_type": "code",
   "execution_count": null,
   "id": "372af032-62dc-46b9-b44c-faceab44c578",
   "metadata": {},
   "outputs": [],
   "source": [
    "pin.on()"
   ]
  },
  {
   "cell_type": "code",
   "execution_count": null,
   "id": "2706b133-32a5-4cba-8da8-5177c50966ef",
   "metadata": {},
   "outputs": [],
   "source": [
    "pin.off()"
   ]
  },
  {
   "cell_type": "markdown",
   "id": "42a4c66e-5205-401e-9379-163748ac0d18",
   "metadata": {},
   "source": [
    "### Aufgaben\n",
    "1. Schreiben Sie die Programme der internen LED für die externe LED.\n",
    "2. Immer wenn die externe LED an ist, soll die interne aus sein und umgekehrt\n",
    "3. Am Display soll der Zustand der externen LED passen angezeigt werden."
   ]
  },
  {
   "cell_type": "markdown",
   "id": "44733cc3-3ab0-4fd0-b552-b29fb1f8523d",
   "metadata": {},
   "source": [
    "---\n",
    "# Netzwerk scannen\n",
    "Genauere Informationen siehe micropython.org: [ESP32](https://docs.micropython.org/en/latest/esp32/quickref.html#networking) und\n",
    " [class WLAN](https://docs.micropython.org/en/latest/library/network.WLAN.html?highlight=wlan%20scan#network.WLAN.scan)"
   ]
  },
  {
   "cell_type": "code",
   "execution_count": null,
   "id": "fc85fb3d",
   "metadata": {},
   "outputs": [],
   "source": [
    "%serialconnect\n",
    "import network\n",
    "import time\n",
    "import socket\n",
    "\n",
    "wlan = network.WLAN(network.STA_IF) # create station interface\n",
    "wlan.active(True)                   # activate the interface\n",
    "\n",
    "nets = wlan.scan()\n",
    "\n",
    "for i in range( 1 ):\n",
    "    print( \"\\nScan...\" )\n",
    "    \n",
    "    for net in nets:\n",
    "        print( net )\n",
    "        # net = (ssid, bssid, channel, RSSI, authmode, hidden)\n",
    "        # \"bssid is hardware address of an access point in binary form,\n",
    "        # returned as bytes object. You can use binascii.hexlify() to convert it to ASCII form.\"\n",
    "        \n",
    "    time.sleep_ms(2000)\n",
    "\n",
    "print( \"\\nDONE.\" )"
   ]
  },
  {
   "cell_type": "markdown",
   "id": "fa89a2d6-a4cd-4e88-bd40-1f058a9524ee",
   "metadata": {},
   "source": [
    "## Sonstiges"
   ]
  },
  {
   "cell_type": "code",
   "execution_count": 1,
   "id": "b5bee6af-3d17-41e7-880c-9ca5e503d644",
   "metadata": {},
   "outputs": [
    {
     "name": "stdout",
     "output_type": "stream",
     "text": [
      "\u001b[34mConnecting to --port=/dev/ttyUSB1 --baud=115200 \u001b[0m\n",
      "\u001b[34mReady.\n",
      "\u001b[0mdo\n",
      "Total time: 0.001 s\n",
      "done\n",
      "[Done Timer] Total time: 0.002 s\n"
     ]
    }
   ],
   "source": [
    "# Usefull class to get elapsed time:\n",
    "\n",
    "%serialconnect\n",
    "\n",
    "import time\n",
    "\n",
    "class Timer():\n",
    "    def __init__(self, name=None):\n",
    "        self.name = name\n",
    "\n",
    "    def __enter__(self):\n",
    "        self.t_start = time.ticks_ms()\n",
    "        \n",
    "    def __exit__(self, exc_type, exc_value, exc_traceback):\n",
    "        if self.name:\n",
    "            print('[{}]'.format(self.name), end=\" \" )\n",
    "        print('Total time: {} s'.format((time.ticks_ms() - self.t_start)/1000))\n",
    "\n",
    "# Usage:        \n",
    "with Timer():\n",
    "    print( \"do\" )\n",
    "    \n",
    "with Timer( \"Done Timer\"):\n",
    "    print( \"done\" )    "
   ]
  },
  {
   "cell_type": "markdown",
   "id": "ae11737d-29ee-44f1-aaa4-395def98f130",
   "metadata": {},
   "source": [
    "## Aufgaben\n",
    "* Das Programm soll auf dem Display die gefundenen Stationen mit den zur Verfügung stehenden Informationen ausgeben und alle 5 Sekunden updaten."
   ]
  },
  {
   "cell_type": "code",
   "execution_count": null,
   "id": "9a85ea51-62ed-460c-8d07-a760257d2866",
   "metadata": {},
   "outputs": [],
   "source": []
  }
 ],
 "metadata": {
  "kernelspec": {
   "display_name": "MicroPython - USB",
   "language": "micropython",
   "name": "micropython"
  },
  "language_info": {
   "codemirror_mode": "python",
   "file_extension": ".py",
   "mimetype": "text/python",
   "name": "micropython"
  }
 },
 "nbformat": 4,
 "nbformat_minor": 5
}
