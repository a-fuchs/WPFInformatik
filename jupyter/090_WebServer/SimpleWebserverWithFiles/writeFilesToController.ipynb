{
 "cells": [
  {
   "cell_type": "markdown",
   "id": "0bce42a6-9657-4edb-ad55-c7c270e9ab20",
   "metadata": {},
   "source": [
    "# Send files to controller"
   ]
  },
  {
   "cell_type": "markdown",
   "id": "94cc6d17-8d06-4ce8-ac53-5f2a711fdd58",
   "metadata": {},
   "source": [
    "## Send all file without `main.py`"
   ]
  },
  {
   "cell_type": "code",
   "execution_count": 14,
   "id": "3a699cbd-ad0c-43ac-b20e-cff88ba80785",
   "metadata": {},
   "outputs": [],
   "source": [
    "#%serialconnect --port=COM3 # Windows\n",
    "%serialconnect # Linux or Windows with one COM port\n",
    "\n",
    "%sendtofile --source \"./index.html\"\n",
    "%sendtofile --source \"./error404.html\"\n",
    "%sendtofile --source \"./default.css\"\n",
    "%sendtofile --source \"./default.js\"\n",
    "%sendtofile --source \"./httpServer.py\"\n",
    "\n",
    "# If You want subfolders:\n",
    "# %sendtofile --mkdir --source \"./resources/default.js\" \"/resources/default.js\""
   ]
  },
  {
   "cell_type": "code",
   "execution_count": 14,
   "id": "d7fecfc5-c195-4407-a291-ece168777bbd",
   "metadata": {},
   "outputs": [],
   "source": [
    "%sendtofile --source \"./index.html\""
   ]
  },
  {
   "cell_type": "code",
   "execution_count": 14,
   "id": "8134a56c-ac4a-47a8-b43d-4571ddf40f57",
   "metadata": {},
   "outputs": [],
   "source": [
    "%sendtofile --source \"./error404.html\""
   ]
  },
  {
   "cell_type": "code",
   "execution_count": 14,
   "id": "5bc3b1c3-8bf9-4ebd-9618-e8f30c6b1076",
   "metadata": {},
   "outputs": [],
   "source": [
    "%sendtofile --source \"./default.css\""
   ]
  },
  {
   "cell_type": "code",
   "execution_count": 2,
   "id": "0dbc4fcf-0108-43e1-977f-615ef702a1ff",
   "metadata": {},
   "outputs": [
    {
     "name": "stdout",
     "output_type": "stream",
     "text": [
      "Sent 155 lines (3800 bytes) to default.js.\n"
     ]
    }
   ],
   "source": [
    "#%serialconnect --port=COM3 # Windows\n",
    "%serialconnect # Linux or Windows with one COM port\n",
    "%sendtofile --source \"./default.js\""
   ]
  },
  {
   "cell_type": "code",
   "execution_count": 14,
   "id": "c4f8897c-5793-4e5f-b3f7-7a9efa2b76ee",
   "metadata": {},
   "outputs": [
    {
     "name": "stdout",
     "output_type": "stream",
     "text": [
      "Sent 103 lines (3027 bytes) to default.js.\n"
     ]
    }
   ],
   "source": [
    "sendtofile --source \"./httpServer.py\""
   ]
  },
  {
   "cell_type": "markdown",
   "id": "84cbb98b-8cb1-4c85-afd3-a77f401cd21f",
   "metadata": {},
   "source": [
    "## Send `main.py`"
   ]
  },
  {
   "cell_type": "code",
   "execution_count": null,
   "id": "74f7e326-581b-436c-9a0e-5583b5583474",
   "metadata": {},
   "outputs": [],
   "source": [
    "#%serialconnect --port=COM3 # Windows\n",
    "%serialconnect # Linux or Windows with one COM port\n",
    "\n",
    "%sendtofile --source \"./main.py\""
   ]
  },
  {
   "cell_type": "markdown",
   "id": "57364276-f059-4fce-8f24-8e063096515b",
   "metadata": {},
   "source": [
    "# List content of all files"
   ]
  },
  {
   "cell_type": "code",
   "execution_count": 15,
   "id": "53a00847-4dec-4187-b77c-7ac16bd4ac42",
   "metadata": {},
   "outputs": [
    {
     "name": "stdout",
     "output_type": "stream",
     "text": [
      "\u001b[34mConnecting to --port=/dev/ttyUSB1 --baud=115200 \u001b[0m\n",
      "\u001b[34mReady.\n",
      "\u001b[0m#########\n",
      "./index.html\n",
      "<!DOCTYPE html>\n",
      "<html lang=\"de\">\n",
      "    <head>\n",
      "        <meta charset=\"utf-8\">\n",
      "        <title>SimpleCar</title>\n",
      "        <meta name=\"viewport\" content=\"width=device-width, initial-scale=1\">\n",
      "        <link rel=\"icon\" href=\"data:image/png;base64,iVBORw0KGgoAAAANSUhEUgAAAAEAAAABCAIAAACQd1PeAAAADElEQVQI12P4//8/AAX+Av7czFnnAAAAAElFTkSuQmCC\">\n",
      "        <link href=\"default.css\" rel=\"stylesheet\">\n",
      "        <script src=\"default.js\" defer></script>\n",
      "    </head>\n",
      "    <body>\n",
      "        <form oninput=\"sliderSpeedOutput.value=sliderSpeed.value\">\n",
      "            <p class=\"clsOutput\">Speed: <output name=\"sliderSpeedOutput\" id=\"idSliderSpeedOutput\" for=\"idSliderSpeed\">0</output></p>\n",
      "            <p><input type=\"range\" min=\"-500\" max=\"500\" class=\"slider\" name=\"sliderSpeed\" id=\"idSliderSpeed\"/></p>\n",
      "            <p><input type=\"button\" class=\"button\" id=\"idButtonStop\" value=\"Stop\"/></p>\n",
      "        </form>\n",
      "    </body>\n",
      "</html>\n",
      "#########\n",
      "./error404.html\n",
      "<!DOCTYPE html>\n",
      "<html lang=\"de\">\n",
      "    <head>\n",
      "        <meta charset=\"utf-8\">\n",
      "        <title>SimpleCar: 404, file not found</title>\n",
      "        <meta name=\"viewport\" content=\"width=device-width, initial-scale=1\">\n",
      "        <link rel=\"icon\" href=\"data:image/png;base64,iVBORw0KGgoAAAANSUhEUgAAAAEAAAABCAIAAACQd1PeAAAADElEQVQI12P4//8/AAX+Av7czFnnAAAAAElFTkSuQmCC\">\n",
      "        <script src=\"default.js\"></script>\n",
      "        <link href=\"default.css\" rel=\"stylesheet\">\n",
      "    </head>\n",
      "    <body>\n",
      "        <h1>Error 404: file not found</h1>\n",
      "    </body>\n",
      "</html>\n",
      "#########\n",
      "./default.css\n",
      "html {\n",
      "    font-family:Helvetica;\n",
      "    display:inline-block;\n",
      "    margin:0px auto;\n",
      "    text-align: center;\n",
      "}\n",
      "\n",
      ".button {\n",
      "    background-color:#4CAF50;\n",
      "    border:none;color:white;\n",
      "    padding:16px 40px;\n",
      "    text-decoration:none;\n",
      "    font-size:30px;\n",
      "    margin:2px;\n",
      "    cursor:pointer;\n",
      "}\n",
      "\n",
      ".off {\n",
      "    background-color:#555555;\n",
      "}\n",
      "\n",
      ".clsOutput {\n",
      "    font-size:30px;\n",
      "}\n",
      "\n",
      "/*\n",
      "    Only for nicer slider:\n",
      "*/\n",
      "\n",
      ".slider { width:90%;}\n",
      "input[type=range] { height: 57px; -webkit-appearance: none; margin: 10px 0; width: 100%;}\n",
      "input[type=range]:focus { outline: none; }\n",
      "input[type=range]::-webkit-slider-runnable-track { width: 100%; height: 15px; cursor: pointer; animate: 0.2s; box-shadow: 1px 1px 1px #000000; background: #3071A9; border-radius: 5px; border: 1px solid #000000;}\n",
      "input[type=range]::-webkit-slider-thumb {box-shadow: 1px 1px 4px #000000;border: 0px solid #000000;height: 50px;width: 42px;border-radius: 7px;background: #FFC94A;cursor: pointer;-webkit-appearance: none;margin-top: -18px;}\n",
      "input[type=range]:focus::-webkit-slider-runnable-track {background: #3071A9;}\n",
      "input[type=range]::-moz-range-track {width: 100%;height: 15px;cursor: pointer;animate: 0.2s;box-shadow: 1px 1px 1px #000000;background: #3071A9;border-radius: 5px;border: 1px solid #000000;}\n",
      "input[type=range]::-moz-range-thumb {box-shadow: 1px 1px 4px #000000;border: 0px solid #000000;height: 50px;width: 42px;border-radius: 7px;background: #FFC94A;cursor: pointer;}\n",
      "input[type=range]::-ms-track {width: 100%;height: 15px;cursor: pointer;animate: 0.2s;background: transparent;border-color: transparent;color: transparent;}\n",
      "input[type=range]::-ms-fill-lower {background: #3071A9;border: 1px solid #000000;border-radius: 10px;box-shadow: 1px 1px 1px #000000;}\n",
      "input[type=range]::-ms-fill-upper {background: #3071A9;border: 1px solid #000000;border-radius: 10px;box-shadow: 1px 1px 1px #000000;}\n",
      "input[type=range]::-ms-thumb {margin-top: 1px;box-shadow: 1px 1px 4px #000000;border: 0px solid #000000;height: 50px;width: 42px;border-radius: 7px;background: #FFC94A;cursor: pointer;}\n",
      "input[type=range]:focus::-ms-fill-lower {background: #3071A9;}\n",
      "input[type=range]:focus::-ms-fill-upper {background: #3071A9;}\n",
      "\n",
      "#########\n",
      "./default.js\n",
      "document.addEventListener(\n",
      "    'DOMContentLoaded',\n",
      "    function() { new RemoteControllApp(); },\n",
      "    false\n",
      ");\n",
      "  \n",
      "class RemoteControllApp\n",
      "{\n",
      "    static ROUND_N = 3;\n",
      "    \n",
      "    constructor()\n",
      "    {\n",
      "        let htmlSliderSpeed       = document.getElementById( \"idSliderSpeed\" );\n",
      "        let htmlOutputSliderSpeed = document.getElementById( \"idSliderSpeedOutput\" );\n",
      "\n",
      "        let htmlButtonStop        = document.getElementById( \"idButtonStop\" );\n",
      "\n",
      "        let iLastValueSpeed     = htmlSliderSpeed.value;\n",
      "        let bIsWaitingSpeed     = false; // only to avoid \"overload\"\n",
      "\n",
      "        htmlOutputSliderSpeed.innerHTML     = htmlSliderSpeed.value;\n",
      "\n",
      "\n",
      "        htmlButtonStop.addEventListener(\n",
      "            \"click\",\n",
      "            function() {\n",
      "                htmlSliderSpeed.value = 0;\n",
      "                htmlSliderSpeed.dispatchEvent(new Event('input', { bubbles: true }));\n",
      "            }\n",
      "        )\n",
      "\n",
      "        let objThis = this\n",
      "        \n",
      "        htmlSliderSpeed.addEventListener(\n",
      "            \"input\",\n",
      "            function( _event ) {\n",
      "                objThis.sendAjaxRequest( \"/speed/\" + _event.target.value, strResult => console.log( strResult ) );\n",
      "            }\n",
      "        )\n",
      "    }\n",
      "    \n",
      "    \n",
      "    roundn( _num, _n = JoystickApp.ROUND_N )\n",
      "    {\n",
      "        return parseFloat((Math.round(_num * 10**_n) / 10**_n).toFixed(_n));\n",
      "    }\n",
      "    \n",
      "    \n",
      "    sendAjaxRequest( _url, _responseHandler = undefined )\n",
      "    {\n",
      "        if ( this.isWaiting )\n",
      "        {\n",
      "            return\n",
      "        }\n",
      "        \n",
      "        this.isWaiting = true;\n",
      "                \n",
      "        let objThis = this;\n",
      "        \n",
      "        var xhttp = new XMLHttpRequest();\n",
      "        \n",
      "        xhttp.open( \"GET\", _url, true );\n",
      "        \n",
      "        xhttp.timeout = 2000; // time in milliseconds\n",
      "                              // In Internet Explorer, the timeout property may be set only after calling the open() method and before calling the send() method.\n",
      "        \n",
      "        xhttp.ontimeout = function ( _e ) {\n",
      "            objThis.isWaiting = false;\n",
      "        };\n",
      "            \n",
      "\n",
      "        // xhr.onload = function () { // Request finished. Do processing here. };\n",
      "\n",
      "        xhttp.onreadystatechange = function () {\n",
      "            // In local files, status is 0 upon success in Mozilla Firefox\n",
      "            \n",
      "            if ( xhttp.readyState === XMLHttpRequest.DONE ) // this.readyState == 4\n",
      "            {\n",
      "                let status = xhttp.status;\n",
      "\n",
      "                if ( status === 0 || (status >= 200 && status < 400) )\n",
      "                {\n",
      "                    // The request has been completed successfully\n",
      "                    if ( _responseHandler !== undefined )\n",
      "                    {\n",
      "                        _responseHandler( xhttp.responseText );\n",
      "                    }\n",
      "                    // console.log( \"Status \" + status  + \" Response text \" + xhttp.responseText )\n",
      "                }\n",
      "                else\n",
      "                {\n",
      "                    // Error\n",
      "                }\n",
      "                \n",
      "                objThis.isWaiting = false;\n",
      "            }\n",
      "        };\n",
      "        \n",
      "        // console.log( \"Send: \" + _url )\n",
      "        xhttp.send();\n",
      "    }    \n",
      "}\n",
      "\n",
      "\n",
      "#########\n",
      "./httpServer.py\n",
      "[Errno 2] ENOENT\n",
      "#########\n",
      "./main.py\n",
      "[Errno 2] ENOENT\n"
     ]
    }
   ],
   "source": [
    "#%serialconnect --port=COM3 # Windows\n",
    "%serialconnect # Linux or Windows with one COM port\n",
    "\n",
    "ASTR_FILE = (\"./index.html\", \"./error404.html\", \"./default.css\", \"./default.js\", \"./httpServer.py\", \"./main.py\" )\n",
    "\n",
    "for strFile in ASTR_FILE:\n",
    "    print( \"#########\" )\n",
    "    print( strFile )\n",
    "    try:\n",
    "        print( open( strFile ).read() )\n",
    "    except Exception as e:\n",
    "        print( e )\n",
    "\n"
   ]
  },
  {
   "cell_type": "markdown",
   "id": "a8eebe8c-49bc-4aef-af5c-ffc80be71dbe",
   "metadata": {},
   "source": [
    "# List directory"
   ]
  },
  {
   "cell_type": "code",
   "execution_count": 9,
   "id": "b4f349af-2fda-47d1-bf9f-08d9d7848228",
   "metadata": {},
   "outputs": [
    {
     "name": "stdout",
     "output_type": "stream",
     "text": [
      "\u001b[34mConnecting to --port=/dev/ttyUSB0 --baud=115200 \u001b[0m\n",
      "\u001b[34mReady.\n",
      "\u001b[0m['boot.py', 'display.py', 'httpServer.py', 'info.py', 'main.py', 'motor.py', 'resources', 'ssd1306.py']\n",
      "boot.py\n",
      "display.py\n",
      "httpServer.py\n",
      "info.py\n",
      "main.py\n",
      "motor.py\n",
      "resources\n",
      "ssd1306.py\n"
     ]
    }
   ],
   "source": [
    "#%serialconnect --port=COM3 # Windows\n",
    "%serialconnect # Linux or Windows with one COM port\n",
    "\n",
    "import os\n",
    "\n",
    "def lsDir( strDir, showContent = False ) :\n",
    "    files = os.listdir(strDir)\n",
    "    print( files )\n",
    "    for f in files:\n",
    "        print(f)\n",
    "        if showContent :\n",
    "            print( \"Content >>---\" )\n",
    "            print(open(f).read())\n",
    "            print( \"-----------<<\\n\" )\n",
    "            \n",
    "lsDir( \"/\" )"
   ]
  },
  {
   "cell_type": "markdown",
   "id": "201b47ba-9642-4a3d-9495-fa5c2ca2be05",
   "metadata": {},
   "source": [
    "# Delete all files"
   ]
  },
  {
   "cell_type": "code",
   "execution_count": 13,
   "id": "99e356ce-b207-4879-accb-bd3db387d2e6",
   "metadata": {},
   "outputs": [
    {
     "name": "stdout",
     "output_type": "stream",
     "text": [
      "\u001b[34mConnecting to --port=/dev/ttyUSB0 --baud=115200 \u001b[0m\n",
      "\u001b[34mReady.\n",
      "\u001b[0mDeleting file: ./index.html [Errno 2] ENOENT\n",
      "Deleting file: ./error404.html [Errno 2] ENOENT\n",
      "Deleting file: ./default.css [Errno 2] ENOENT\n",
      "Deleting file: ./default.js [Errno 2] ENOENT\n",
      "Deleting file: ./httpServer.py [Errno 2] ENOENT\n",
      "Deleting file: ./main.py [Errno 2] ENOENT\n"
     ]
    }
   ],
   "source": [
    "#%serialconnect --port=COM3 # Windows\n",
    "%serialconnect # Linux or Windows with one COM port \n",
    "\n",
    "\n",
    "import os\n",
    "\n",
    "def deleteFile( strFile ) :\n",
    "    try:\n",
    "        print( \"remove file '{}'\".format( strFile ) )\n",
    "        os.remove( strFile)\n",
    "    except Exception as _e:\n",
    "        print( _e )\n",
    "    \n",
    "def deleteDir( strDir ) :\n",
    "    files = os.listdir(strDir)\n",
    "    for f in files:\n",
    "        deleteFile( strDir + \"/\" + f )\n",
    "\n",
    "    deleteFile( strDir )\n",
    "\n",
    "  \n",
    "ASTR_FILE = (\"./index.html\", \"./error404.html\", \"./default.css\", \"./default.js\", \"./httpServer.py\", \"./main.py\" )\n",
    "\n",
    "for strFile in ASTR_FILE:\n",
    "    try:\n",
    "        print( \"Deleting file:\", strFile, end=\" \" )\n",
    "        os.remove( strFile )\n",
    "        print()\n",
    "    except Exception as _e:\n",
    "        print( _e )"
   ]
  },
  {
   "cell_type": "code",
   "execution_count": null,
   "id": "5ce1fa9a-7d97-44a1-8b79-5eef7836e17b",
   "metadata": {},
   "outputs": [],
   "source": []
  }
 ],
 "metadata": {
  "kernelspec": {
   "display_name": "MicroPython - USB",
   "language": "micropython",
   "name": "micropython"
  },
  "language_info": {
   "codemirror_mode": "python",
   "file_extension": ".py",
   "mimetype": "text/python",
   "name": "micropython"
  }
 },
 "nbformat": 4,
 "nbformat_minor": 5
}
