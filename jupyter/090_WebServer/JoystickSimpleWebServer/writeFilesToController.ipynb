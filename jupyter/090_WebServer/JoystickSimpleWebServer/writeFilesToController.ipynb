{
 "cells": [
  {
   "cell_type": "markdown",
   "id": "0bce42a6-9657-4edb-ad55-c7c270e9ab20",
   "metadata": {},
   "source": [
    "# Send files to controller"
   ]
  },
  {
   "cell_type": "markdown",
   "id": "94cc6d17-8d06-4ce8-ac53-5f2a711fdd58",
   "metadata": {},
   "source": [
    "## Send all file without `main.py`"
   ]
  },
  {
   "cell_type": "code",
   "execution_count": 2,
   "id": "3a699cbd-ad0c-43ac-b20e-cff88ba80785",
   "metadata": {},
   "outputs": [
    {
     "name": "stdout",
     "output_type": "stream",
     "text": [
      "Sent 226 lines (5856 bytes) to default.js.\n"
     ]
    }
   ],
   "source": [
    "#%serialconnect --port=COM3 # Windows\n",
    "%serialconnect # Linux or Windows with one COM port\n",
    "\n",
    "%sendtofile --source \"./index.html\"\n",
    "%sendtofile --source \"./error404.html\"\n",
    "%sendtofile --source \"./default.css\"\n",
    "%sendtofile --source \"./default.js\"\n",
    "%sendtofile --source \"./httpServer.py\"\n",
    "\n",
    "# If You want subfolders:\n",
    "# %sendtofile --mkdir --source \"./resources/default.js\" \"/resources/default.js\""
   ]
  },
  {
   "cell_type": "code",
   "execution_count": null,
   "id": "d7fecfc5-c195-4407-a291-ece168777bbd",
   "metadata": {},
   "outputs": [],
   "source": [
    "%sendtofile --source \"./index.html\""
   ]
  },
  {
   "cell_type": "code",
   "execution_count": null,
   "id": "8134a56c-ac4a-47a8-b43d-4571ddf40f57",
   "metadata": {},
   "outputs": [],
   "source": [
    "%sendtofile --source \"./error404.html\""
   ]
  },
  {
   "cell_type": "code",
   "execution_count": null,
   "id": "5bc3b1c3-8bf9-4ebd-9618-e8f30c6b1076",
   "metadata": {},
   "outputs": [],
   "source": [
    "%sendtofile --source \"./default.css\""
   ]
  },
  {
   "cell_type": "code",
   "execution_count": 3,
   "id": "0dbc4fcf-0108-43e1-977f-615ef702a1ff",
   "metadata": {},
   "outputs": [
    {
     "name": "stdout",
     "output_type": "stream",
     "text": [
      "Sent 226 lines (5857 bytes) to default.js.\n"
     ]
    }
   ],
   "source": [
    "#%serialconnect --port=COM3 # Windows\n",
    "%serialconnect # Linux or Windows with one COM port\n",
    "%sendtofile --source \"./default.js\""
   ]
  },
  {
   "cell_type": "code",
   "execution_count": null,
   "id": "c4f8897c-5793-4e5f-b3f7-7a9efa2b76ee",
   "metadata": {},
   "outputs": [],
   "source": [
    "sendtofile --source \"./httpServer.py\""
   ]
  },
  {
   "cell_type": "markdown",
   "id": "84cbb98b-8cb1-4c85-afd3-a77f401cd21f",
   "metadata": {},
   "source": [
    "## Send `main.py`"
   ]
  },
  {
   "cell_type": "code",
   "execution_count": null,
   "id": "74f7e326-581b-436c-9a0e-5583b5583474",
   "metadata": {},
   "outputs": [],
   "source": [
    "#%serialconnect --port=COM3 # Windows\n",
    "%serialconnect # Linux or Windows with one COM port\n",
    "\n",
    "%sendtofile --source \"./main.py\""
   ]
  },
  {
   "cell_type": "markdown",
   "id": "57364276-f059-4fce-8f24-8e063096515b",
   "metadata": {},
   "source": [
    "# List content of all files"
   ]
  },
  {
   "cell_type": "code",
   "execution_count": null,
   "id": "53a00847-4dec-4187-b77c-7ac16bd4ac42",
   "metadata": {},
   "outputs": [],
   "source": [
    "#%serialconnect --port=COM3 # Windows\n",
    "%serialconnect # Linux or Windows with one COM port\n",
    "\n",
    "ASTR_FILE = (\"./index.html\", \"./error404.html\", \"./default.css\", \"./default.js\", \"./httpServer.py\", \"./main.py\" )\n",
    "\n",
    "for strFile in ASTR_FILE:\n",
    "    print( \"#########\" )\n",
    "    print( strFile )\n",
    "    try:\n",
    "        print( open( strFile ).read() )\n",
    "    except Exception as e:\n",
    "        print( e )\n",
    "\n"
   ]
  },
  {
   "cell_type": "markdown",
   "id": "a8eebe8c-49bc-4aef-af5c-ffc80be71dbe",
   "metadata": {},
   "source": [
    "# List directory"
   ]
  },
  {
   "cell_type": "code",
   "execution_count": null,
   "id": "b4f349af-2fda-47d1-bf9f-08d9d7848228",
   "metadata": {},
   "outputs": [],
   "source": [
    "#%serialconnect --port=COM3 # Windows\n",
    "%serialconnect # Linux or Windows with one COM port\n",
    "\n",
    "import os\n",
    "\n",
    "def lsDir( strDir, showContent = False ) :\n",
    "    files = os.listdir(strDir)\n",
    "    print( files )\n",
    "    for f in files:\n",
    "        print(f)\n",
    "        if showContent :\n",
    "            print( \"Content >>---\" )\n",
    "            print(open(f).read())\n",
    "            print( \"-----------<<\\n\" )\n",
    "            \n",
    "lsDir( \"/\" )"
   ]
  },
  {
   "cell_type": "markdown",
   "id": "201b47ba-9642-4a3d-9495-fa5c2ca2be05",
   "metadata": {},
   "source": [
    "# Delete all files"
   ]
  },
  {
   "cell_type": "code",
   "execution_count": null,
   "id": "99e356ce-b207-4879-accb-bd3db387d2e6",
   "metadata": {},
   "outputs": [],
   "source": [
    "#%serialconnect --port=COM3 # Windows\n",
    "%serialconnect # Linux or Windows with one COM port \n",
    "\n",
    "\n",
    "import os\n",
    "\n",
    "def deleteFile( strFile ) :\n",
    "    try:\n",
    "        print( \"remove file '{}'\".format( strFile ) )\n",
    "        os.remove( strFile)\n",
    "    except Exception as _e:\n",
    "        print( _e )\n",
    "    \n",
    "def deleteDir( strDir ) :\n",
    "    files = os.listdir(strDir)\n",
    "    for f in files:\n",
    "        deleteFile( strDir + \"/\" + f )\n",
    "\n",
    "    deleteFile( strDir )\n",
    "\n",
    "  \n",
    "ASTR_FILE = (\"./index.html\", \"./error404.html\", \"./default.css\", \"./default.js\", \"./httpServer.py\", \"./main.py\" )\n",
    "\n",
    "for strFile in ASTR_FILE:\n",
    "    try:\n",
    "        print( \"Deleting file:\", strFile, end=\" \" )\n",
    "        os.remove( strFile )\n",
    "        print()\n",
    "    except Exception as _e:\n",
    "        print( _e )"
   ]
  },
  {
   "cell_type": "code",
   "execution_count": null,
   "id": "5ce1fa9a-7d97-44a1-8b79-5eef7836e17b",
   "metadata": {},
   "outputs": [],
   "source": []
  }
 ],
 "metadata": {
  "kernelspec": {
   "display_name": "MicroPython - USB",
   "language": "micropython",
   "name": "micropython"
  },
  "language_info": {
   "codemirror_mode": "python",
   "file_extension": ".py",
   "mimetype": "text/python",
   "name": "micropython"
  }
 },
 "nbformat": 4,
 "nbformat_minor": 5
}
