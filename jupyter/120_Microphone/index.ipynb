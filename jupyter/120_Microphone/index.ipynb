{
 "cells": [
  {
   "cell_type": "markdown",
   "id": "f5db822b",
   "metadata": {},
   "source": [
    "<!--\n",
    "Doc Writer email@nixdabei.de\n",
    "v0.0.1, 2021-03-23\n",
    "-->\n",
    "[Home](../index.ipynb) / Mikrofon ADMP401\n",
    "***\n",
    "# Mikrofon ADMP401\n",
    "\n",
    "* [Datenblatt ADMP401 Chip](doc/ADMP401.pdf) (Lokale Kopie), Quelle: [sparkfun.com](https://www.sparkfun.com/datasheets/Components/General/ADMP401.pdf)\n",
    "* [Schlatplan ADMP401 Breakout Board](doc/ADMP401-carrier-schematic.pdf) (Lokale Kopie), Quelle: [pololu.com](https://www.pololu.com/file/0J394/ADMP401-carrier-schematic.pdf)\n"
   ]
  },
  {
   "cell_type": "code",
   "execution_count": 38,
   "id": "2c3ef912-1219-4cd1-8d2b-0669a62aef37",
   "metadata": {},
   "outputs": [
    {
     "name": "stdout",
     "output_type": "stream",
     "text": [
      "\u001b[34mConnecting to --port=/dev/ttyUSB1 --baud=115200 \u001b[0m\n",
      "\u001b[34mReady.\n",
      "\u001b[0m"
     ]
    }
   ],
   "source": [
    "#%serialconnect --port=COM3 # Windows with more than one COM-Port\n",
    "%serialconnect # Linux / Windows with one COM-Port"
   ]
  },
  {
   "cell_type": "code",
   "execution_count": 57,
   "id": "683f2dd1-fd7c-4896-a3be-434b7550816c",
   "metadata": {},
   "outputs": [],
   "source": [
    "# Usefull class to get elapsed time:\n",
    "import time\n",
    "\n",
    "class Timer():\n",
    "    def __init__(self, name=None):\n",
    "        self.name = name\n",
    "#        self.getTime    = time.time_ns   # Python\n",
    "#        self.TIME_SCALE = 10E9\n",
    "        self.getTime    = time.ticks_ms # MicroPython\n",
    "        self.TIME_SCALE = 1000\n",
    "    def __enter__(self):\n",
    "        self.start()\n",
    "        \n",
    "    def __exit__(self, exc_type, exc_value, exc_traceback):\n",
    "        self.stop()\n",
    "\n",
    "    def start( self ):\n",
    "        self.t_start = self.getTime()\n",
    "\n",
    "    def stop( self ):\n",
    "        if self.name:\n",
    "            print('[{}]'.format(self.name), end=\" \" )\n",
    "            \n",
    "        print('Total time: {} s'.format((self.getTime() - self.t_start)/self.TIME_SCALE))"
   ]
  },
  {
   "cell_type": "code",
   "execution_count": 39,
   "id": "7cea3995-1e46-4212-b6fe-37dc38cc9a4c",
   "metadata": {},
   "outputs": [],
   "source": [
    "from math import pi, cos\n",
    "\n",
    "class WindowedRingBuffer :\n",
    "    def __init__(self,length):\n",
    "        self.length   = length\n",
    "        self.iLast    = length\n",
    "        self.aData    = [0]*length # [i for i in range( length )]\n",
    "\n",
    "        # Nuttall window, see https://en.wikipedia.org/wiki/Window_function#Hann_and_Hamming_windows\n",
    "        self.aWindow  = [0.355768-0.487396*cos(2*pi*n/length)+0.144232*cos(4*pi*n/length)-0.012604*cos(6*pi*n/length) for n in range(length)] # Hanning window\n",
    "                        # Hanning = 0.5 – 0.5*cos(2*pi * n / length )\n",
    "\n",
    "    def get(self, iIndex):\n",
    "        return self.aData[ (self.iLast + iIndex) % self.length ]*self.aWindow[ iIndex ]\n",
    "        \n",
    "    def add(self,val):\n",
    "        self.iLast = (self.iLast - 1) % self.length\n",
    "        self.aData[self.iLast] = val\n",
    "\n",
    "    def __str__(self) :\n",
    "        return( \"{} {}\".format( self.__class__, [ self.get(iIndex) for iIndex in range(self.length) ] ) )"
   ]
  },
  {
   "cell_type": "code",
   "execution_count": 40,
   "id": "d3837b1d-033b-4352-be4f-79bc0d47babf",
   "metadata": {},
   "outputs": [],
   "source": [
    "###############################################################################\n",
    "# ValueSource\n",
    "#\n",
    "# Wrapper for getting data.\n",
    "###############################################################################\n",
    "\n",
    "\n",
    "class ValueSource :\n",
    "    def getValue( self ):\n",
    "        return 0\n",
    "    \n",
    "    \n",
    "    def iter( self, length = -1 ):\n",
    "        if  length < 0 :\n",
    "            while True:\n",
    "                yield self.getValue()\n",
    "        else:\n",
    "            for iIndex in range( length ):\n",
    "                yield self.getValue()\n",
    "    \n",
    "\n",
    "#==============================================================================\n",
    "from math import cos, pi\n",
    "\n",
    "class MockValueSource( ValueSource ):\n",
    "    \n",
    "    def __init__( self, framesPerGet = 1 ):\n",
    "        self.x = 0\n",
    "        self.scale = 1000\n",
    "        self.PI2 = 2*pi\n",
    "        \n",
    "    def open( self ):\n",
    "        return self\n",
    "    \n",
    "    def close(self):\n",
    "        pass\n",
    "\n",
    "    def getValue( self ):\n",
    "        self.x+=0.01\n",
    "        if ( self.x >= self.PI2 ):\n",
    "            self.x = 0\n",
    "            \n",
    "        return int( self.scale*cos( self.x )+self.scale/2*cos( 2*self.x )+self.scale/4*cos( 4*self.x ) )\n",
    "    \n",
    "\n",
    "#==============================================================================\n",
    "# Usage:\n",
    "#N_SAMPLE = 128\n",
    "#\n",
    "#import matplotlib.pyplot as plt\n",
    "#\n",
    "#aX = [x for x in range(N_SAMPLE)]\n",
    "#with WavValueSource( 16 ) as source:\n",
    "#    aY = [ s for s in source.iter( N_SAMPLE ) ]\n",
    "#    \n",
    "## print( aY )\n",
    "#plt.figure(figsize=(20, 2))\n",
    "#plt.scatter(aX, aY, s=1, marker='o', color=\"black\" )\n",
    "#plt.show()\n",
    "    \n",
    "    "
   ]
  },
  {
   "cell_type": "code",
   "execution_count": 41,
   "id": "b6fd5f1e-1d62-41fb-b13c-65ddd15d2744",
   "metadata": {},
   "outputs": [],
   "source": [
    "import math\n",
    "\n",
    "class FFT:\n",
    "    TWO_PI = 2 * math.pi\n",
    "    \n",
    "    def __init__( self, iSamples = 128 ):\n",
    "        self.iSamples = iSamples\n",
    "        \n",
    "        self.yIn  = [0]*iSamples\n",
    "        self.xOut = [0]*iSamples\n",
    "        self.yOut = [0]*iSamples\n",
    "\n",
    "        self.bufX = WindowedRingBuffer( iSamples )\n",
    "\n",
    "    def fft( self, bufXIn, direction = 1 ):\n",
    "        n = bufXIn.length\n",
    "        factor = self.TWO_PI * direction\n",
    "\n",
    "        for i in range( n ):\n",
    "            self.xOut[i] = 0\n",
    "            self.yOut[i] = 0\n",
    "\n",
    "            arg = factor * i / n\n",
    "\n",
    "            for k in range( n ):\n",
    "                a = k * arg\n",
    "                cosarg = math.cos(a);\n",
    "                sinarg = math.sin(a);\n",
    "\n",
    "                self.xOut[i] += ( bufXIn.get(k) * cosarg - self.yIn[k] * sinarg )\n",
    "                self.yOut[i] += ( bufXIn.get(k) * sinarg + self.yIn[k] * cosarg )\n",
    "\n",
    "        return self.yOut"
   ]
  },
  {
   "cell_type": "code",
   "execution_count": 60,
   "id": "199ad660-cbd7-4bb1-8440-65a140d982db",
   "metadata": {},
   "outputs": [
    {
     "name": "stdout",
     "output_type": "stream",
     "text": [
      "64\n",
      "...............Total time: 72.955 s\n"
     ]
    }
   ],
   "source": [
    "N_SAMPLE = 2**6\n",
    "print( N_SAMPLE )\n",
    "bufferX = WindowedRingBuffer( N_SAMPLE )\n",
    "fft     = FFT( N_SAMPLE )\n",
    "\n",
    "source = MockValueSource()\n",
    "source.open()\n",
    "\n",
    "for iIndex in range( N_SAMPLE -1):\n",
    "    bufferX.add(source.getValue())\n",
    "\n",
    "with Timer():\n",
    "    for i in range( N_SAMPLE ):\n",
    "        bufferX.add(source.getValue())\n",
    "        fft.fft( bufferX )\n"
   ]
  },
  {
   "cell_type": "markdown",
   "id": "8a4fbc42-22be-475e-98ab-5cdb01e0dee0",
   "metadata": {},
   "source": [
    "## Sample"
   ]
  },
  {
   "cell_type": "code",
   "execution_count": 54,
   "id": "7e96f2c2-0747-4442-94ad-65f1e8865438",
   "metadata": {},
   "outputs": [
    {
     "name": "stdout",
     "output_type": "stream",
     "text": [
      "......\u001b[34m\n",
      "\n",
      "*** Sending Ctrl-C\n",
      "\n",
      "\u001b[0m"
     ]
    },
    {
     "name": "stderr",
     "output_type": "stream",
     "text": [
      "Traceback (most recent call last):\n",
      "  File \"<stdin>\", line 25, in <module>\n",
      "KeyboardInterrupt: \n"
     ]
    }
   ],
   "source": [
    "from machine import ADC, Pin\n",
    "import display\n",
    "display = display.Display()\n",
    "\n",
    "from time import sleep\n",
    "\n",
    "pin = Pin(33, Pin.IN, None)\n",
    "\n",
    "#adc = ADC(0)       # Croduino\n",
    "adc = ADC( pin ) # HelTec, NodeMCU\n",
    "adc.atten(ADC.ATTN_0DB)   # [1,1 V ~ 65535]\n",
    "\n",
    "\n",
    "iMax = 0\n",
    "iX = 0\n",
    "while True:\n",
    "    iValue = adc.read_u16()  # read a raw analog value in the range 0-65535 (= 2^16 - 1)\n",
    "    display.fill_rect( iX, 0, 1, 64, 0 )\n",
    "    display.vline( iX, int(64-iValue/5000*54), int(iValue/5000*54) )\n",
    "    iX = ((iX+1)%128)\n",
    "    \n",
    "    #iValue = adc.read()      # Croduino: read a raw analog value in the range 0-511 (= 2^7 - 1)\n",
    "    \n",
    "#    display.text( \"{:0>6} {:0>6}\".format(iValue,iMax), 0, 0 )\n",
    "    display.show()\n",
    "    "
   ]
  },
  {
   "cell_type": "code",
   "execution_count": null,
   "id": "3c3d85a9-940b-437e-86d8-cec9a0eab60c",
   "metadata": {},
   "outputs": [],
   "source": []
  }
 ],
 "metadata": {
  "kernelspec": {
   "display_name": "MicroPython - USB",
   "language": "micropython",
   "name": "micropython"
  },
  "language_info": {
   "codemirror_mode": "python",
   "file_extension": ".py",
   "mimetype": "text/python",
   "name": "micropython"
  },
  "toc-autonumbering": true
 },
 "nbformat": 4,
 "nbformat_minor": 5
}
