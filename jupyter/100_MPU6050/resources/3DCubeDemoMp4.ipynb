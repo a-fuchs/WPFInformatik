{
 "cells": [
  {
   "cell_type": "code",
   "execution_count": 5,
   "id": "05531733-d484-4568-979c-4cf701b42efa",
   "metadata": {},
   "outputs": [
    {
     "data": {
      "text/html": [
       "<p><a href=\"../Sample3DCube.ipynb\">Zurück</a></p>\n",
       "<video width='800' controls>\n",
       "    <source src='./3DCubeDemo.mp4'>\n",
       "</video>\n"
      ],
      "text/plain": [
       "<IPython.core.display.HTML object>"
      ]
     },
     "metadata": {},
     "output_type": "display_data"
    }
   ],
   "source": [
    "%%HTML\n",
    "<p><a href=\"../Sample3DCube.ipynb\">Zurück</a></p>\n",
    "<video width='800' controls>\n",
    "    <source src='./3DCubeDemo.mp4'>\n",
    "</video>"
   ]
  },
  {
   "cell_type": "code",
   "execution_count": null,
   "id": "9b14bc4c-dcd4-4e67-91e2-439e7d8605b5",
   "metadata": {},
   "outputs": [],
   "source": []
  }
 ],
 "metadata": {
  "kernelspec": {
   "display_name": "Python 3 (ipykernel)",
   "language": "python",
   "name": "python3"
  },
  "language_info": {
   "codemirror_mode": {
    "name": "ipython",
    "version": 3
   },
   "file_extension": ".py",
   "mimetype": "text/x-python",
   "name": "python",
   "nbconvert_exporter": "python",
   "pygments_lexer": "ipython3",
   "version": "3.9.10"
  }
 },
 "nbformat": 4,
 "nbformat_minor": 5
}
