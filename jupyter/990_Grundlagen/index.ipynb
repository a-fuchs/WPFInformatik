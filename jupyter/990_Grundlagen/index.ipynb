{
 "cells": [
  {
   "cell_type": "markdown",
   "id": "1e65cc64-e7ac-4647-a3d6-1ffad57b14ec",
   "metadata": {
    "tags": []
   },
   "source": [
    "[Home](../index.ipynb) / Grundlagen\n",
    "***\n",
    "### 1 Elektronik\n",
    "***\n",
    "1.1 Leuchtdioden (LEDs) [(Pdf)](Leuchtdiode/LED_IU-Diagramme_Internet.pdf)\n",
    "\n",
    "<img src=\"Leuchtdiode/LED_IU-Diagramme_Internet.png\" width=\"600\">\n",
    "\n",
    "***\n",
    "1.2 Pulsweitenmodulation (PWM) [(Pdf)](PWM/PWM.pdf)\n",
    "\n",
    "<img src=\"PWM/PWM.png\" width=\"600\">\n",
    "\n",
    "***\n",
    "<!-- 1.3 Motoransteuerung L293D (HBridge) [(Pdf)](HBridge/HBridge_L293D.png)\n",
    "\n",
    "<img src=\"HBridge/HBridge_L293D.png\" width=\"600\">\n",
    "\n",
    "***-->"
   ]
  },
  {
   "cell_type": "code",
   "execution_count": null,
   "id": "3f6f1188-d7de-4aee-b16e-5ab4b36c5ec2",
   "metadata": {},
   "outputs": [],
   "source": []
  }
 ],
 "metadata": {
  "kernelspec": {
   "display_name": "Python 3 (ipykernel)",
   "language": "python",
   "name": "python3"
  },
  "language_info": {
   "codemirror_mode": {
    "name": "ipython",
    "version": 3
   },
   "file_extension": ".py",
   "mimetype": "text/x-python",
   "name": "python",
   "nbconvert_exporter": "python",
   "pygments_lexer": "ipython3",
   "version": "3.9.6"
  }
 },
 "nbformat": 4,
 "nbformat_minor": 5
}
