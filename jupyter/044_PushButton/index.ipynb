{
 "cells": [
  {
   "cell_type": "markdown",
   "id": "f60b40f2-6c91-43c1-901e-35ad418ad542",
   "metadata": {},
   "source": [
    "[Home](../index.ipynb) / Push button\n",
    "***\n",
    "<span style=\"font-size:20pt;\">Push button</span>"
   ]
  },
  {
   "cell_type": "markdown",
   "id": "ba565c9c-8fe9-453a-ae42-f34f2e035bfb",
   "metadata": {},
   "source": [
    "---\n",
    "# Push button"
   ]
  },
  {
   "cell_type": "markdown",
   "id": "fa047ca5-ab32-4913-be3d-52ab16e750ca",
   "metadata": {},
   "source": [
    "## Input und Pullup-Widerstand\n",
    "\n",
    "Wir wissen: Hat ein Pin des Controllers die Nummer `pinNummer`, so kann er mit `pin = Pin( pinNummer, Pin.OUT )` als Ausgabe-Pin geschaltet werden und mit `pin.off()` eine Spannung von `0 V` und mit `pin.on()` eine Spannung von `3,3 V` ausgeben.\n",
    "\n",
    "Liegt umgekehrt eine Spannung von `0 V` bzw. `3,3 V` am diesem Pin, so wird dieser mit\n",
    "`pin = Pin( pinNummer, Pin.IN )` zum Eingabe-Pin und kann mit `pin.value()` abgefragt werden.\n",
    "\n",
    "Liegen `0 V` an (genauer: weniger als eine gewisse Schwellenspannung), so gibt `pin.value()` den Wert `0` zurück, liegen `3,3 V` am Pin, so ist der Rückgabewert die `1`.\n",
    "\n",
    "**Aufgabe**\n",
    "\n",
    "Verbinden Sie Pin 18 mit einer Seite eines Drucktasters (Push button), die andere Seite des Tasters mit Masse (GND)  \n",
    "[<img src=\"images/PushButtonOpenNoPullup.png\" width=\"120\">](images/PushButtonOpenNoPullup.png)  \n",
    "und führen Sie folgendes Programm aus."
   ]
  },
  {
   "cell_type": "code",
   "execution_count": null,
   "id": "06e59d25-3b47-4ac0-871f-990680a18ff4",
   "metadata": {},
   "outputs": [],
   "source": [
    "#%serialconnect --port=COM3 --baud=115200 # für Windows\n",
    "%serialconnect # für Linux, oder Windows mit nur einem COM-Port"
   ]
  },
  {
   "cell_type": "code",
   "execution_count": null,
   "id": "d7d3a812-eac7-4312-907f-a1211052d57a",
   "metadata": {},
   "outputs": [],
   "source": [
    "from machine import Pin\n",
    "\n",
    "btnOnOff = Pin( 18, Pin.IN  ) # HelTec: 18\n",
    "led      = Pin( 25, Pin.OUT ) # HelTec: 25\n",
    "\n",
    "while True:\n",
    "    led.on() if btnOnOff.value() == 0 else led.off()"
   ]
  },
  {
   "cell_type": "markdown",
   "id": "a58b3694-c58f-43c5-a54f-540eacffd1a2",
   "metadata": {},
   "source": [
    "**Beschreibung**\n",
    "\n",
    "`btnOnOff = Pin( 18, Pin.IN  )` definiert Pin 18 als Eingang.  \n",
    "`led      = Pin( 25, Pin.OUT )` 25 ist die Nummer der internen LED des HelTecs.\n",
    "\n",
    "Wird der Taster gedrückt, liegt der Pin `btnOnOff` auf Masse, `btnOnOff.value()` gibt also `0` zurück: die LED wird angeschaltet.\n",
    "\n",
    "Das Konstrukt `led.on() if btnOnOff.value() == 0 else led.off()` ist eine spezielle Art der Verweigung:  \n",
    "`if BEDINGUNG: Mach dies ELSE: Mach das` die so geschrieben wird:  `Mach dies if BEDINGUNG else Mach das`\n",
    "\n",
    "Jetzt gibt es ein **<span style=\"color:red\">Problem:</span>**\n",
    "\n",
    "Schon die Annäherung eines negativ statisch geladenen Gegenstandes kann den Eingang durch Influenz auf `0 V` ziehen und fälschlich\n",
    "einen gedrückten Taster vortäuschen:\n",
    "\n",
    "|||\n",
    "|---|---|\n",
    "|Taster **geschlossen**<br>Pin liegt **definiert** auf `0 V`<br>**<span style=\"color:green\">OK!</span>** |Taster **offen**<br>Spannung am Pin ist **undefiniert:**<br>**<span style=\"color:red\">Problem!</span>**|\n",
    "|[<img src=\"images/PushButtonClosedNoPullup.png\" width=\"100\">](images/PushButtonClosedNoPullup.png) |[<img src=\"images/PushButtonOpenNoPullup.png\" width=\"100\">](images/PushButtonOpenNoPullup.png)|\n",
    "\n",
    "**<span style=\"color:green\">Lösung: Pullup-Widerstand!</span>**\n",
    "\n",
    "|||\n",
    "|---|---|\n",
    "|Taster **geschlossen**<br>Pin liegt **definiert** auf `0 V`<br>**<span style=\"color:green\">OK!</span>** |Taster **offen**<br>Pin liegt **definiert** auf `3,3 V`<br>**<span style=\"color:green\">OK!</span>**|\n",
    "|[<img src=\"images/PushButtonClosedWithPullup.png\" width=\"120\">](images/PushButtonClosedWithPullup.png) |[<img src=\"images/PushButtonOpenWithPullup.png\" width=\"120\">](images/PushButtonOpenWithPullup.png)|\n"
   ]
  },
  {
   "cell_type": "markdown",
   "id": "3b239a66-05a6-4f8d-a0aa-40284ac2d2b9",
   "metadata": {},
   "source": [
    "Viele Adruino-Boards haben die Möglichkeit interne Pullup-Widerstände zu schalten, damit kann der **externe** Pullup-Widerstand entfallen:"
   ]
  },
  {
   "cell_type": "code",
   "execution_count": null,
   "id": "8c76930a-d512-4204-850a-ffdffcdeabcf",
   "metadata": {},
   "outputs": [
    {
     "name": "stdout",
     "output_type": "stream",
     "text": [
      "............."
     ]
    }
   ],
   "source": [
    "from machine import Pin\n",
    "\n",
    "btnOnOff = Pin( 18, Pin.IN, Pin.PULL_UP )\n",
    "led      = Pin( 25, Pin.OUT )\n",
    "\n",
    "while True:\n",
    "    led.on() if btnOnOff.value() == 0 else led.off()"
   ]
  },
  {
   "cell_type": "markdown",
   "id": "904a64a9-0108-4673-bdda-e8b4428a3290",
   "metadata": {},
   "source": [
    "**Beschreibung:**\n",
    "\n",
    "`Pin.PULL_UP` als dritter Parameter für den Konstruktor von `Pin`, also  \n",
    "`btnOnOff = Pin( 18, Pin.IN, Pin.PULL_UP` )` schaltet den internen Pullupwiderstand ein."
   ]
  },
  {
   "cell_type": "markdown",
   "id": "b52e69f4-3611-41e4-85c4-8a4cf13f382c",
   "metadata": {
    "tags": []
   },
   "source": [
    "## Aufgaben\n",
    "1) Statt der internen LED soll eine blaue LED an Pin 14 angeschlossen werden (**Vorwiderstand nicht vergessen!**).  \n",
    "   Wie oben soll die LED nur leuchten, solange der Taster an Pin 25 gedrückt ist.  \n",
    "   Zusätzlich soll auf dem Display der An/Aus-Zustand der LED geeignet angezeigt werden.\n",
    "2) Die LED wird mit einem Tastendruck eingeschaltet und beim nächsten Tastendruck wieder ausgeschaltet.\n",
    "3) Wird der Taster **lange** gedrückt, soll die LED, solange der Taster gedrückt ist, von ihrem aktuellen Helligkeitswert aus langsam zwischen Hell und Dunkel gedimmt werden.  \n",
    "   Bei **kurzem** Betätigen des Tasters soll die LED wie in 2) aus- bzw. auf den letzten Helligkeitswert eingeschaltet werden."
   ]
  }
 ],
 "metadata": {
  "kernelspec": {
   "display_name": "MicroPython - USB",
   "language": "micropython",
   "name": "micropython"
  },
  "language_info": {
   "codemirror_mode": "python",
   "file_extension": ".py",
   "mimetype": "text/python",
   "name": "micropython"
  },
  "toc-showtags": true
 },
 "nbformat": 4,
 "nbformat_minor": 5
}
