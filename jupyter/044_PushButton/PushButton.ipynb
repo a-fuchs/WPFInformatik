{
 "cells": [
  {
   "cell_type": "code",
   "execution_count": 1,
   "id": "9ed59fa5-13ba-4137-89bd-d0ef061c7ab8",
   "metadata": {},
   "outputs": [
    {
     "name": "stdout",
     "output_type": "stream",
     "text": [
      "\u001b[34mConnecting to --port=/dev/ttyUSB0 --baud=115200 \u001b[0m\n",
      "\u001b[34mReady.\n",
      "\u001b[0m"
     ]
    }
   ],
   "source": [
    "#%serialconnect --port=COM3 --baud=115200\n",
    "%serialconnect"
   ]
  },
  {
   "cell_type": "code",
   "execution_count": 2,
   "id": "af9c0680-d204-4412-ae9a-66e25c8a2845",
   "metadata": {},
   "outputs": [],
   "source": [
    "import time\n",
    "import machine\n",
    "\n",
    "class PushButton :\n",
    "    def __init__( self, _pinNr, _pressedValue = 0, _lTimeMillisWait = 20 ) :\n",
    "        self._pin = machine.Pin( _pinNr, machine.Pin.IN, machine.Pin.PULL_UP )\n",
    "        self._pressedValue     = _pressedValue\n",
    "        self._valueLast        = _pressedValue ^ 1 # self._pin.value() # start with not pressed\n",
    "        self._lTimeMillisWait  = _lTimeMillisWait\n",
    "        self._lTimeMillisStart = 0\n",
    "        self._bWasPressed      = False\n",
    "        self._isPressedState   = False\n",
    "        \n",
    "\n",
    "    def wasPressed( self ):\n",
    "        self.update()\n",
    "        \n",
    "        if self._bWasPressed :\n",
    "            self._bWasPressed = False\n",
    "            return True\n",
    "\n",
    "        else :\n",
    "            return False\n",
    "        \n",
    "        \n",
    "    def isDown( self ):\n",
    "        self.update()\n",
    "\n",
    "        return self._valueLast == self._pressedValue\n",
    "        \n",
    "        \n",
    "    def update( self ):    \n",
    "        \n",
    "        if self._isPressedState :\n",
    "            if time.ticks_diff(time.ticks_ms(), self._lTimeMillisStart ) > self._lTimeMillisWait:\n",
    "                valueNew = self._pin.value()\n",
    "                \n",
    "                if valueNew == self._pressedValue :\n",
    "                    if valueNew != self._valueLast :\n",
    "                        self._bWasPressed = True\n",
    "                else :\n",
    "                    self._isPressedState = False\n",
    "                \n",
    "                self._valueLast = valueNew\n",
    "                \n",
    "        else :\n",
    "            if self._pin.value() != self._valueLast :\n",
    "                self._isPressedState = True\n",
    "                self._lTimeMillisStart = time.ticks_ms()"
   ]
  },
  {
   "cell_type": "code",
   "execution_count": 6,
   "id": "20e57de1-203a-4b6a-b993-fc816a1b63a9",
   "metadata": {},
   "outputs": [
    {
     "name": "stdout",
     "output_type": "stream",
     "text": [
      "Please press the button...\n",
      ".Button was pressed!\n"
     ]
    }
   ],
   "source": [
    "# Sample\n",
    "btnBreak = PushButton( 18 )\n",
    "print( \"Please press the button...\" )\n",
    "\n",
    "while not btnBreak.wasPressed():\n",
    "    pass\n",
    "\n",
    "print( \"Button was pressed!\" )"
   ]
  },
  {
   "cell_type": "code",
   "execution_count": null,
   "id": "10b983d6-5a3f-40ad-ac27-ca298ad213f4",
   "metadata": {},
   "outputs": [],
   "source": []
  }
 ],
 "metadata": {
  "kernelspec": {
   "display_name": "MicroPython - USB",
   "language": "micropython",
   "name": "micropython"
  },
  "language_info": {
   "codemirror_mode": "python",
   "file_extension": ".py",
   "mimetype": "text/python",
   "name": "micropython"
  }
 },
 "nbformat": 4,
 "nbformat_minor": 5
}
