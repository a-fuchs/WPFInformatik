{
 "cells": [
  {
   "cell_type": "markdown",
   "id": "0d0b6e0a-fc2b-45ed-984e-05088abbdda7",
   "metadata": {},
   "source": [
    "<!--\n",
    "Doc Writer email@nixdabei.de\n",
    "v0.0.1, 2022-02-19\n",
    "-->\n",
    "[Home](../index.ipynb) / Servo\n",
    "***\n",
    "# Servo\n",
    "Sources: [docs.micropython.org](https://docs.micropython.org/en/latest/esp8266/quickref.html#pwm-pulse-width-modulation) and [techawarey.com](http://techawarey.com/programming/micropython/servo-motor-control-using-micropython/)\n",
    "\n",
    "***\n",
    "\n",
    "| Farbe | Aufgabe |\n",
    "| --- | --- |\n",
    "| Braun | Masse/Ground |\n",
    "| Rot | Power |\n",
    "| Orange/Gelb | Signal |"
   ]
  },
  {
   "cell_type": "code",
   "execution_count": 74,
   "id": "fdea7b7e-d06a-440d-b82e-0ec640359f4e",
   "metadata": {},
   "outputs": [
    {
     "name": "stdout",
     "output_type": "stream",
     "text": [
      "serial exception on close write failed: [Errno 5] Input/output error\n",
      "\u001b[34mConnecting to --port=/dev/ttyUSB7 --baud=115200 \u001b[0m\n",
      "\u001b[34mReady.\n",
      "\u001b[0m"
     ]
    }
   ],
   "source": [
    "%serialconnect #--port=COM3 # Windows with more than one COM-Port"
   ]
  },
  {
   "cell_type": "code",
   "execution_count": 75,
   "id": "362b3f04-f460-4c9a-b441-7fc508a5c628",
   "metadata": {},
   "outputs": [],
   "source": [
    "from machine import Pin, PWM\n",
    "import time"
   ]
  },
  {
   "cell_type": "code",
   "execution_count": 80,
   "id": "83fe9287-e4d0-45ce-8ef2-70db4cc4f36b",
   "metadata": {},
   "outputs": [],
   "source": [
    "#servo = PWM(Pin(14)) # 50 Hz: standard value for servos\n",
    "servo = PWM(Pin(14))\n",
    "servo.init(freq=1, duty=256)\n"
   ]
  },
  {
   "cell_type": "code",
   "execution_count": 81,
   "id": "377813b8-af01-4d87-98f5-6eeec4bc23e3",
   "metadata": {},
   "outputs": [
    {
     "name": "stdout",
     "output_type": "stream",
     "text": [
      "PWM(Pin(14), freq=1, duty=256, resolution=19, (duty=25.00%, resolution=0.000%), mode=0, channel=0, timer=0)\n"
     ]
    }
   ],
   "source": [
    "servo.duty( 1023 )\n",
    "print( servo )"
   ]
  },
  {
   "cell_type": "code",
   "execution_count": 8,
   "id": "d8e01bd5-a8aa-4732-a4c9-f5617cd3cbd8",
   "metadata": {},
   "outputs": [
    {
     "name": "stdout",
     "output_type": "stream",
     "text": [
      ".\u001b[34m\n",
      "\n",
      "*** Sending Ctrl-C\n",
      "\n",
      "\u001b[0m"
     ]
    },
    {
     "name": "stderr",
     "output_type": "stream",
     "text": [
      "Traceback (most recent call last):\n",
      "  File \"<stdin>\", line 18, in <module>\n",
      "KeyboardInterrupt: \n"
     ]
    }
   ],
   "source": [
    "DELAY_MILLIS = 20\n",
    "step = 1\n",
    "angleMin = 18 #40 # 18 # 40\n",
    "angleMax = 132 #115\n",
    "\n",
    "servo.duty( int( (angleMin + angleMax)/2 ) )\n",
    "time.sleep_ms(2000)\n",
    "\n",
    "servo.duty( angleMin )\n",
    "time.sleep_ms(2000)\n",
    "\n",
    "servo.duty( angleMax )\n",
    "time.sleep_ms(2000)\n",
    "\n",
    "for i in range( 5 ):\n",
    "    for duty in range (angleMin, angleMax, step):\n",
    "        servo.duty( duty )\n",
    "        time.sleep_ms(DELAY_MILLIS)\n",
    "    step *= -1\n",
    "    for duty in range (angleMax, angleMin, step):\n",
    "        servo.duty( duty )\n",
    "        time.sleep_ms(DELAY_MILLIS)\n",
    "\n",
    "print( \"Done\" )"
   ]
  },
  {
   "cell_type": "code",
   "execution_count": 125,
   "id": "0459383d-dab1-41fa-b91b-9452180b7638",
   "metadata": {},
   "outputs": [],
   "source": [
    "#led = PWM(Pin(15), freq=1)\n",
    "servo.duty( int(1023/20*1.5) )"
   ]
  },
  {
   "cell_type": "code",
   "execution_count": 126,
   "id": "966d0a93-52bf-4b3b-a846-f7d5db325793",
   "metadata": {},
   "outputs": [
    {
     "name": "stdout",
     "output_type": "stream",
     "text": [
      "PWM(14, freq=50, duty=17)\n"
     ]
    }
   ],
   "source": [
    "servo.duty( int(1023/20*0.35) )\n",
    "print( servo )"
   ]
  },
  {
   "cell_type": "code",
   "execution_count": 127,
   "id": "008b8316-fbb0-4ada-92b2-df02ad3d2b11",
   "metadata": {},
   "outputs": [
    {
     "name": "stdout",
     "output_type": "stream",
     "text": [
      "PWM(14, freq=50, duty=132)\n"
     ]
    }
   ],
   "source": [
    "servo.duty( int(1023/20*2.6) )\n",
    "print( servo )"
   ]
  }
 ],
 "metadata": {
  "kernelspec": {
   "display_name": "MicroPython - USB",
   "language": "micropython",
   "name": "micropython"
  },
  "language_info": {
   "codemirror_mode": "python",
   "file_extension": ".py",
   "mimetype": "text/python",
   "name": "micropython"
  }
 },
 "nbformat": 4,
 "nbformat_minor": 5
}
