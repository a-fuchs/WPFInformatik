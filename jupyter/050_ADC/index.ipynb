{
 "cells": [
  {
   "cell_type": "markdown",
   "id": "51067121-f9c6-498a-a95e-1ecc9d445425",
   "metadata": {},
   "source": [
    "[Home](../index.ipynb) / ADC-Wandler\n",
    "***\n",
    "<span style=\"font-size:20pt;\">ADC-Wandler</span>"
   ]
  },
  {
   "cell_type": "markdown",
   "id": "bf308470-49a0-4359-b17b-2f1e77003d89",
   "metadata": {
    "tags": []
   },
   "source": [
    "# ADC-Wandler\n",
    "## Grundlagen\n",
    "Die Controller besitzten einen Analog-Digital-Wandler (ADC) der Spannungen in Zahlen umwandelt:  \n",
    "Beim ESP32 entpricht $0 V$ dem Wert $0$ und $3,3 V$ dem Wert $65535 = 2^{16} - 1$\n",
    "\n",
    "<span style=\"color:red\">**Achtung:**</span>\n",
    "* ESP32, also HelTec und NodeMCU: es darf <span style=\"color:red\">**nie** eine Spannung **> 3,3 V**</span> an einen Pin angelegt werden!  \n",
    "  Besonders <span style=\"color:red\">**gefährlich:**</span> der 5 V Pin und der 3,3 V Pin liegen direkt nebeneinander!\n",
    "* Esp8266, also Croduino: am **Pin A** darf <span style=\"color:red\">**nie** eine Spannung **> 1,0 V**</span> angelegt werden, am **Pin A_e** <span style=\"color:red\">**nie** eine Spannung **> 5,0 V**</span>!\n",
    "\n",
    "### Spannungsverläufe messen\n",
    "(HelTec, NodeMCU mit `ADC.ATTN_11DB`)\n",
    "\n",
    "[<img src=\"images/ADC_Principle.png\" width=\"400\">](images/ADC_Principle.png)\n",
    "\n",
    "Genaueres zur Funktionsweise von ADCs siehe z.B. [Wikipedia](https://de.wikipedia.org/wiki/Analog-Digital-Umsetzer).\n",
    "\n",
    "### HeltTec, NodeMCU\n",
    "**Pins mit ADC:**  \n",
    "Beim ESP32 ist ADC an den Pins 32-39 (ADC Block 1) and den Pins 0, 2, 4, 12-15 und 25-27 (ADC Block 2) verfügbar.  \n",
    "Details siehe [micropython.org: ADC](https://docs.micropython.org/en/latest/esp32/quickref.html#adc-analog-to-digital-conversion).   \n",
    "\n",
    "**Messwerte:**  \n",
    "$0$ entspricht $0 V$ bezüglich `GND` und $2^{16} -1 \\,=\\, 65535$ entspricht der **internen Referenzspannung** von $1,1 \\pm 0,1V$ bei $0\\, dB$ Dämpfung.  \n",
    "Für andere Messbereiche kann die **Dämpfung** (engl. Attenuation) gesetzt werden, so dass sich der Messbereich bis auf $3,3 V$ erweitern lässt.\n",
    "<!--\n",
    "* $0 \\; dB \\Rightarrow \\; 1,1 V\\; \\mathrel{\\hat{=}} \\;65535$\n",
    "* $2.5 \\; dB \\Rightarrow \\; 1,4669 V\\; \\mathrel{\\hat{=}} \\;65535$\n",
    "* $6 \\; dB \\Rightarrow \\; 2,1979 V\\; \\mathrel{\\hat{=}} \\;65535$\n",
    "* $11 \\; dB \\Rightarrow \\; 3,9029 V\\; \\mathrel{\\hat{=}} \\;65535$\n",
    "\n",
    "Formeln für die Dämpfung $a$ in $dB$ (dezi Bel):\n",
    "* Spannung: $a \\, =\\, 20 \\cdot log_{10} \\left(\\frac{U_{in}}{U_{out}}\\right)$  \n",
    "* Strom: $a \\, =\\, 20 \\cdot log_{10} \\left(\\frac{I_{in}}{I_{out}}\\right)$  \n",
    "* Leistung: $a \\, =\\, 10 \\cdot log_{10} \\left(\\frac{P_{in}}{P_{out}}\\right)$  \n",
    "-->\n",
    "\n",
    "**Typischer Code:**  \n",
    "```python\n",
    "adc = ADC(Pin(32)) # HelTec, NodeMCU\n",
    "# adc.atten(ADC.ATTN_0DB)   # [1,1 V ~ 65535] (default Wert) (eigene Messungen)\n",
    "# adc.atten(ADC.ATTN_2_5DB) # [1,5 V ~ 65535]\n",
    "# adc.atten(ADC.ATTN_6DB)   # [2,3 V ~ 65535] (eigene Messungen)\n",
    "adc.atten(ADC.ATTN_11DB)    # [3,3 V ~ 65535] (eigene Messungen)\n",
    "iValue = adc.read_u16()\n",
    "```\n",
    "\n",
    "Achtung: Laut [micropython.org: ADC](https://docs.micropython.org/en/latest/esp32/quickref.html#adc-analog-to-digital-conversion) sollte auch\n",
    "`adc = ADC(Pin(32), atten=ADC.ATTN_11DB)` klappen, aber das hat (2022-02-20) keinen Effekt).\n",
    "\n",
    "### Esp8266 Croduino\n",
    "**Pins mit ADC:**  \n",
    "Beim Esp8266 Croduino sind es die Pins A (1,0V) und A_e (5,0V) mit 7 Bit Auflösung.  \n",
    "Details siehe [micropython.org: ADC](https://docs.micropython.org/en/latest/esp8266/quickref.html#adc-analog-to-digital-conversion).\n",
    "\n",
    "\n"
   ]
  },
  {
   "cell_type": "markdown",
   "id": "ba0198ce-f0a4-4799-a52c-48bec578a5b2",
   "metadata": {},
   "source": [
    "## Beispielprogramm"
   ]
  },
  {
   "cell_type": "code",
   "execution_count": null,
   "id": "2f687a36-6b08-4135-8368-ae104680eb28",
   "metadata": {},
   "outputs": [
    {
     "name": "stdout",
     "output_type": "stream",
     "text": [
      "\u001b[34mConnecting to --port=/dev/ttyUSB0 --baud=115200 \u001b[0m\n",
      "\u001b[34mReady.\n",
      "\u001b[0m."
     ]
    }
   ],
   "source": [
    "%serialconnect\n",
    "\n",
    "from machine import ADC, Pin\n",
    "import display\n",
    "display = display.Display()\n",
    "\n",
    "from time import sleep\n",
    "\n",
    "#adc = ADC(0)       # Croduino\n",
    "adc = ADC(Pin(32)) # HelTec, NodeMCU\n",
    "adc.atten(ADC.ATTN_11DB)   # [3,3 V ~ 65535]\n",
    "\n",
    "\n",
    "while True:\n",
    "    display.clear()\n",
    "    \n",
    "    iValue = adc.read_u16()  # read a raw analog value in the range 0-65535 (= 2^16 - 1)\n",
    "    #iValue = adc.read()      # Croduino: read a raw analog value in the range 0-511 (= 2^7 - 1)\n",
    "    \n",
    "    display.text( str(iValue), 0, 0 )\n",
    "    display.show()\n",
    "    "
   ]
  },
  {
   "cell_type": "markdown",
   "id": "af2cef9b-340a-4094-8aad-7798b45b2462",
   "metadata": {},
   "source": [
    "Wenn Sie nun den Pin 32 auf $0 V$ oder $3,3 V$ setzten, wird entweder $0$ oder $65535$ angezeigt."
   ]
  },
  {
   "cell_type": "markdown",
   "id": "8e395ede-b45c-4b7f-9fdd-3371dc18f4cb",
   "metadata": {},
   "source": [
    "# Dimmerschaltung mit Photowiderstand\n",
    "\n",
    "## Motivation\n",
    "[<img src=\"images/NachtflugverbotTornadosZeit.png\" width=\"480\">](images/NachtflugverbotTornadosZeit.png)"
   ]
  },
  {
   "cell_type": "markdown",
   "id": "11a6b9b6-b252-48e2-af67-016352ce9b03",
   "metadata": {},
   "source": [
    "## Aufgabe\n",
    "Mit einem Arduino kompatiblen Board soll eine automatische Dimmerschaltung entwickelt werden die obiges Problem behebt:  \n",
    "die Beleuchtung soll bei weniger Umgebungslicht automatisch schwächer werden."
   ]
  },
  {
   "cell_type": "markdown",
   "id": "2c06cb8a-b962-4921-bd04-e43bc364229b",
   "metadata": {},
   "source": [
    "### Photowiderstand\n",
    "Die Messung der Umgebungshelligkeit kann z.B. mit einem Fotowiderstand (**LDR** für **L**ight **D**ependent **R**esistor) <img src=\"images/PhotoResistor.png\" width=\"50\"> erfolgen:  \n",
    "der vom Set weist bei Dunkelheit einen Widerstand von etwa $10 kΩ$ auf und bei Tageslicht einen Widerstand von etwa $1 kΩ$ (je nach Typ).\n",
    "\n",
    "### Spannungsteiler\n",
    "Widerstände kann der Arduino nicht messen, also wird ein Spannungsteiler verwendet, damit aus dem Strom durch den LDR eine messbare Spannung wird:\n",
    "\n",
    "[<img src=\"images/Spannungsteiler_R.png\" width=\"160\">](images/Spannungsteiler_R.png)\n",
    "\n",
    "Im Spannungsteiler mit $U\\,=\\,U_1 + U_2$ gilt: durch $R_1$ und $R_2$ fließt der Strom $I$ und es gilt: $\\frac{R_1}{R_2}\\,=\\,\\frac{U_1}{U_2}$.\n",
    "\n",
    "Mit dem LDR ergibt sich dann folgende Schaltung:\n",
    "\n",
    "[<img src=\"images/Spannungsteiler_LDR.png\" width=\"200\">](images/Spannungsteiler_LDR.png)\n",
    "\n",
    "Hier entspricht der Photowiderstand $R_2$ und der Widerstand entspricht $R_1$."
   ]
  },
  {
   "cell_type": "markdown",
   "id": "9fcf3aa5-cfb0-4c20-a253-31f81acf0a00",
   "metadata": {},
   "source": [
    "### Arbeitsauftrag\n",
    "Die Beleuchtung soll durch eine externe blaue LED realisiert werden, der Umgebungshelligkeitssensor mit einem LDR.\n",
    "\n",
    "Die minimale und die maximale Helligkeit sollen jeweils über eine Variable festgelegt werden (sie sollen später mit einem Rotary-Encoder eingestellt werden können)."
   ]
  },
  {
   "cell_type": "code",
   "execution_count": null,
   "id": "f5459c31-b02a-4707-b4db-c724f8a3233c",
   "metadata": {},
   "outputs": [],
   "source": []
  }
 ],
 "metadata": {
  "kernelspec": {
   "display_name": "MicroPython - USB",
   "language": "micropython",
   "name": "micropython"
  },
  "language_info": {
   "codemirror_mode": "python",
   "file_extension": ".py",
   "mimetype": "text/python",
   "name": "micropython"
  },
  "toc-autonumbering": true
 },
 "nbformat": 4,
 "nbformat_minor": 5
}
