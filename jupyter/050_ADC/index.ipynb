{
 "cells": [
  {
   "cell_type": "markdown",
   "id": "51067121-f9c6-498a-a95e-1ecc9d445425",
   "metadata": {},
   "source": [
    "[Home](../index.ipynb) / ADC-Wandler\n",
    "***\n",
    "<span style=\"font-size:20pt;\">ADC-Wandler</span>"
   ]
  },
  {
   "cell_type": "markdown",
   "id": "bf308470-49a0-4359-b17b-2f1e77003d89",
   "metadata": {
    "tags": []
   },
   "source": [
    "# ADC-Wandler\n",
    "## Grundlagen\n",
    "Die Controller besitzten einen Analog-Digital-Wandler (ADC) der Spannungen in Zahlen umwandelt:  \n",
    "Beim ESP32 entpricht $0 V$ dem Wert $0$ und $3,3 V$ dem Wert $65535 = 2^{16} - 1$\n",
    "\n",
    "<span style=\"color:red\">**Achtung:**</span>\n",
    "* ESP32, also HelTec und NodeMCU: es darf <span style=\"color:red\">**nie** eine Spannung **> 3,3 V**</span> an einen Pin angelegt werden!  \n",
    "  Besonders <span style=\"color:red\">**gefährlich:**</span> der 5 V Pin und der 3,3 V Pin liegen direkt nebeneinander!\n",
    "* Esp8266, also Croduino: am **Pin A** darf <span style=\"color:red\">**nie** eine Spannung **> 1,0 V**</span> angelegt werden, am **Pin A_e** <span style=\"color:red\">**nie** eine Spannung **> 5,0 V**</span>!\n",
    "\n",
    "\n",
    "**Pins mit ADC:**\n",
    "* Beim ESP32 ist ADC an den Pins 32-39 (ADC Block 1) and den Pins 0, 2, 4, 12-15 und 25-27 (ADC Block 2) verfügbar.  \n",
    "  Details siehe [micropython.org: ADC](https://docs.micropython.org/en/latest/esp32/quickref.html#adc-analog-to-digital-conversion).\n",
    "* Beim Esp8266 Croduino sind es die Pins A (1,0V) und A_e (5,0V) mit 7 Bit Auflösung.  \n",
    "  Details siehe [micropython.org: ADC](https://docs.micropython.org/en/latest/esp8266/quickref.html#adc-analog-to-digital-conversion).\n",
    "\n",
    "\n",
    "**Prinzip:**\n",
    "\n",
    "[<img src=\"images/ADC_Principle.png\" width=\"400\">](images/ADC_Principle.png)\n",
    "\n",
    "Genaueres zur Funktionsweise von ADCs siehe z.B. [Wikipedia](https://de.wikipedia.org/wiki/Analog-Digital-Umsetzer)."
   ]
  },
  {
   "cell_type": "markdown",
   "id": "ba0198ce-f0a4-4799-a52c-48bec578a5b2",
   "metadata": {},
   "source": [
    "## Beispielprogramm"
   ]
  },
  {
   "cell_type": "code",
   "execution_count": null,
   "id": "2f687a36-6b08-4135-8368-ae104680eb28",
   "metadata": {},
   "outputs": [],
   "source": [
    "from machine import ADC, Pin\n",
    "import display\n",
    "display = display.Display()\n",
    "\n",
    "from time import sleep\n",
    "\n",
    "adc = ADC(Pin(32)) # HelTec, NodeMCU\n",
    "#adc = ADC(0)       # Croduino\n",
    "\n",
    "while True:\n",
    "    display.clear()\n",
    "    \n",
    "    iValue = adc.read_u16()  # read a raw analog value in the range 0-65535 (= 2^16 - 1)\n",
    "    #iValue = adc.read()      # Croduino: read a raw analog value in the range 0-511 (= 2^7 - 1)\n",
    "    \n",
    "    display.text( str(iValue), 0, 0 )\n",
    "    display.show()\n",
    "    "
   ]
  },
  {
   "cell_type": "markdown",
   "id": "af2cef9b-340a-4094-8aad-7798b45b2462",
   "metadata": {},
   "source": [
    "Wenn Sie nun den Pin 32 auf $0 V$ oder $3,3 V$ setzten, wird entweder $0$ oder $65535$ angezeigt."
   ]
  },
  {
   "cell_type": "markdown",
   "id": "8e395ede-b45c-4b7f-9fdd-3371dc18f4cb",
   "metadata": {},
   "source": [
    "# Dimmerschaltung mit Photowiderstand\n",
    "\n",
    "## Motivation\n",
    "[<img src=\"images/NachtflugverbotTornadosZeit.png\" width=\"480\">](images/NachtflugverbotTornadosZeit.png)"
   ]
  },
  {
   "cell_type": "markdown",
   "id": "11a6b9b6-b252-48e2-af67-016352ce9b03",
   "metadata": {},
   "source": [
    "## Aufgabe\n",
    "Mit einem Arduino kompatiblen Board soll eine automatische Dimmerschaltung entwickelt werden die obiges Problem behebt:  \n",
    "die Beleuchtung soll bei weniger Umgebungslicht automatisch schwächer werden."
   ]
  },
  {
   "cell_type": "markdown",
   "id": "2c06cb8a-b962-4921-bd04-e43bc364229b",
   "metadata": {},
   "source": [
    "### Photowiderstand\n",
    "Die Messung der Umgebungshelligkeit kann z.B. mit einem Fotowiderstand (**LDR** für **L**ight **D**ependent **R**esistor) <img src=\"images/PhotoResistor.png\" width=\"50\"> erfolgen:  \n",
    "der vom Set weist bei Dunkelheit einen Widerstand von etwa $10 kΩ$ auf und bei Tageslicht einen Widerstand von etwa $1 kΩ$ (je nach Typ).\n",
    "\n",
    "### Spannungsteiler\n",
    "Widerstände kann der Arduino nicht messen, also wird ein Spannungsteiler verwendet, damit aus dem Strom durch den LDR eine messbare Spannung wird:\n",
    "\n",
    "[<img src=\"images/Spannungsteiler_R.png\" width=\"160\">](images/Spannungsteiler_R.png)\n",
    "\n",
    "Im Spannungsteiler mit $U\\,=\\,U_1 + U_2$ gilt: durch $R_1$ und $R_2$ fließt der Strom $I$ und es gilt: $\\frac{R_1}{R_2}\\,=\\,\\frac{U_1}{U_2}$.\n",
    "\n",
    "Mit dem LDR ergibt sich dann folgende Schaltung:\n",
    "\n",
    "[<img src=\"images/Spannungsteiler_LDR.png\" width=\"200\">](images/Spannungsteiler_LDR.png)\n",
    "\n",
    "Hier entspricht der Photowiderstand $R_2$ und der Widerstand entspricht $R_1$."
   ]
  },
  {
   "cell_type": "markdown",
   "id": "9fcf3aa5-cfb0-4c20-a253-31f81acf0a00",
   "metadata": {},
   "source": [
    "### Arbeitsauftrag\n",
    "Die Beleuchtung soll durch eine externe blaue LED realisiert werden, der Umgebungshelligkeitssensor mit einem LDR.\n",
    "\n",
    "Die minimale und die maximale Helligkeit sollen jeweils über eine Variable festgelegt werden (sie sollen später mit einem Rotary-Encoder eingestellt werden können)."
   ]
  }
 ],
 "metadata": {
  "kernelspec": {
   "display_name": "MicroPython - USB",
   "language": "micropython",
   "name": "micropython"
  },
  "language_info": {
   "codemirror_mode": "python",
   "file_extension": ".py",
   "mimetype": "text/python",
   "name": "micropython"
  },
  "toc-autonumbering": true
 },
 "nbformat": 4,
 "nbformat_minor": 5
}
