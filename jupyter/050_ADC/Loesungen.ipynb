{
 "cells": [
  {
   "cell_type": "markdown",
   "id": "f5db822b",
   "metadata": {},
   "source": [
    "[Home](../index.ipynb) / ADC-Wandler\n",
    "***\n",
    "<span style=\"font-size:20pt;\">ADC-Wandler</span>"
   ]
  },
  {
   "cell_type": "markdown",
   "id": "5b45f25c-0160-4078-a454-07802819c162",
   "metadata": {},
   "source": [
    "---\n",
    "# Lösungsvorschlag"
   ]
  },
  {
   "cell_type": "markdown",
   "id": "c70900af-0ace-4417-babf-ca70b3091eb4",
   "metadata": {},
   "source": [
    "## Aufgabe\n",
    "* Mit einem Arduino kompatiblen Board soll eine automatische Dimmerschaltung entwickelt werden die obiges Problem behebt:  \n",
    "  die Beleuchtung soll bei weniger Umgebungslicht automatisch schwächer werden.\n",
    "* Die Beleuchtung soll durch eine externe blaue LED realisiert werden, der Umgebungshelligkeitssensor mit einem LDR.  \n",
    "  Die minimale und die maximale Helligkeit sollen jeweils über eine Variable festgelegt werden (sie sollen später mit einem Rotary-Encoder eingestellt werden können)."
   ]
  },
  {
   "cell_type": "code",
   "execution_count": null,
   "id": "7f362197-f5d5-4e2a-bbb6-48435b81923f",
   "metadata": {},
   "outputs": [],
   "source": [
    "#######################################\n",
    "# Automatic dimmer\n",
    "#######################################\n",
    "\n",
    "%serialconnect\n",
    "# --port=COM3 # for Windows with more than one COM port\n",
    "\n",
    "#======================================\n",
    "# Constants:\n",
    "\n",
    "PIN_ADC = 32\n",
    "PIN_LED = 14\n",
    "\n",
    "#--------------------------------------\n",
    "\n",
    "FREQUENCY = 1000\n",
    "\n",
    "VALUE_MIN = 65536/2\n",
    "VALUE_MAX =     0\n",
    "\n",
    "LED_DUTY_MIN = 20\n",
    "LED_DUTY_MAX = FREQUENCY\n",
    "\n",
    "\n",
    "#--------------------------------------\n",
    "\n",
    "VALUE2DUTY_M = (LED_DUTY_MAX-LED_DUTY_MIN)/(VALUE_MAX-VALUE_MIN)\n",
    "VALUE2DUTY_T = LED_DUTY_MIN - VALUE2DUTY_M * VALUE_MIN\n",
    "\n",
    "\n",
    "#======================================\n",
    "# init ADC and LED\n",
    "\n",
    "from machine import ADC, PWM, Pin\n",
    "\n",
    "#adc = ADC(0)       # Croduino\n",
    "adc = ADC(Pin(PIN_ADC) ) # HelTec, NodeMCU\n",
    "adc.atten(ADC.ATTN_6DB)\n",
    "\n",
    "\n",
    "pinLED = PWM( Pin(PIN_LED, Pin.OUT), freq=FREQUENCY, duty=LED_DUTY_MIN)\n",
    "\n",
    "\n",
    "#======================================\n",
    "# Loop \"forever\"\n",
    "\n",
    "\n",
    "iDutyLast = LED_DUTY_MIN\n",
    "\n",
    "try:\n",
    "    while True:\n",
    "        iValue = adc.read_u16()  # read a raw analog value in the range 0-65535 (= 2^16 - 1)\n",
    "        #iValue = adc.read()      # Croduino: read a raw analog value in the range 0-511 (= 2^7 - 1)\n",
    "        \n",
    "        iDuty = VALUE2DUTY_M * iValue + VALUE2DUTY_T\n",
    "        \n",
    "        if   iDuty < LED_DUTY_MIN : iDuty = LED_DUTY_MIN\n",
    "        elif iDuty > LED_DUTY_MAX : iDuty = LED_DUTY_MAX\n",
    "        \n",
    "        iDuty = round( iDuty )\n",
    "\n",
    "        if iDuty != iDutyLast:\n",
    "            pinLED.duty(iDuty)\n",
    "            iDutyLast = iDuty\n",
    "\n",
    "except KeyboardInterrupt:\n",
    "    pass\n",
    "finally:\n",
    "    pinLED.deinit()\n",
    "\n",
    "print( \"\\nDone.\" )"
   ]
  }
 ],
 "metadata": {
  "kernelspec": {
   "display_name": "MicroPython - USB",
   "language": "micropython",
   "name": "micropython"
  },
  "language_info": {
   "codemirror_mode": "python",
   "file_extension": ".py",
   "mimetype": "text/python",
   "name": "micropython"
  }
 },
 "nbformat": 4,
 "nbformat_minor": 5
}
