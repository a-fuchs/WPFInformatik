{
 "cells": [
  {
   "cell_type": "markdown",
   "id": "f60b40f2-6c91-43c1-901e-35ad418ad542",
   "metadata": {},
   "source": [
    "[Home](../index.ipynb) / Ampel mit drei LEDs\n",
    "***\n",
    "<span style=\"font-size:20pt;\">Ampel mit drei LEDs</span>"
   ]
  },
  {
   "cell_type": "markdown",
   "id": "70be631f-369d-40f8-84c1-cf54ba11e8af",
   "metadata": {},
   "source": [
    "# Ampel mit drei LEDs\n",
    "---\n",
    "## Aufgabe\n",
    "Mit einer roten, einer gelben und einer grünen LED soll eine Ampelschaltung aufgebaut werden.\n",
    "\n",
    "Ein Zyklus:\n",
    "1. Rot: 7 s  \n",
    "2. Rot und Gelb: 1 s\n",
    "3. Grün: 4 s\n",
    "4. Gelb: 1 s\n",
    "\n",
    "Vom Beginn der Rotphase an soll auf dem Display die Zeit in Sekunden bis zum Beginn der Grünphase angezeigt werden. Sonst wird nichts angezeigt.\n",
    "\n",
    "Suchen Sie sich passende freie Pins und denken Sie an die Vorwiderstände bzw. den Vorwiderstand.\n",
    "\n",
    "Tipp: Eine Schleife die \"ewig\" läuft:\n",
    "```python\n",
    "while True:\n",
    "    # mach irgendwas\n",
    "```"
   ]
  },
  {
   "cell_type": "markdown",
   "id": "b52e69f4-3611-41e4-85c4-8a4cf13f382c",
   "metadata": {},
   "source": [
    "## Lösungsvorschlag"
   ]
  },
  {
   "cell_type": "code",
   "execution_count": null,
   "id": "39d52c2c-39bc-4ea8-8523-247d1545c9bb",
   "metadata": {},
   "outputs": [],
   "source": [
    "%serialconnect"
   ]
  },
  {
   "cell_type": "code",
   "execution_count": null,
   "id": "23a9f100-73fc-4134-830d-0af992019531",
   "metadata": {},
   "outputs": [],
   "source": [
    "RED_TIME_SEC        =  7\n",
    "RED_ORANGE_TIME_SEC =  1\n",
    "GREEN_TIME_SEC      =  4\n",
    "ORANGE_TIME_SEC     =  1\n",
    "\n",
    "RED_TIME_TOTAL_SEC  = RED_TIME_SEC + RED_ORANGE_TIME_SEC\n",
    "\n",
    "from machine import Pin\n",
    "\n",
    "ledRed    = Pin( 19, Pin.OUT )\n",
    "ledOrange = Pin( 18, Pin.OUT )\n",
    "ledGreen  = Pin(  2, Pin.OUT )\n",
    "\n",
    "ledRed   .on ()\n",
    "ledOrange.off()\n",
    "ledGreen .off()\n",
    "\n",
    "import display\n",
    "\n",
    "display = display.Display()\n",
    "display.setCenter( 58, 30 )\n",
    "\n",
    "from time import sleep\n",
    "\n",
    "iTimeToGreen = RED_TIME_TOTAL_SEC\n",
    "\n",
    "try:\n",
    "    while True:\n",
    "        for iCount in range( RED_TIME_SEC ):\n",
    "            display.fill_rect( 0, 0, 50, 10, 0 )\n",
    "            display.text( f\"{iTimeToGreen} s\", 0, 0 )\n",
    "            display.show()\n",
    "            iTimeToGreen-=1\n",
    "            sleep( 1 )\n",
    "\n",
    "        ledOrange.on()\n",
    "        for iCount in range( RED_ORANGE_TIME_SEC ):\n",
    "            display.fill_rect( 0, 0, 50, 10, 0 )\n",
    "            display.text( f\"{iTimeToGreen} s\", 0, 0 )\n",
    "            display.show()\n",
    "            iTimeToGreen-=1\n",
    "            sleep( 1 )\n",
    "\n",
    "        ledRed   .off()\n",
    "        ledOrange.off()\n",
    "        ledGreen .on ()\n",
    "        display.clear()\n",
    "        display.show()\n",
    "\n",
    "        sleep( GREEN_TIME_SEC )\n",
    "        ledOrange.on ()\n",
    "        ledGreen .off()\n",
    "        sleep( ORANGE_TIME_SEC )\n",
    "        ledRed   .on ()\n",
    "        ledOrange.off()\n",
    "        iTimeToGreen = RED_TIME_TOTAL_SEC\n",
    "\n",
    "except KeyboardInterrupt:\n",
    "    pass\n",
    "\n",
    "print( \"\\nInterrupted by user.\" )\n",
    "print( \"Done.\" )\n",
    "\n"
   ]
  },
  {
   "cell_type": "code",
   "execution_count": null,
   "id": "ea1fa28f-4f8e-4745-8d69-52dcb189dac6",
   "metadata": {},
   "outputs": [],
   "source": []
  }
 ],
 "metadata": {
  "kernelspec": {
   "display_name": "MicroPython - USB",
   "language": "micropython",
   "name": "micropython"
  },
  "language_info": {
   "codemirror_mode": "python",
   "file_extension": ".py",
   "mimetype": "text/python",
   "name": "micropython"
  }
 },
 "nbformat": 4,
 "nbformat_minor": 5
}
