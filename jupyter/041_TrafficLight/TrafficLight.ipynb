{
 "cells": [
  {
   "cell_type": "markdown",
   "id": "5342c97a-90b5-41d0-bffc-c2ed4df52bfd",
   "metadata": {},
   "source": [
    "# Aufgabe: Ampel\n",
    "Mit einer roten, einer gelben und einer grünen LED soll eine Ampelschaltung aufgebaut werden.\n",
    "\n",
    "Ein Zyklus:\n",
    "1. Rot: 7 s  \n",
    "2. Rot und Gelb: 1 s\n",
    "3. Grün: 4 s\n",
    "4. Gelb: 1 s\n",
    "\n",
    "Vom Beginn der Rotphase an soll auf dem Display die Zeit in Sekunden bis zum Beginn der Grünphase angezeigt werden. Sonst wird nichts angezeigt.\n",
    "\n",
    "Suchen Sie sich passende freie Pins und denken Sie an die Vorwiderstände bzw. den Vorwiderstand.\n",
    "\n",
    "Tipp: Eine Schleife die \"ewig\" läuft:\n",
    "```python\n",
    "while True:\n",
    "    # mach irgendwas\n",
    "```"
   ]
  },
  {
   "cell_type": "code",
   "execution_count": 15,
   "id": "05017165-4e31-4404-b5da-c07b83ca8750",
   "metadata": {},
   "outputs": [
    {
     "name": "stdout",
     "output_type": "stream",
     "text": [
      "\u001b[34mConnecting to --port=/dev/ttyUSB2 --baud=115200 \u001b[0m\n",
      "\u001b[34mReady.\n",
      "\u001b[0m"
     ]
    }
   ],
   "source": [
    "%serialconnect"
   ]
  },
  {
   "cell_type": "code",
   "execution_count": 16,
   "id": "23a9f100-73fc-4134-830d-0af992019531",
   "metadata": {},
   "outputs": [
    {
     "name": "stdout",
     "output_type": "stream",
     "text": [
      "................\n",
      "**[ys] <class 'serial.serialutil.SerialException'>\n",
      "**[ys] device reports readiness to read but returned no data (device disconnected or multiple access on port?)\n",
      "\n",
      "\n",
      "**[ys] <class 'serial.serialutil.SerialException'>\n",
      "**[ys] device reports readiness to read but returned no data (device disconnected or multiple access on port?)\n",
      "\n"
     ]
    }
   ],
   "source": [
    "RED_TIME_SEC        =  7\n",
    "RED_ORANGE_TIME_SEC =  1\n",
    "GREEN_TIME_SEC      =  4\n",
    "ORANGE_TIME_SEC     =  1\n",
    "\n",
    "RED_TIME_TOTAL_SEC  = RED_TIME_SEC + RED_ORANGE_TIME_SEC\n",
    "\n",
    "from machine import Pin\n",
    "\n",
    "ledRed    = Pin( 19, Pin.OUT )\n",
    "ledOrange = Pin( 18, Pin.OUT )\n",
    "ledGreen  = Pin(  2, Pin.OUT )\n",
    "\n",
    "ledRed   .on ()\n",
    "ledOrange.off()\n",
    "ledGreen .off()\n",
    "\n",
    "import display\n",
    "\n",
    "display = display.Display()\n",
    "display.setCenter( 58, 30 )\n",
    "\n",
    "from time import sleep\n",
    "\n",
    "iTimeToGreen = RED_TIME_TOTAL_SEC\n",
    "\n",
    "try:\n",
    "    while True:\n",
    "        for iCount in range( RED_TIME_SEC ):\n",
    "            display.fill_rect( 0, 0, 50, 10, 0 )\n",
    "            display.text( f\"{iTimeToGreen} s\", 0, 0 )\n",
    "            display.show()\n",
    "            iTimeToGreen-=1\n",
    "            sleep( 1 )\n",
    "\n",
    "        ledOrange.on()\n",
    "        for iCount in range( RED_ORANGE_TIME_SEC ):\n",
    "            display.fill_rect( 0, 0, 50, 10, 0 )\n",
    "            display.text( f\"{iTimeToGreen} s\", 0, 0 )\n",
    "            display.show()\n",
    "            iTimeToGreen-=1\n",
    "            sleep( 1 )\n",
    "\n",
    "        ledRed   .off()\n",
    "        ledOrange.off()\n",
    "        ledGreen .on ()\n",
    "        display.clear()\n",
    "        display.show()\n",
    "\n",
    "        sleep( GREEN_TIME_SEC )\n",
    "        ledOrange.on ()\n",
    "        ledGreen .off()\n",
    "        sleep( ORANGE_TIME_SEC )\n",
    "        ledRed   .on ()\n",
    "        ledOrange.off()\n",
    "        iTimeToGreen = RED_TIME_TOTAL_SEC\n",
    "\n",
    "except KeyboardInterrupt:\n",
    "    pass\n",
    "\n",
    "print( \"\\nInterrupted by user.\" )\n",
    "print( \"Done.\" )\n",
    "\n",
    "\n",
    "\n"
   ]
  },
  {
   "cell_type": "code",
   "execution_count": null,
   "id": "ea1fa28f-4f8e-4745-8d69-52dcb189dac6",
   "metadata": {},
   "outputs": [],
   "source": []
  }
 ],
 "metadata": {
  "kernelspec": {
   "display_name": "MicroPython - USB",
   "language": "micropython",
   "name": "micropython"
  },
  "language_info": {
   "codemirror_mode": "python",
   "file_extension": ".py",
   "mimetype": "text/python",
   "name": "micropython"
  }
 },
 "nbformat": 4,
 "nbformat_minor": 5
}
