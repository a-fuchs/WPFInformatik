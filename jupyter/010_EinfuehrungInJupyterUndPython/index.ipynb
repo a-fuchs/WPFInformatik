{
 "cells": [
  {
   "cell_type": "markdown",
   "id": "dff8c9ec",
   "metadata": {
    "tags": []
   },
   "source": [
    "[Home](../index.ipynb) / Einführung in Jupyter und Python\n",
    "***\n",
    "<span style=\"font-size:20pt;\">Einführung in Jupyter und Python</span>"
   ]
  },
  {
   "cell_type": "markdown",
   "id": "eba63423-b0d9-47f5-8bdb-96adda540c8b",
   "metadata": {},
   "source": [
    "---\n",
    "# Jupyter"
   ]
  },
  {
   "cell_type": "markdown",
   "id": "73a93aeb-48a2-48a9-9774-90843ed2705d",
   "metadata": {
    "tags": []
   },
   "source": [
    "---\n",
    "## Externe Tutorials\n",
    "* [Jupyter-notebook tips, tricks, shortcuts](https://www.dataquest.io/blog/jupyter-notebook-tips-tricks-shortcuts/)\n",
    "---\n",
    "## Markdown-Zellen (Text-Zellen)\n",
    "\n",
    "Zum **Editieren** einer Text-Zelle: in die Zelle **doppelklicken**.  \n",
    "Zum **Anzeigen** des Textes wieder _SHIFT ENTER_ drücken, oder oben auf den \"Ausführen\"-Pfeil klicken.  \n",
    "Probieren Sie das gleich einmal aus!\n",
    "\n",
    "Text wird mit **Markdown** (Übersichten: [github](https://github.com/adam-p/markdown-here/wiki/Markdown-Cheatsheet#tables), oder [brynmawr](https://jupyter.brynmawr.edu/services/public/dblank/Jupyter%20Notebook%20Users%20Manual.ipynb#4.3.5-Notebook-Internal-Links)) formatiert und kann auch Formeln mit TeX darstellen! $$e^x := \\displaystyle\\sum_{k=0}^\\infty{\\frac{x^k}{k!}}$$ (siehe auch [LaTeX Symbole](https://www.caam.rice.edu/~heinken/latex/symbols.pdf))\n",
    "\n",
    "Eine **neue Zelle** wird mit dem \"+\" Symbol oben im Menü angelegt und muss dann im Menü oben noch als \"Markdown\"-Zelle markiert werden:\n",
    "\n",
    "|Neue Zelle|zu Markdown-Zelle|\n",
    "|:-------------:|:-------------:|\n",
    "|<img src=\"images/InsertCell.png\" width=\"300\">|<img src=\"images/MarkdownCell.png\" width=\"300\">|\n"
   ]
  },
  {
   "cell_type": "markdown",
   "id": "1e013401-be86-44f8-953c-780b801c2b90",
   "metadata": {},
   "source": [
    "---\n",
    "## Code-Zellen (Python Programm-Zellen)\n",
    "Zum **Ausführen** einer **Pyhton**-Code-Zelle: in die betreffende Zelle gehen und _SHIFT ENTER_ drücken, oder oben auf den \"Ausführen\"-Pfeil klicken.\n",
    "\n",
    "Also den Cursor in die nächste Zelle setzten und _SHIFT ENTER_ drücken:"
   ]
  },
  {
   "cell_type": "code",
   "execution_count": null,
   "id": "eae75740-a1ba-4347-a14f-8e4d033d8ebb",
   "metadata": {},
   "outputs": [],
   "source": [
    "print(\"Hello world!\") # \"Hello world!\" ist üblicherweise das erste Programm."
   ]
  },
  {
   "cell_type": "markdown",
   "id": "411f49b9-87a2-4d05-abff-9e745d189b48",
   "metadata": {},
   "source": [
    "Sie haben Ihr erstes Python-Programm ausgeführt!\n",
    "\n",
    "Zeilen mit einem # am Anfang gelten als Kommentarzeilen. Der Kommentar\n",
    "erstreckt sich vom # bis zum Zeilenende und wird von Python ignoriert."
   ]
  },
  {
   "cell_type": "markdown",
   "id": "257572c3-4a58-493c-b316-3021816b256b",
   "metadata": {},
   "source": [
    "---\n",
    "# Python\n",
    "***\n",
    "\n",
    "## Beipiele für externe Python-Tutorials zum Eigenstudium\n",
    "* [**Kurs: Programmieren in Python**](https://www.tuxcademy.org/download/de/pyth/pyth-de-manual.pdf) (Empfehlung)\n",
    "* [Kurs: Python lernen](https://www.python-lernen.de)\n",
    "  * [Python lernen: Mengen](https://www.python-lernen.de/mengenlehre-set-frozenset.htm)\n",
    "  * [Python lernen: Pygame Library](https://www.python-lernen.de/pygame-tutorial.htm)\n",
    "* [Python Tutorial: educba](https://www.educba.com/software-development/software-development-tutorials/python-tutorial/)\n",
    "* [Python Tutorial: w3schools](https://www.w3schools.com/python/default.asp)\n"
   ]
  },
  {
   "cell_type": "markdown",
   "id": "f2e29007-97ad-4e5b-9215-2d08aad0db1d",
   "metadata": {},
   "source": [
    "## Kleine Einführung in Python"
   ]
  },
  {
   "cell_type": "markdown",
   "id": "0b4f58b1-66a3-46f6-be64-2814937c5326",
   "metadata": {},
   "source": [
    "### **while** Schleife"
   ]
  },
  {
   "cell_type": "code",
   "execution_count": null,
   "id": "d7767d93-9ab5-4784-abbf-0c4b70f20e2e",
   "metadata": {},
   "outputs": [],
   "source": [
    "count = 10\n",
    "\n",
    "while count > 0:\n",
    "    print( count, end=\" \" )\n",
    "    count -= 1 # Ist (fast) das selbe wie : count = count - 1"
   ]
  },
  {
   "cell_type": "markdown",
   "id": "80fda810-b176-4e27-9a8c-a27395851049",
   "metadata": {},
   "source": [
    "```python\n",
    "count = 10\n",
    "```\n",
    "weist der Variablen `count` den Wert `10` zu.\n",
    "\n",
    "```python\n",
    "while count > 0:\n",
    "```\n",
    "Solange `count` einen Wert größer als `0` besitzt führe die Anweisungen nach dem \":\" aus.\n",
    "\n",
    "**Beachte:** Python arbeitet nicht mit Klammern, sondern **Einrückungen!**.\n",
    "Alles was gleich weit eingerückt ist, gehört zum selben Block.\n",
    "\n",
    "D.h.\n",
    "```python\n",
    "while count > 0:\n",
    " print( count, end=\" \" )\n",
    " count -= 1\n",
    "```\n",
    "\n",
    "oder \n",
    "```python\n",
    "while count > 0:\n",
    "       print( count, end=\" \" )\n",
    "       count -= 1\n",
    "```\n",
    "würde auch klappen. **Ausprobieren!**\n",
    "\n",
    "\n",
    "Über das optionale `end=\" \"` in der `print`-Anweisung kann statt einer neuen Zeile ein beliebiger Text ausgegeben werden."
   ]
  },
  {
   "cell_type": "markdown",
   "id": "1453f660-1846-462e-9e54-9b0c9ce721c7",
   "metadata": {},
   "source": [
    "### **Vergleichsoperatoren** in Python\n",
    "\n",
    "|Operator|Bedeutung|\n",
    "|:---:|---|\n",
    "|==|Gleichheit|\n",
    "|!=|Ungleichheit|\n",
    "|<| Kleiner als|\n",
    "|<=| Kleiner als oder gleich|\n",
    "|>| Größer als|\n",
    "|>=| Größer als oder gleich|\n",
    "|is| Objektidentität|\n",
    "|is not| Objekt-Nichtidentität|"
   ]
  },
  {
   "cell_type": "markdown",
   "id": "fb12de7c-2fe4-4756-b2f3-157ea798a2fd",
   "metadata": {},
   "source": [
    "### Textausgabe"
   ]
  },
  {
   "cell_type": "code",
   "execution_count": null,
   "id": "739517fd-9452-44f0-88a0-2414982e0855",
   "metadata": {},
   "outputs": [],
   "source": [
    "basis    = 10\n",
    "exponent = 2\n",
    "\n",
    "number = basis**exponent # Was macht der ** Operator?\n",
    "\n",
    "print( number )\n",
    "print( \"{} hoch {} {} {}\".format( basis, exponent, \"ist\", number ) )\n",
    "# Folgendes geht in Python nicht:\n",
    "\n",
    "# print( basis + \" hoch \" + exponent + \" ist \" + number )\n",
    "\n",
    "# sondern die Zahlen müssen explizit in Text umgewandelt werden, die geht mit str(eine zahl):\n",
    "\n",
    "print( str(basis) + \" hoch \" + str(exponent) + \" ist \" + str(number) )"
   ]
  },
  {
   "cell_type": "markdown",
   "id": "dac7af5d-7870-4c96-845d-f5e7d21ccc16",
   "metadata": {},
   "source": [
    "### Verweigungen\n",
    "\n",
    "Führen Sie folgendes Programm einmal mit `count=10` und einmal mit `count=9` aus:"
   ]
  },
  {
   "cell_type": "code",
   "execution_count": null,
   "id": "a65ae1ed-6f48-41ec-a10a-81869e7e07f8",
   "metadata": {},
   "outputs": [],
   "source": [
    "count = 10\n",
    "\n",
    "if count == 10 :\n",
    "    print( 10 )\n",
    "    count = 5\n",
    "    \n",
    "print( count )    "
   ]
  },
  {
   "cell_type": "markdown",
   "id": "a474b0e1-b7a7-4a87-8d88-8beeeef14460",
   "metadata": {},
   "source": [
    "Führen Sie folgendes Programm einmal mit `count=10` und einmal mit `count=9` aus::"
   ]
  },
  {
   "cell_type": "code",
   "execution_count": null,
   "id": "6568fb9c-06a0-4e29-910b-30b7fa8fe4d9",
   "metadata": {},
   "outputs": [],
   "source": [
    "count = 10\n",
    "\n",
    "if count == 10 :\n",
    "    print( 10 )\n",
    "    count = 5\n",
    "else :\n",
    "    count = 0\n",
    "    \n",
    "print( count )   "
   ]
  },
  {
   "cell_type": "markdown",
   "id": "98e040c3-f657-4f7d-ad35-fbf13cdf1b4a",
   "metadata": {},
   "source": [
    "Führen Sie folgendes Programm mit `count=10, count=9, count=8, count=7, count=6` aus:"
   ]
  },
  {
   "cell_type": "code",
   "execution_count": null,
   "id": "d90c1deb-92e9-4c20-a4e0-4a490386c48d",
   "metadata": {},
   "outputs": [],
   "source": [
    "count = 10\n",
    "\n",
    "if count == 10 :\n",
    "    print( 10 )\n",
    "elif count == 9 :\n",
    "    print( 9 )\n",
    "elif count == 8 :\n",
    "    print( 8 )\n",
    "else :\n",
    "    print( \"Weder 10 noch 9 noch 8\" )    "
   ]
  },
  {
   "cell_type": "markdown",
   "id": "fde54b39-b7c5-4452-ad5b-985ed482792c",
   "metadata": {},
   "source": [
    "Eine kleine Besonderheit:"
   ]
  },
  {
   "cell_type": "code",
   "execution_count": null,
   "id": "dcee8416-b46b-4f03-a3a8-6bd95721d5bc",
   "metadata": {},
   "outputs": [],
   "source": [
    "count =  9\n",
    "\n",
    "if count == 10 :\n",
    "    print( \"10\" )\n",
    "else :\n",
    "    print( \"Nicht 10\" )\n",
    "     \n",
    "\n",
    "count = 10\n",
    "\n",
    "if count == 10 :\n",
    "    print( \"10\" )\n",
    "else :\n",
    "    print( \"Nicht 10\" )"
   ]
  },
  {
   "cell_type": "markdown",
   "id": "7a2802e7-ee5c-432a-84d1-16cd8980185b",
   "metadata": {},
   "source": [
    "kann auch geschrieben werden als:"
   ]
  },
  {
   "cell_type": "code",
   "execution_count": null,
   "id": "d224b6f9-e76f-423f-8a71-10f4d15b3477",
   "metadata": {},
   "outputs": [],
   "source": [
    "count =  9\n",
    "\n",
    "print( \"10\" if count == 10 else \"Nicht 10\" )\n",
    "\n",
    "\n",
    "count = 10\n",
    "\n",
    "print( \"10\" if count == 10 else \"Nicht 10\" )"
   ]
  },
  {
   "cell_type": "markdown",
   "id": "264d2bae-2de6-44b1-8425-03b0c00211f9",
   "metadata": {},
   "source": [
    "### **Mathematische** Operatoren\n",
    "\n",
    "|Operator|Bedeutung|Methode|\n",
    "|:---:|---|---|\n",
    "|+|Addition|\\_\\_add\\_\\_()|\n",
    "|-|Subtraktion|\\_\\_sub\\_\\_()|\n",
    "|*|Multiplikation|\\_\\_mul\\_\\_()|\n",
    "|/|Division|\\_\\_truediv\\_\\_()|\n",
    "|//|Division (ganzzahlig)|\\_\\_floordiv\\_\\_()|\n",
    "|%|Modulo|\\_\\_mod\\_\\_()|\n",
    "|**|Potenz|\\_\\_pow\\_\\_()|"
   ]
  },
  {
   "cell_type": "markdown",
   "id": "c8d29e2d-4b32-4840-81c6-d73a10e2ab32",
   "metadata": {
    "tags": []
   },
   "source": [
    "### Module mit **import**\n",
    "\n",
    "Mit `import math` können Sie z.B. das Mathematik-Modul von Python verfügbar machen und Wurzeln und anders berechnen, oder mit `import random` Zufallszahlen erzeugen:"
   ]
  },
  {
   "cell_type": "code",
   "execution_count": null,
   "id": "d4472e91-6fee-400d-92c7-18131e3e7071",
   "metadata": {
    "tags": []
   },
   "outputs": [],
   "source": [
    "import math\n",
    "print( \"Wurzel aus 2 = \" + str(math.sqrt( 2 )) )\n",
    "\n",
    "\n",
    "import random\n",
    "print( \"Zufallszahl: {}\".format( random.random() ) )"
   ]
  },
  {
   "cell_type": "markdown",
   "id": "c540c998-b82b-4298-be92-9adcc297d88d",
   "metadata": {},
   "source": [
    "Wollen Sie nicht immer den Namen der Bibliothek voranstellen, geht das auch mit z.B:"
   ]
  },
  {
   "cell_type": "code",
   "execution_count": null,
   "id": "b112dd94-de6a-4ee8-ba83-abcffa2508a9",
   "metadata": {},
   "outputs": [],
   "source": [
    "from math import sqrt, sin\n",
    "print( \"Wurzel aus 2 ist \" + str(sqrt( 2 )) )\n",
    "print( \"Sinus von 1 ist \" + str(sin( 1 )) )\n",
    "\n",
    "from random import random\n",
    "print( \"Zufallszahl: {}\".format( random() ) )"
   ]
  },
  {
   "cell_type": "markdown",
   "id": "ee30bd4b-1d21-4012-9117-3cc0d3b2442e",
   "metadata": {
    "tags": []
   },
   "source": [
    "### Reservierte Schlüsselwörter in Python\n",
    "Folgende reservierte Schlüsselwörter **dürfen nicht als Variablennamen** verwendet werden:\n",
    "```python\n",
    "  class del def return lambda yield assert\n",
    "  global nonlocal import from in as\n",
    "  None True False is\n",
    "  try except finally raise\n",
    "  and or not\n",
    "  for while with break continue pass if elif else\n",
    "```"
   ]
  },
  {
   "cell_type": "markdown",
   "id": "08e4f143-2987-4ba4-9b3c-cbd55fc56674",
   "metadata": {},
   "source": [
    "---\n",
    "## Aufgaben"
   ]
  },
  {
   "cell_type": "markdown",
   "id": "1f4ef6bc-ed8b-4375-a66a-d44ea1b1fa18",
   "metadata": {},
   "source": [
    "1. Erstellen Sie mit Hilfe einer `while`-Schleife ein Programm, das folgende Ausgabe erzeugt:\n",
    "```\n",
    "10 ist eine gerade Zahl\n",
    "9 ist eine ungerade Zahl\n",
    "8 ist eine gerade Zahl\n",
    "7 ist eine ungerade Zahl\n",
    "6 ist eine gerade Zahl\n",
    "5 ist eine ungerade Zahl\n",
    "4 ist eine gerade Zahl\n",
    "3 ist eine ungerade Zahl\n",
    "2 ist eine gerade Zahl\n",
    "1 ist eine ungerade Zahl\n",
    "```\n",
    "\n",
    "2. Schreiben Sie ein Programm, das eine Zahl in ein Vielfaches von 7 und den Rest zerlegt: also z.B. folgende Ausgabe erzeugt:  \n",
    "   `17 = 2*7 + 3`\n",
    "   \n",
    "3. Erstellen Sie ein Programm, das die Zahl 81942485625 in ihre Primfaktoren zerlegt.\n",
    "\n",
    "**[Lösungen](Loesungen.ipynb)**"
   ]
  }
 ],
 "metadata": {
  "kernelspec": {
   "display_name": "Python 3 (ipykernel)",
   "language": "python",
   "name": "python3"
  },
  "language_info": {
   "codemirror_mode": {
    "name": "ipython",
    "version": 3
   },
   "file_extension": ".py",
   "mimetype": "text/x-python",
   "name": "python",
   "nbconvert_exporter": "python",
   "pygments_lexer": "ipython3",
   "version": "3.9.10"
  },
  "toc-autonumbering": true
 },
 "nbformat": 4,
 "nbformat_minor": 5
}
