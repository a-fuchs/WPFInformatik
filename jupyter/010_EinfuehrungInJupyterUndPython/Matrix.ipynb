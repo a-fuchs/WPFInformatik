{
 "cells": [
  {
   "cell_type": "code",
   "execution_count": null,
   "id": "60d3b817-1914-4f1a-93e9-6d959aa388c6",
   "metadata": {},
   "outputs": [
    {
     "name": "stdout",
     "output_type": "stream",
     "text": [
      "\u001b[34mConnecting to --port=/dev/ttyUSB0 --baud=115200 \u001b[0m\n",
      "\u001b[34mReady.\n",
      "\u001b[0m"
     ]
    }
   ],
   "source": [
    "%serialconnect"
   ]
  },
  {
   "cell_type": "code",
   "execution_count": 8,
   "id": "5b444eac-bf86-4c04-b924-6341cd256673",
   "metadata": {},
   "outputs": [
    {
     "name": "stdout",
     "output_type": "stream",
     "text": [
      "[[4, 0, 2, 2], [16, 2, 6, 6], [14, 4, 3, 3]]\n",
      "[[1, 0, 0, 0], [0, 1, 0, 0], [0, 0, 1, 0]]\n"
     ]
    }
   ],
   "source": [
    "\n",
    "class Matrix:\n",
    "    def __init__(self, matrix = None, rows = None, cols = None):\n",
    "        if matrix is None:\n",
    "            self.m = [ [0]*cols for x in range(rows)]\n",
    "            self.rows = rows\n",
    "            self.cols = cols\n",
    "        else:\n",
    "            self.m = [ row[:] for row in matrix]\n",
    "            self.rows = len( matrix )\n",
    "            self.cols = len( matrix[0] )\n",
    "        \n",
    "        \n",
    "    def get( self, row, col ):\n",
    "        return self.m[row][col]\n",
    "\n",
    "    def set( self, row, col, val ):\n",
    "        self.m[row][col] = val\n",
    "    \n",
    "    def __mul__(self, other):\n",
    "        mNew = Matrix( rows = self.rows, cols = other.cols )\n",
    "\n",
    "        for iColN in range( other.cols ):\n",
    "            for iRowN in range( self.rows ):\n",
    "                for iIndex in range( self.cols) :\n",
    "                    mNew.m[iRowN][iColN] += self.m[iRowN][iIndex]*other.m[iIndex][iColN]\n",
    "            \n",
    "        return mNew\n",
    "    \n",
    "    def setIdentity( self ):\n",
    "        for iCol in range( self.cols ):\n",
    "            for iRow in range( self.rows ):\n",
    "                self.m[iRow][iCol] = 1 if iRow == iCol else 0\n",
    "\n",
    "    def setRotation( self, alpha, axis ):\n",
    "            \n",
    "    \n",
    "        \n",
    "    def __str__( self ):\n",
    "        return str( self.m )\n",
    "\n",
    "\n",
    "#m = Matrix( 3,4 )\n",
    "m1 = Matrix( [[2,0],[4,2],[-1,4]] )\n",
    "m2 = Matrix( [[2,0,1,1],[4,1,1,1]] )\n",
    "mM = m1*m2\n",
    "print( mM )\n",
    "mM.setIdentity()\n",
    "print( mM )\n"
   ]
  },
  {
   "cell_type": "markdown",
   "id": "8f434c59-5894-4f8b-8433-38ca236f4d8b",
   "metadata": {},
   "source": [
    "Binary Operators:\n",
    "Operator\tMagic Method\n",
    "+\t__add__(self, other)\n",
    "–\t__sub__(self, other)\n",
    "*\t__mul__(self, other)\n",
    "/\t__truediv__(self, other)\n",
    "//\t__floordiv__(self, other)\n",
    "%\t__mod__(self, other)\n",
    "**\t__pow__(self, other)\n",
    ">>\t__rshift__(self, other)\n",
    "<<\t__lshift__(self, other)\n",
    "&\t__and__(self, other)\n",
    "|\t__or__(self, other)\n",
    "^\t__xor__(self, other)\n",
    "\n",
    "\n",
    "Comparison Operators :\n",
    "Operator\tMagic Method\n",
    "<\t__lt__(self, other)\n",
    ">\t__gt__(self, other)\n",
    "<=\t__le__(self, other)\n",
    ">=\t__ge__(self, other)\n",
    "==\t__eq__(self, other)\n",
    "!=\t__ne__(self, other)\n",
    "\n",
    "Assignment Operators :\n",
    "Operator\tMagic Method\n",
    "-=\t__isub__(self, other)\n",
    "+=\t__iadd__(self, other)\n",
    "*=\t__imul__(self, other)\n",
    "/=\t__idiv__(self, other)\n",
    "//=\t__ifloordiv__(self, other)\n",
    "%=\t__imod__(self, other)\n",
    "**=\t__ipow__(self, other)\n",
    ">>=\t__irshift__(self, other)\n",
    "<<=\t__ilshift__(self, other)\n",
    "&=\t__iand__(self, other)\n",
    "|=\t__ior__(self, other)\n",
    "^=\t__ixor__(self, other)\n",
    "\n",
    "\n",
    "Unary Operators :\n",
    "Operator\tMagic Method\n",
    "–\t__neg__(self)\n",
    "+\t__pos__(self)\n",
    "~\t__invert__(self)"
   ]
  }
 ],
 "metadata": {
  "kernelspec": {
   "display_name": "Python 3 (ipykernel)",
   "language": "python",
   "name": "python3"
  },
  "language_info": {
   "codemirror_mode": {
    "name": "ipython",
    "version": 3
   },
   "file_extension": ".py",
   "mimetype": "text/x-python",
   "name": "python",
   "nbconvert_exporter": "python",
   "pygments_lexer": "ipython3",
   "version": "3.9.10"
  }
 },
 "nbformat": 4,
 "nbformat_minor": 5
}
