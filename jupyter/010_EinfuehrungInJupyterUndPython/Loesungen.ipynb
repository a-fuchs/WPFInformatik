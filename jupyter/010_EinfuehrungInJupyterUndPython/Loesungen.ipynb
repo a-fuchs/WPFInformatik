{
 "cells": [
  {
   "cell_type": "markdown",
   "id": "dff8c9ec",
   "metadata": {
    "tags": []
   },
   "source": [
    "[Home](../index.ipynb) / Einführung in Jupyter und Python\n",
    "***\n",
    "<span style=\"font-size:20pt;\">Einführung in Jupyter und Python</span>"
   ]
  },
  {
   "cell_type": "markdown",
   "id": "08e4f143-2987-4ba4-9b3c-cbd55fc56674",
   "metadata": {},
   "source": [
    "---\n",
    "# Lösungsvorschläge"
   ]
  },
  {
   "cell_type": "markdown",
   "id": "53728e5b-4547-4589-a265-a9d588e10a9e",
   "metadata": {},
   "source": [
    "---\n",
    "1.\n",
    "Erstellen Sie mit Hilfe einer while-Schleife ein Programm, das folgende Ausgabe erzeugt:\n",
    "\n",
    "```\n",
    "10 ist eine gerade Zahl\n",
    "9 ist eine ungerade Zahl\n",
    "8 ist eine gerade Zahl\n",
    "7 ist eine ungerade Zahl\n",
    "6 ist eine gerade Zahl\n",
    "5 ist eine ungerade Zahl\n",
    "4 ist eine gerade Zahl\n",
    "3 ist eine ungerade Zahl\n",
    "2 ist eine gerade Zahl\n",
    "1 ist eine ungerade Zahl\n",
    "```"
   ]
  },
  {
   "cell_type": "code",
   "execution_count": 18,
   "id": "d2ae19f1-a21a-4ee6-b511-defecc810d33",
   "metadata": {},
   "outputs": [
    {
     "name": "stdout",
     "output_type": "stream",
     "text": [
      "10 ist eine gerade Zahl\n",
      "9 ist eine ungerade Zahl\n",
      "8 ist eine gerade Zahl\n",
      "7 ist eine ungerade Zahl\n",
      "6 ist eine gerade Zahl\n",
      "5 ist eine ungerade Zahl\n",
      "4 ist eine gerade Zahl\n",
      "3 ist eine ungerade Zahl\n",
      "2 ist eine gerade Zahl\n",
      "1 ist eine ungerade Zahl\n"
     ]
    }
   ],
   "source": [
    "# Version 1\n",
    "count = 10\n",
    "\n",
    "while count > 0 :\n",
    "    strType = \"\"\n",
    "    if count % 2 == 1 :\n",
    "        strType = \"un\"\n",
    "\n",
    "    print( \"{} ist eine {}gerade Zahl\".format( count, strType ) )\n",
    "    count-=1"
   ]
  },
  {
   "cell_type": "code",
   "execution_count": 3,
   "id": "0bd0e3fc-7502-48d3-b8de-70cb67333201",
   "metadata": {},
   "outputs": [
    {
     "name": "stdout",
     "output_type": "stream",
     "text": [
      "10 ist eine gerade Zahl\n",
      "9 ist eine ungerade Zahl\n",
      "8 ist eine gerade Zahl\n",
      "7 ist eine ungerade Zahl\n",
      "6 ist eine gerade Zahl\n",
      "5 ist eine ungerade Zahl\n",
      "4 ist eine gerade Zahl\n",
      "3 ist eine ungerade Zahl\n",
      "2 ist eine gerade Zahl\n",
      "1 ist eine ungerade Zahl\n"
     ]
    }
   ],
   "source": [
    "# Version 2\n",
    "count = 10\n",
    "\n",
    "while count > 0 :\n",
    "    print( \"{} ist eine {}gerade Zahl\".format( count, \"un\" if count % 2 == 1 else \"\" ) )\n",
    "    count-=1"
   ]
  },
  {
   "cell_type": "markdown",
   "id": "dbf6b91c-50c7-4a55-9913-6e5cfc52b259",
   "metadata": {},
   "source": [
    "---\n",
    "2.\n",
    "Schreiben Sie ein Programm, das eine Zahl in ein Vielaches von 7 und den Rest zerlegt: also z.B.folgende Ausgabe erzeugt:"
   ]
  },
  {
   "cell_type": "code",
   "execution_count": 2,
   "id": "e64650ac-9f0e-44ba-9c4d-ef8a6580424f",
   "metadata": {},
   "outputs": [
    {
     "name": "stdout",
     "output_type": "stream",
     "text": [
      "17 = 2*7 + 3\n"
     ]
    }
   ],
   "source": [
    "num     = 17\n",
    "divisor =  7\n",
    "\n",
    "print( \"{} = {}*{} + {}\".format(num, num//divisor, divisor, num%divisor ) )"
   ]
  },
  {
   "cell_type": "markdown",
   "id": "97892283-709b-4043-8268-22da4403089b",
   "metadata": {},
   "source": [
    "---\n",
    "3.\n",
    "Erstellen Sie ein Programm, das die Zahl 81942485625 in ihre Primfaktoren zerlegt."
   ]
  },
  {
   "cell_type": "code",
   "execution_count": 4,
   "id": "a9a0473f-09c7-490a-a869-85be098b2e3f",
   "metadata": {},
   "outputs": [
    {
     "name": "stdout",
     "output_type": "stream",
     "text": [
      "0\n",
      "27314161875.0\n",
      "81942485625 = 3 * 3 * 3 * 3 * 3 * 5 * 5 * 5 * 5 * 7 * 7 * 7 * 11 * 11 * 13\n"
     ]
    }
   ],
   "source": [
    "import math\n",
    "\n",
    "num = 81942485625\n",
    "\n",
    "maxNum = int( math.sqrt( num ))+1\n",
    "i = 2\n",
    "\n",
    "print( str(num), end=\" = \" )\n",
    "\n",
    "while i <= maxNum :\n",
    "    if (num % i) == 0 :\n",
    "        print( i, end=\" * \" )\n",
    "        num /= i\n",
    "        maxNum = int( math.sqrt( num ) )+1\n",
    "        i = 1\n",
    "    \n",
    "    i+=1\n",
    "\n",
    "if i > maxNum :\n",
    "    print( int(num) )"
   ]
  },
  {
   "cell_type": "code",
   "execution_count": null,
   "id": "39804d5f-cbcf-4a49-841e-0f9ccadb42c4",
   "metadata": {},
   "outputs": [],
   "source": []
  }
 ],
 "metadata": {
  "kernelspec": {
   "display_name": "Python 3 (ipykernel)",
   "language": "python",
   "name": "python3"
  },
  "language_info": {
   "codemirror_mode": {
    "name": "ipython",
    "version": 3
   },
   "file_extension": ".py",
   "mimetype": "text/x-python",
   "name": "python",
   "nbconvert_exporter": "python",
   "pygments_lexer": "ipython3",
   "version": "3.9.6"
  },
  "toc-autonumbering": false
 },
 "nbformat": 4,
 "nbformat_minor": 5
}
