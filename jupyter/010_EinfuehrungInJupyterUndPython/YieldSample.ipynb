{
 "cells": [
  {
   "cell_type": "markdown",
   "id": "f5db822b",
   "metadata": {},
   "source": [
    "[Home](../index.ipynb) / Einführung in Jupyter und Python: Das Schlüsselwort `yield`\n",
    "***"
   ]
  },
  {
   "cell_type": "markdown",
   "id": "024a3be5-b7ac-4dde-8414-a523bb28ae68",
   "metadata": {},
   "source": [
    "# Einführung in Jupyter und Python: Das Schlüsselwort `yield`\n",
    "\n",
    "## Beispiele\n",
    "### Beispiel 1"
   ]
  },
  {
   "cell_type": "code",
   "execution_count": null,
   "id": "34829334-79df-4ab4-997c-584347733e99",
   "metadata": {},
   "outputs": [],
   "source": [
    "def iterierbareFunktion():\n",
    "    yield \"Hallo\"\n",
    "    yield \"Welt\"\n",
    "    yield \"!\"\n",
    "    yield 1\n",
    "    yield 2\n",
    "    \n",
    "for obj in iterierbareFunktion():\n",
    "    print( obj )"
   ]
  },
  {
   "cell_type": "markdown",
   "id": "1c96eb4b-af1a-47e6-9026-e7c7fefbd793",
   "metadata": {},
   "source": [
    "### Beispiel 2\n",
    "Vorteil: die Ausgabe muss nicht in die `fibonacci` Funktion rein!  \n",
    "Ansonsten müsste `fibonacci` erst eine Liste vollständig berechnen und zurückgeben,\n",
    "dann erst könnten die Zahlen der Reihe nach ausgegeben werden."
   ]
  },
  {
   "cell_type": "code",
   "execution_count": null,
   "id": "444bb116-7a52-4a13-b3ea-cb0564b6deb6",
   "metadata": {},
   "outputs": [],
   "source": [
    "def fibonacci( n ):\n",
    "    n1 = 0\n",
    "    n2 = 1\n",
    "    \n",
    "    for iIndex in range( n ):\n",
    "        yield n2 # gibt n2 zurueck und macht dann beim naechsten Aufruf\n",
    "        fib = n1 + n2 # hier weiter!\n",
    "        n1 = n2\n",
    "        n2 = fib\n",
    "\n",
    "for fib in fibonacci( 10 ):\n",
    "    print( fib )\n",
    "    "
   ]
  },
  {
   "cell_type": "markdown",
   "id": "f6bf9d77-50d6-46a9-9c83-710efdbb3175",
   "metadata": {},
   "source": [
    "### Beispiel 3\n",
    "Es soll die Ausgabe nicht mit der Berechnung verwoben werden: gilt berechtigterweise als schlechter Programmierstil!\n",
    "\n",
    "Zuerst eine kleine Hilfsfunktion, die checkt, ob eine Zahl ganzahlige Teiler ausser der 1 besitzt."
   ]
  },
  {
   "cell_type": "code",
   "execution_count": null,
   "id": "118ce57f-f908-4da1-9108-e5883b8adda2",
   "metadata": {},
   "outputs": [],
   "source": [
    "import math\n",
    "\n",
    "def hasDivisors( n ):\n",
    "    for iNum in range( 2, math.floor(n/2) + 1 ):\n",
    "        if ( n % iNum == 0 ) : return False\n",
    "\n",
    "    return True"
   ]
  },
  {
   "cell_type": "markdown",
   "id": "b48fa12d-30b8-4d03-8601-a508640c6049",
   "metadata": {},
   "source": [
    "#### Beispiel 3 mit `return` das eine Liste zurückgibt"
   ]
  },
  {
   "cell_type": "code",
   "execution_count": null,
   "id": "f76a73c7-9562-423a-9d6e-efe74e42a93e",
   "metadata": {},
   "outputs": [],
   "source": [
    "def primes1( n ):\n",
    "    colP = []\n",
    "    \n",
    "    for iNum in range( 2, n+1 ):\n",
    "        if ( hasDivisors( iNum ) ) : colP.append( iNum )\n",
    "\n",
    "    return colP\n",
    "\n",
    "print( primes1( 10000 ) ) \n"
   ]
  },
  {
   "cell_type": "markdown",
   "id": "000ea8f5-b985-49a9-81bb-9e5d2fb7b353",
   "metadata": {},
   "source": [
    "#### Beispiel 3 mit `return` und einem \"Observer\" (Callback-Funktion)"
   ]
  },
  {
   "cell_type": "code",
   "execution_count": null,
   "id": "7815d008-76a2-4cfd-90a6-3a98e6c9b315",
   "metadata": {},
   "outputs": [],
   "source": [
    "def primes2( n, observer ):\n",
    "    for iNum in range( 2, n+1 ):\n",
    "        if ( hasDivisors( iNum ) ) :\n",
    "            observer( iNum )\n",
    "\n",
    "primes2( 10000, lambda p : print( p ) )"
   ]
  },
  {
   "cell_type": "markdown",
   "id": "321a4469-29f4-4c1e-9bfd-dc662c0fa0b2",
   "metadata": {},
   "source": [
    "#### Beispiel 3 mit `yield`"
   ]
  },
  {
   "cell_type": "code",
   "execution_count": null,
   "id": "94c7c59a-c260-4e26-88c7-712d132d93a3",
   "metadata": {},
   "outputs": [],
   "source": [
    "def primes3( n ):\n",
    "    for iNum in range( 2, n+1 ):\n",
    "        if ( hasDivisors( iNum ) ) :\n",
    "            yield iNum\n",
    "\n",
    "for prime in primes3( 10000 ):\n",
    "    print( prime ) "
   ]
  },
  {
   "cell_type": "markdown",
   "id": "e81fc00a-d649-4fe6-8111-72055feb7ace",
   "metadata": {},
   "source": [
    "#### Beispiel 3 mit `yield` und etwas schönerer Ausgabe"
   ]
  },
  {
   "cell_type": "code",
   "execution_count": null,
   "id": "0aa599c3-a1f0-492d-9d74-56e172ef9584",
   "metadata": {},
   "outputs": [],
   "source": [
    "for prime in enumerate( primes3( 10000 ) ):\n",
    "    print( prime[1], end=\"\\n\" if prime[0] %10 == 9 else \"\\t\" )"
   ]
  },
  {
   "cell_type": "code",
   "execution_count": null,
   "id": "86b47236-924b-46a6-8c64-961838dd0b20",
   "metadata": {},
   "outputs": [],
   "source": []
  }
 ],
 "metadata": {
  "kernelspec": {
   "display_name": "Python 3 (ipykernel)",
   "language": "python",
   "name": "python3"
  },
  "language_info": {
   "codemirror_mode": {
    "name": "ipython",
    "version": 3
   },
   "file_extension": ".py",
   "mimetype": "text/x-python",
   "name": "python",
   "nbconvert_exporter": "python",
   "pygments_lexer": "ipython3",
   "version": "3.9.10"
  }
 },
 "nbformat": 4,
 "nbformat_minor": 5
}
