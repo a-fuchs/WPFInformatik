{
 "cells": [
  {
   "cell_type": "markdown",
   "id": "dce7e7fa-3cbf-4d0a-8370-65ef90a632d6",
   "metadata": {},
   "source": [
    "[Home](../index.ipynb) / Einführung in Jupyter und Python: RingBuffer and AverageBuffer\n",
    "***"
   ]
  },
  {
   "cell_type": "markdown",
   "id": "b11c88ba-ca40-4520-a9eb-b63d77cae642",
   "metadata": {},
   "source": [
    "# Einführung in Jupyter und Python: RingBuffer and AverageBuffer\n",
    "---\n",
    "## Klasse RingBuffer\n",
    "### Klasse"
   ]
  },
  {
   "cell_type": "code",
   "execution_count": null,
   "id": "4d19390d-fc91-454b-a9d5-0ca56f6ca6a0",
   "metadata": {},
   "outputs": [],
   "source": [
    "class RingBuffer :\n",
    "    def __init__(self,len):\n",
    "        self.length   = 0\n",
    "        self.iLast    = len\n",
    "        self.aData    = [0]*len # [i for i in range( len )]\n",
    "        self.isFull   = False\n",
    "        \n",
    "    def get(self, iIndex):\n",
    "        if self.isFull == True :\n",
    "            return self.aData[ (self.iLast + iIndex) % self.length ]\n",
    "        else :\n",
    "            return self.aData[ self.iLast + (iIndex % self.length) ]\n",
    "        \n",
    "    def add(self,val):\n",
    "        if self.isFull == True :\n",
    "            self.iLast = (self.iLast - 1) % self.length\n",
    "            self.aData[self.iLast] = val\n",
    "        else :\n",
    "            self.iLast-=1\n",
    "            self.aData[self.iLast] = val\n",
    "            self.length +=1\n",
    "\n",
    "            if len(self.aData) == self.length :\n",
    "                self.isFull = True\n",
    "\n",
    "    def print(self) :\n",
    "        if self.isFull == True :\n",
    "            print( self.__class__, self.aData[self.iLast:] + self.aData[:self.iLast] )\n",
    "        else :\n",
    "            print( self.__class__, self.aData[self.iLast:] )\n",
    "            \n",
    "    def __str__(self) :\n",
    "        return( \"{} {}\".format( self.__class__, self.aData[self.iLast:] + self.aData[:self.iLast] if self.isFull == True else self.aData[self.iLast:] ) )"
   ]
  },
  {
   "cell_type": "code",
   "execution_count": null,
   "id": "d2421557-7d75-4eca-8b8b-dc319b89c996",
   "metadata": {},
   "outputs": [],
   "source": [
    "# Inspiration: https://www.oreilly.com/library/view/python-cookbook/0596001673/ch05s19.html\n",
    "\n",
    "# Does not work in MicroPython!!! (2022-03-11)\n",
    "\n",
    "class RingBuffer:\n",
    "    class __Full:\n",
    "        def get(self, iIndex):\n",
    "            return self.aData[ (self.iLast + iIndex) % self.length ]\n",
    "\n",
    "        def add(self,val):\n",
    "            self.iLast = (self.iLast - 1) % self.length\n",
    "            self.aData[self.iLast] = val\n",
    "\n",
    "        def print(self) :\n",
    "            print( self.__class__, self.aData[self.iLast:] + self.aData[:self.iLast] )\n",
    "\n",
    "                \n",
    "    def __init__(self,len):\n",
    "        self.length = 0\n",
    "        self.iLast  = len\n",
    "        self.aData  = [0]*len # [i for i in range( len )]\n",
    "\n",
    "    def get(self, iIndex):\n",
    "        return self.aData[ self.iLast + (iIndex % self.length) ]\n",
    "        \n",
    "    def add(self,val):\n",
    "        self.iLast-=1\n",
    "        self.aData[self.iLast] = val\n",
    "        self.length +=1\n",
    "       \n",
    "        if len(self.aData) == self.length :\n",
    "            self.__class__ = self.__Full\n",
    "\n",
    "    def __str__(self) :\n",
    "        return( \"{} {}\".format( self.__class__, self.aData[self.iLast:] ) )"
   ]
  },
  {
   "cell_type": "markdown",
   "id": "f7dd7764-fbf1-481d-93f3-df9ee3506bf8",
   "metadata": {},
   "source": [
    "### Beispiel"
   ]
  },
  {
   "cell_type": "code",
   "execution_count": null,
   "id": "75f08b12-53b2-41ee-ba8d-abc91d84efd2",
   "metadata": {},
   "outputs": [],
   "source": [
    "# sample usage\n",
    "x=RingBuffer(5)\n",
    "for i in range( 15 ) :\n",
    "    x.add(i)\n",
    "    print( x )\n",
    "    for k in range( 2*x.length ) :\n",
    "        print( x.get( k ),end=\", \" )\n",
    "    print()"
   ]
  },
  {
   "cell_type": "markdown",
   "id": "bf34056a-ef9b-4a9e-a8e3-1c9dd308611c",
   "metadata": {},
   "source": [
    "---\n",
    "## Klasse AverageFilter\n",
    "### Klasse"
   ]
  },
  {
   "cell_type": "code",
   "execution_count": null,
   "id": "6a5fa027-dfb1-416e-8dea-7b59c1ae8709",
   "metadata": {},
   "outputs": [],
   "source": [
    "class AverageFilter :\n",
    "    def __init__(self,len):\n",
    "        self.length   = 0\n",
    "        self.iLast    = len\n",
    "        self.aData    = [0]*len # [i for i in range( len )]\n",
    "        self.fAverage = 0\n",
    "        self.isFull   = False\n",
    "        \n",
    "    def get(self, iIndex):\n",
    "        if self.isFull == True :\n",
    "            return self.aData[ (self.iLast + iIndex) % self.length ]\n",
    "        else :\n",
    "            return self.aData[ self.iLast + (iIndex % self.length) ]\n",
    "\n",
    "    def getAverage(self):\n",
    "        return self.fAverage\n",
    "        \n",
    "    def add(self,val):\n",
    "        if self.isFull == True :\n",
    "            self.iLast = (self.iLast - 1) % self.length\n",
    "            self.fAverage += ((val - self.aData[self.iLast])/self.length)\n",
    "            self.aData[self.iLast] = val\n",
    "        else :\n",
    "            self.iLast-=1\n",
    "            self.aData[self.iLast] = val\n",
    "            self.fAverage *= self.length\n",
    "            self.length +=1\n",
    "            self.fAverage = (self.fAverage + val)/self.length\n",
    "            if len(self.aData) == self.length :\n",
    "                self.isFull = True\n",
    "\n",
    "    def print(self) :\n",
    "        if self.isFull == True :\n",
    "            print( self.__class__, self.aData[self.iLast:] + self.aData[:self.iLast] )\n",
    "        else :\n",
    "            print( self.__class__, self.aData[self.iLast:] )\n",
    "    def __str__(self) :\n",
    "        return( \"{}  {} ==> Average = {}\".format( self.__class__, self.aData[self.iLast:] + self.aData[:self.iLast] if self.isFull == True else self.aData[self.iLast:] , self.fAverage ) )\n"
   ]
  },
  {
   "cell_type": "code",
   "execution_count": null,
   "id": "13bef765-7ccc-4bb4-88f3-bfdb23d66a17",
   "metadata": {},
   "outputs": [],
   "source": [
    "# Does not work in MicroPython!!! (2022-03-11)\n",
    "\n",
    "class AverageFilter:\n",
    "    class __Full:\n",
    "        def get(self):\n",
    "            return self.iAverage\n",
    "\n",
    "        def add(self,val):\n",
    "            self.iLast = (self.iLast - 1) % self.length\n",
    "            self.iAverage += (val-self.aData[self.iLast])/self.length\n",
    "            self.aData[self.iLast] = val\n",
    "\n",
    "        def __str__(self) :\n",
    "            return( \"{}  {} ==> Average = {}\".format( self.__class__, self.aData[self.iLast:] + self.aData[:self.iLast], self.iAverage ) )\n",
    "\n",
    "                \n",
    "    def __init__(self,len):\n",
    "        self.length   = 0\n",
    "        self.iLast    = len\n",
    "        self.aData    = [0]*len # [i for i in range( len )]\n",
    "        self.iAverage = 0\n",
    "\n",
    "    def getAverage(self):\n",
    "        return self.iAverage\n",
    "        \n",
    "    def add(self,val):\n",
    "        self.iLast-=1\n",
    "        self.aData[self.iLast] = val\n",
    "        self.iAverage*=self.length\n",
    "        self.length +=1\n",
    "        self.iAverage += val\n",
    "        self.iAverage /= self.length\n",
    "        \n",
    "        if len(self.aData) == self.length :\n",
    "            self.__class__ = self.__Full\n",
    "\n",
    "    def __str__(self) :\n",
    "        return( \"{}  {} ==> Average = {}\".format( self.__class__, self.aData[self.iLast:], self.iAverage ) )"
   ]
  },
  {
   "cell_type": "markdown",
   "id": "10dcb92c-2c5c-45b4-832d-108f046e50ab",
   "metadata": {},
   "source": [
    "### Beispiel"
   ]
  },
  {
   "cell_type": "code",
   "execution_count": null,
   "id": "2465f0b8-34d7-4879-82dc-9e6568607a44",
   "metadata": {},
   "outputs": [],
   "source": [
    "# sample usage\n",
    "x=AverageFilter(5)\n",
    "for i in range( 15 ) :\n",
    "    x.add(i)\n",
    "    print( x )\n",
    "    for k in range( 2*x.length ) :\n",
    "        print( x.get( k ),end=\", \" )\n",
    "    print()    "
   ]
  },
  {
   "cell_type": "markdown",
   "id": "7525c5ec-39e4-4df5-8488-8cfd49e10006",
   "metadata": {},
   "source": [
    "***"
   ]
  },
  {
   "cell_type": "code",
   "execution_count": null,
   "id": "da2fcd0c-b0a4-492f-9302-b130a61ae2d1",
   "metadata": {},
   "outputs": [],
   "source": []
  }
 ],
 "metadata": {
  "kernelspec": {
   "display_name": "Python 3 (ipykernel)",
   "language": "python",
   "name": "python3"
  },
  "language_info": {
   "codemirror_mode": {
    "name": "ipython",
    "version": 3
   },
   "file_extension": ".py",
   "mimetype": "text/x-python",
   "name": "python",
   "nbconvert_exporter": "python",
   "pygments_lexer": "ipython3",
   "version": "3.9.10"
  }
 },
 "nbformat": 4,
 "nbformat_minor": 5
}
