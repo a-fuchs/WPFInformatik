{
 "cells": [
  {
   "cell_type": "markdown",
   "id": "77ae446e-747f-4676-9745-9fbb3976e455",
   "metadata": {},
   "source": [
    "[Home](../index.ipynb) / Ultrasonic\n",
    "***\n",
    "# Ultrasonic\n",
    "***"
   ]
  },
  {
   "cell_type": "markdown",
   "id": "27cf5fdb-b8cb-4ccd-aa6f-e8f3b56a61a1",
   "metadata": {},
   "source": [
    "## Informationen\n",
    "Verwendet wird der Ultraschallsensor **HC-SR04** [Datenblatt](doc/HC-SR04-Ultrasonic.pdf) (von: www.handsontec.com)\n",
    "\n",
    "Source der Klasse HCSR04: [Roberto Sánchez on Github](https://github.com/rsc1975/micropython-hcsr04/blob/master/hcsr04.py) ([Licence: local copy](licenses/LICENCE.txt))"
   ]
  },
  {
   "cell_type": "markdown",
   "id": "3175bcab-8142-438e-a5fd-d2c2b6f23b15",
   "metadata": {},
   "source": [
    "## Klasse: HCSR04"
   ]
  },
  {
   "cell_type": "code",
   "execution_count": null,
   "id": "ed920d4f-5371-4b5b-8501-a0074f6e2cec",
   "metadata": {},
   "outputs": [],
   "source": [
    "# %serialconnect --port=COM3 # Windows\n",
    "%serialconnect # Linux or Windows with one COM-port"
   ]
  },
  {
   "cell_type": "code",
   "execution_count": null,
   "id": "17dc2feb-5b9a-49aa-9723-7bc4dd4a26e6",
   "metadata": {},
   "outputs": [],
   "source": [
    "from machine import Pin, time_pulse_us\n",
    "from utime import sleep_us\n",
    "\n",
    "__version__ = '0.2.1'\n",
    "__author__ = 'Roberto Sánchez'\n",
    "__license__ = \"Apache License 2.0. https://www.apache.org/licenses/LICENSE-2.0\"\n",
    "\n",
    "class HCSR04:\n",
    "    \"\"\"\n",
    "    Driver to use the untrasonic sensor HC-SR04.\n",
    "    The sensor range is between 2cm and 4m.\n",
    "    The timeouts received listening to echo pin are converted to OSError('Out of range')\n",
    "    \"\"\"\n",
    "    # echo_timeout_us is based in chip range limit (400cm)\n",
    "    def __init__(self, trigger_pin, echo_pin, echo_timeout_us=500*2*30):\n",
    "        \"\"\"\n",
    "        trigger_pin: Output pin to send pulses\n",
    "        echo_pin: Readonly pin to measure the distance. The pin should be protected with 1k resistor\n",
    "        echo_timeout_us: Timeout in microseconds to listen to echo pin. \n",
    "        By default is based in sensor limit range (4m)\n",
    "        \"\"\"\n",
    "        self.echo_timeout_us = echo_timeout_us\n",
    "        # Init trigger pin (out)\n",
    "        self.trigger = Pin(trigger_pin, mode=Pin.OUT, pull=None)\n",
    "        self.trigger.value(0)\n",
    "\n",
    "        # Init echo pin (in)\n",
    "        self.echo = Pin(echo_pin, mode=Pin.IN, pull=None)\n",
    "\n",
    "    def _send_pulse_and_wait(self):\n",
    "        \"\"\"\n",
    "        Send the pulse to trigger and listen on echo pin.\n",
    "        We use the method `machine.time_pulse_us()` to get the microseconds until the echo is received.\n",
    "        \"\"\"\n",
    "        self.trigger.value(0) # Stabilize the sensor\n",
    "        sleep_us(5)\n",
    "        self.trigger.value(1)\n",
    "        # Send a 10us pulse.\n",
    "        sleep_us(10)\n",
    "        self.trigger.value(0)\n",
    "        try:\n",
    "            pulse_time = time_pulse_us(self.echo, 1, self.echo_timeout_us)\n",
    "            # time_pulse_us returns -2 if there was timeout waiting for condition; and -1 if there was timeout during the main measurement. It DOES NOT raise an exception\n",
    "            # ...as of MicroPython 1.17: http://docs.micropython.org/en/v1.17/library/machine.html#machine.time_pulse_us\n",
    "            if pulse_time < 0:\n",
    "                MAX_RANGE_IN_CM = const(500) # it's really ~400 but I've read people say they see it working up to ~460\n",
    "                pulse_time = int(MAX_RANGE_IN_CM * 29.1) # 1cm each 29.1us\n",
    "            return pulse_time\n",
    "        except OSError as ex:\n",
    "            if ex.args[0] == 110: # 110 = ETIMEDOUT\n",
    "                raise OSError('Out of range')\n",
    "            raise ex\n",
    "\n",
    "    def distance_mm(self):\n",
    "        \"\"\"\n",
    "        Get the distance in milimeters without floating point operations.\n",
    "        \"\"\"\n",
    "        pulse_time = self._send_pulse_and_wait()\n",
    "\n",
    "        # To calculate the distance we get the pulse_time and divide it by 2 \n",
    "        # (the pulse walk the distance twice) and by 29.1 becasue\n",
    "        # the sound speed on air (343.2 m/s), that It's equivalent to\n",
    "        # 0.34320 mm/us that is 1mm each 2.91us\n",
    "        # pulse_time // 2 // 2.91 -> pulse_time // 5.82 -> pulse_time * 100 // 582 \n",
    "        mm = pulse_time * 100 // 582\n",
    "        return mm\n",
    "\n",
    "    def distance_cm(self):\n",
    "        \"\"\"\n",
    "        Get the distance in centimeters with floating point operations.\n",
    "        It returns a float\n",
    "        \"\"\"\n",
    "        pulse_time = self._send_pulse_and_wait()\n",
    "\n",
    "        # To calculate the distance we get the pulse_time and divide it by 2 \n",
    "        # (the pulse walk the distance twice) and by 29.1 becasue\n",
    "        # the sound speed on air (343.2 m/s), that It's equivalent to\n",
    "        # 0.034320 cm/us that is 1cm each 29.1us\n",
    "        cms = (pulse_time / 2) / 29.1\n",
    "        return cms"
   ]
  },
  {
   "cell_type": "markdown",
   "id": "614bc076-8f7a-4abe-90be-71c45ec17a11",
   "metadata": {},
   "source": [
    "## Beispiel"
   ]
  },
  {
   "cell_type": "code",
   "execution_count": 43,
   "id": "1921fc69-bb4e-4147-84f0-369127646a47",
   "metadata": {},
   "outputs": [
    {
     "name": "stdout",
     "output_type": "stream",
     "text": [
      "....\u001b[34m\n",
      "\n",
      "*** Sending Ctrl-C\n",
      "\n",
      "\u001b[0mDone.\n"
     ]
    }
   ],
   "source": [
    "# Sample\n",
    "import time\n",
    "from machine import Pin \n",
    "from display import Display\n",
    "\n",
    "#sensor  = HCSR04(trigger_pin=16, echo_pin=14)\n",
    "sensor  = HCSR04(trigger_pin=12, echo_pin=14)\n",
    "display = Display()    \n",
    "\n",
    "display.text( \"Distance:\", 0, 0 )\n",
    "\n",
    "\n",
    "# For calculating average:\n",
    "MAX_DATA = 10\n",
    "\n",
    "iIndex  = 0\n",
    "aData   = [0]*MAX_DATA\n",
    "sumData = 0\n",
    "\n",
    "\n",
    "# Loop \"forever\"\n",
    "\n",
    "while True:    \n",
    "    display.fill_rect( 10, 12, 127, 24, 0 ) # clear old data from screen\n",
    "    \n",
    "    try:\n",
    "        # get sensor value:\n",
    "        distance = sensor.distance_cm()\n",
    "        \n",
    "        # Calculate average:\n",
    "        sumData -= aData[ iIndex ]\n",
    "        aData[ iIndex ] = distance\n",
    "        sumData += distance\n",
    "        iIndex = (iIndex + 1)%MAX_DATA\n",
    "        \n",
    "        # display average\n",
    "        display.text( \"{:>4.0f} cm\".format(sumData/MAX_DATA), 10, 12 )\n",
    "        \n",
    "    except OSError as ex:\n",
    "        display.text( \"ERROR getting distance:\", 10, 12 )\n",
    "        display.fill_rect( 10, 24, 127, 36, 0 )\n",
    "        display.text( str(ex), 10, 24 )\n",
    "\n",
    "    except KeyboardInterrupt:\n",
    "        display.text( \"Stopped\", 0, 50 )\n",
    "        display.show()\n",
    "        break\n",
    "\n",
    "    display.show()\n",
    "    \n",
    "print( \"Done.\" ) \n",
    "\n"
   ]
  },
  {
   "cell_type": "code",
   "execution_count": null,
   "id": "1ab69915-6f02-4aa3-b86e-08ad87500d53",
   "metadata": {},
   "outputs": [],
   "source": []
  }
 ],
 "metadata": {
  "kernelspec": {
   "display_name": "MicroPython - USB",
   "language": "micropython",
   "name": "micropython"
  },
  "language_info": {
   "codemirror_mode": "python",
   "file_extension": ".py",
   "mimetype": "text/python",
   "name": "micropython"
  }
 },
 "nbformat": 4,
 "nbformat_minor": 5
}
