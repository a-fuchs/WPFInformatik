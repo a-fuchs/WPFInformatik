{
 "cells": [
  {
   "cell_type": "markdown",
   "id": "dff8c9ec",
   "metadata": {
    "tags": []
   },
   "source": [
    "<!--\n",
    "Doc Writer email@nixdabei.de\n",
    "v0.0.1, 2022-02-03\n",
    "-->\n",
    "[Home](../index.ipynb) / MicroPython auf dem Microcontroller installieren\n",
    "***\n",
    "<span style=\"font-size:20pt;\">MicroPython auf dem Microcontroller installieren</span>\n",
    "***"
   ]
  },
  {
   "cell_type": "markdown",
   "id": "73a93aeb-48a2-48a9-9774-90843ed2705d",
   "metadata": {
    "tags": []
   },
   "source": [
    "* Esp8266\n",
    "  * Croduino Nova\n",
    "    * [0,96'' Display: ssd1306](Esp8266_Croduino/SetupEsp8266_Croduino_ssd1306.ipynb)\n",
    "    * [1,3'' Display: sh1106](Esp8266_Croduino/SetupEsp8266_Croduino_sh1106.ipynb)\n",
    "* ESP32    \n",
    "  * HelTec\n",
    "    * [0,96'' Display: ssd1306](Esp32_HelTec/SetupEsp32_HelTec_ssd1306.ipynb)\n",
    "    * [1,3'' Display: sh1106](Esp32_HelTec/SetupEsp32_HelTec_sh1106.ipynb)\n",
    "  * NodeMCU\n",
    "    * [0,96'' Display: ssd1306](Esp32_NodeMCU/SetupEsp32_NodeMCU_ssd1306.ipynb)\n",
    "    * [1,3'' Display: sh1106](Esp32_NodeMCU/SetupEsp32_NodeMCU_sh1106.ipynb)\n",
    "  \n",
    "* [Check the controllers](CheckController.ipynb)\n"
   ]
  },
  {
   "cell_type": "code",
   "execution_count": null,
   "id": "315457bf-7f9a-4939-8274-2e7bf1bd92a1",
   "metadata": {},
   "outputs": [],
   "source": []
  }
 ],
 "metadata": {
  "kernelspec": {
   "display_name": "Python 3 (ipykernel)",
   "language": "python",
   "name": "python3"
  },
  "language_info": {
   "codemirror_mode": {
    "name": "ipython",
    "version": 3
   },
   "file_extension": ".py",
   "mimetype": "text/x-python",
   "name": "python",
   "nbconvert_exporter": "python",
   "pygments_lexer": "ipython3",
   "version": "3.9.10"
  },
  "toc-autonumbering": true
 },
 "nbformat": 4,
 "nbformat_minor": 5
}
