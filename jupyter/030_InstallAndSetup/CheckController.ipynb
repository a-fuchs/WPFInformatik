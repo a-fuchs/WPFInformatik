{
 "cells": [
  {
   "cell_type": "markdown",
   "id": "4dcb6307-20ad-484f-860c-6bbc66eb6708",
   "metadata": {},
   "source": [
    "<!--\n",
    "Doc Writer email@nixdabei.de\n",
    "v0.0.1, 2021-03-23\n",
    "-->\n",
    "[Home](../index.ipynb) / Check controller\n",
    "***\n",
    "<span style=\"font-size:20pt;\">Check controller</span>\n",
    "***"
   ]
  },
  {
   "cell_type": "markdown",
   "id": "f442ecb1-c7b7-4a84-a46c-3fb935b5a483",
   "metadata": {},
   "source": [
    "# Files"
   ]
  },
  {
   "cell_type": "markdown",
   "id": "d049f89d-3eec-4d3f-b1bb-c8ed9e2c2433",
   "metadata": {},
   "source": [
    "## List files and show file contents"
   ]
  },
  {
   "cell_type": "code",
   "execution_count": 6,
   "id": "2fc33f33-5f75-4f55-9348-dffb1a37f2a6",
   "metadata": {},
   "outputs": [
    {
     "name": "stdout",
     "output_type": "stream",
     "text": [
      "\u001b[34mConnecting to --port=/dev/ttyUSB4 --baud=115200 \u001b[0m\n",
      "\u001b[34mReady.\n",
      "\u001b[0mListing directory '/'.\n",
      "       23    boot.py\n",
      "     2127    display.py\n",
      "       28    info.py\n",
      "      455    main.py\n",
      "     2764    ssd1306.py\n"
     ]
    }
   ],
   "source": [
    "#%serialconnect --port=COM3 --baud=115200\n",
    "%serialconnect\n",
    "%ls"
   ]
  },
  {
   "cell_type": "code",
   "execution_count": null,
   "id": "e15ca218-eee3-4382-8aa2-d55489649634",
   "metadata": {},
   "outputs": [],
   "source": [
    "%serialconnect\n",
    "\n",
    "import os\n",
    "\n",
    "def lsDir( strDir, showContent = False ) :\n",
    "    files = os.listdir(strDir)\n",
    "    print( files )\n",
    "    for f in files:\n",
    "        print(f)\n",
    "        if showContent :\n",
    "            print( \"Content >>---\" )\n",
    "            print(open(f).read())\n",
    "            print( \"-----------<<\\n\" )\n",
    "\n",
    "lsDir( \"/\", True )"
   ]
  },
  {
   "cell_type": "markdown",
   "id": "bc45f6bc-8246-44c0-86c1-4e1e502338f0",
   "metadata": {},
   "source": [
    "## Delete files"
   ]
  },
  {
   "cell_type": "code",
   "execution_count": 13,
   "id": "0dcdf6b9-8bde-4060-8a19-f7370962bc64",
   "metadata": {},
   "outputs": [
    {
     "name": "stdout",
     "output_type": "stream",
     "text": [
      "\u001b[34mConnecting to --port=/dev/ttyUSB5 --baud=115200 \u001b[0m\n",
      "\u001b[34mReady.\n",
      "\u001b[0mremove file '/'\n"
     ]
    }
   ],
   "source": [
    "%serialconnect\n",
    "import os\n",
    "\n",
    "def deleteFile( strFile ) :\n",
    "    try:\n",
    "        print( \"remove file '{}'\".format( strFile ) )\n",
    "        os.remove( strFile)\n",
    "    except:\n",
    "        pass\n",
    "    \n",
    "def deleteDir( strDir ) :\n",
    "    files = os.listdir(strDir)\n",
    "    for f in files:\n",
    "        deleteFile(f)\n",
    "\n",
    "    deleteFile( strDir )\n",
    "\n",
    "deleteDir( \"/\" )\n"
   ]
  },
  {
   "cell_type": "markdown",
   "id": "fba9522a-6bdf-43a8-835a-b7631b5ed0c2",
   "metadata": {
    "tags": []
   },
   "source": [
    "# I2C Bus scan"
   ]
  },
  {
   "cell_type": "code",
   "execution_count": 3,
   "id": "f04e4b64-d57f-4084-80b6-a42f440dd363",
   "metadata": {},
   "outputs": [
    {
     "name": "stdout",
     "output_type": "stream",
     "text": [
      "\u001b[34mConnecting to --port=/dev/ttyUSB4 --baud=115200 \u001b[0m\n",
      "\u001b[34mReady.\n",
      "\u001b[0mUsing Esp8266 Croduino Nova\n",
      "Scan i2c bus...\n",
      "i2c devices found: 1\n",
      "Decimal address:  60  | Hexa address:  0x3c\n"
     ]
    }
   ],
   "source": [
    "#========================================================================\n",
    "# Scan I2C-Bus\n",
    "#========================================================================\n",
    "\n",
    "%serialconnect\n",
    "#%serialconnect --port=COM3 --baud=115200\n",
    "import machine\n",
    "import info\n",
    "\n",
    "def scanI2c():\n",
    "    if info.TYPE == \"Esp8266 Croduino Nova\" :\n",
    "        print( \"Using Esp8266 Croduino Nova\" )\n",
    "        PIN_SCL = 4\n",
    "        PIN_SDA = 5\n",
    "        i2c = machine.I2C(scl=machine.Pin(PIN_SCL), sda=machine.Pin(PIN_SDA))\n",
    "\n",
    "    elif info.TYPE == \"Esp32 NodeMCU\" :\n",
    "        print( \"Using Esp32 NodeMCU\" )\n",
    "        PIN_SCL = 21\n",
    "        PIN_SDA = 22\n",
    "        i2c = machine.I2C(1, scl=machine.Pin(PIN_SCL), sda=machine.Pin(PIN_SDA))\n",
    "        \n",
    "    elif info.TYPE == \"Esp32 HelTec\" :\n",
    "        print( \"Using Esp32 HelTec\" )\n",
    "        PIN_SCL = 15\n",
    "        PIN_SDA =  4\n",
    "        i2c = machine.I2C(1, scl=machine.Pin(PIN_SCL), sda=machine.Pin(PIN_SDA))   \n",
    "    else :\n",
    "        print( \"Unknown controller!\" )\n",
    "\n",
    "\n",
    "    print('Scan i2c bus...')\n",
    "\n",
    "    devices = i2c.scan()\n",
    "\n",
    "    if len(devices) == 0:\n",
    "        print( \"No I2C-bus on scl={} and sda={}\".format( PIN_SCL, PIN_SDA ) )\n",
    "    else:\n",
    "        print('i2c devices found:',len(devices))\n",
    "\n",
    "    for device in devices:\n",
    "        print(\"Decimal address: \",device,\" | Hexa address: \",hex(device))\n",
    "\n",
    "\n",
    "scanI2c()"
   ]
  },
  {
   "cell_type": "markdown",
   "id": "49b88581-fe7e-4e67-9c77-fab1bb8a9cd4",
   "metadata": {
    "tags": []
   },
   "source": [
    "# Tests"
   ]
  },
  {
   "cell_type": "markdown",
   "id": "b01bdfe4-20dd-46a1-962b-ae94547ead86",
   "metadata": {},
   "source": [
    "## Check display"
   ]
  },
  {
   "cell_type": "code",
   "execution_count": 9,
   "id": "6f500cca-a2d4-4e85-a6e1-437a1c2965b8",
   "metadata": {},
   "outputs": [
    {
     "name": "stdout",
     "output_type": "stream",
     "text": [
      "\u001b[31m\n",
      "\n",
      "***Connection broken [Input/output error]\n",
      "\u001b[0mYou may need to reconnect\u001b[34m\n",
      "Closing serial Serial<id=0x7f99cb8e0bb0, open=True>(port='/dev/ttyUSB3', baudrate=115200, bytesize=8, parity='N', stopbits=1, timeout=0.5, xonxoff=False, rtscts=False, dsrdtr=False)\n",
      "\u001b[0m\u001b[34mConnecting to --port=/dev/ttyUSB4 --baud=115200 \u001b[0m\n",
      "\u001b[34mReady.\n",
      "\u001b[0m"
     ]
    }
   ],
   "source": [
    "#========================================================================\n",
    "# Check Display\n",
    "#========================================================================\n",
    "\n",
    "#%serialconnect --port=COM3 --baud=115200\n",
    "%serialconnect\n",
    "\n",
    "import display\n",
    "\n",
    "# using default address 0x3C\n",
    "display = display.Display()\n",
    "display.fill(0)\n",
    "#display.invert(1)      # display inverted\n",
    "display.invert( 0 )\n",
    "display.text(\"OLED 128x64\",  0,  0, 1) # last parameter: 1: white (default), 0: black\n",
    "display.hline(0, 10, 128, 1)\n",
    "display.text(\"Drueben am Walde\", 0, 16 )   # white is default\n",
    "display.text(\"Kaengt ein Guruh\", 0, 26 ) \n",
    "display.text(\"Warte nur balde\",  0, 36 )\n",
    "display.text(\"Kaengurst\",        0, 46 )\n",
    "display.text(\"auch du    (J.R)\", 0, 56 ) # 56: maximal\n",
    "display.fill_rect(64, 56, 7, 7, 1)\n",
    "\n",
    "display.show()"
   ]
  },
  {
   "cell_type": "code",
   "execution_count": 11,
   "id": "637b6063-18d5-4f26-80b3-d2984fc48ba9",
   "metadata": {
    "tags": []
   },
   "outputs": [
    {
     "name": "stdout",
     "output_type": "stream",
     "text": [
      "\u001b[34mConnecting to --port=/dev/ttyUSB4 --baud=115200 \u001b[0m\n",
      "\u001b[34mReady.\n",
      "\u001b[0m.."
     ]
    }
   ],
   "source": [
    "#========================================================================\n",
    "# Check internal orange LED\n",
    "#========================================================================\n",
    "\n",
    "%serialconnect\n",
    "\n",
    "import machine\n",
    "import info\n",
    "\n",
    "LED_ONBOARD = None\n",
    "\n",
    "if info.TYPE == \"Esp8266 Croduino Nova\" :\n",
    "    LED_ONBOARD = 13\n",
    "elif info.TYPE == \"Esp32 NodeMCU\" :\n",
    "    print( \"Sorry: 'Esp32 NodeMCU' has no usable on board LED.\" )\n",
    "elif info.TYPE == \"Esp32 HelTec\" :\n",
    "    LED_ONBOARD = 25\n",
    "else :\n",
    "    print( \"Unknown controller!\" )\n",
    "    \n",
    "def pulse(l, t):\n",
    "    import time, math\n",
    "    for i in range(20):\n",
    "        l.duty(int(math.sin(i / 10 * math.pi) * 500 + 500))\n",
    "        time.sleep_ms(t)\n",
    "\n",
    "if  LED_ONBOARD != None :\n",
    "    import machine\n",
    "    led = machine.PWM(machine.Pin(LED_ONBOARD), freq=1000)\n",
    "    for i in range(10):\n",
    "        pulse(led, 50)\n"
   ]
  },
  {
   "cell_type": "code",
   "execution_count": null,
   "id": "6b63ef15-c036-4d32-9227-8da1a6a3089a",
   "metadata": {},
   "outputs": [],
   "source": []
  }
 ],
 "metadata": {
  "kernelspec": {
   "display_name": "MicroPython - USB",
   "language": "micropython",
   "name": "micropython"
  },
  "language_info": {
   "codemirror_mode": "python",
   "file_extension": ".py",
   "mimetype": "text/python",
   "name": "micropython"
  }
 },
 "nbformat": 4,
 "nbformat_minor": 5
}
