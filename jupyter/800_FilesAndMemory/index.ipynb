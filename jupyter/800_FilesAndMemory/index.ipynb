{
 "cells": [
  {
   "cell_type": "markdown",
   "id": "b1605d0b-f5e7-43d0-a862-7de20574ce4f",
   "metadata": {},
   "source": [
    "<!--\n",
    "Doc Writer email@nixdabei.de\n",
    "v0.0.1, 2021-03-23\n",
    "-->\n",
    "[Home](../index.ipynb) / Files and memory\n",
    "***\n",
    "# Files"
   ]
  },
  {
   "cell_type": "markdown",
   "id": "253afa67-8e08-4f11-ab8e-2c6ca83a9913",
   "metadata": {},
   "source": [
    "## Dateien auf den Controller schreiben\n",
    "\n",
    "[Source: docs.micropython.org](https://docs.micropython.org/en/latest/reference/filesystem.html#vfs)\n",
    "\n",
    "1) Datei `/dir1/hello.txt` zum schreiben öffnen und `\"Hello world\"` reinschreiben:"
   ]
  },
  {
   "cell_type": "code",
   "execution_count": null,
   "id": "0e605a4b-bf5f-43a5-9d20-915a0e16ac7c",
   "metadata": {},
   "outputs": [],
   "source": [
    "%serialconnect\n",
    "\n",
    "import os\n",
    "\n",
    "os.mkdir(\"/dir1\") # Ordner \"/dir1\" anlegen (\"mkdir\" für \"make directory\")\n",
    "\n",
    "with open(\"/dir1/hello.txt\", \"w\") as f:\n",
    "    f.write(\"Hello world!\")"
   ]
  },
  {
   "cell_type": "markdown",
   "id": "ad9e9075-c723-4e6f-bec2-08c31dd47860",
   "metadata": {},
   "source": [
    "## Dateien auflisten"
   ]
  },
  {
   "cell_type": "markdown",
   "id": "55010d64-5f3c-41c5-9c0a-f0e709da94ad",
   "metadata": {},
   "source": [
    "Nun den Controller **abstecken!**  \n",
    "Wieder anstecken, verbinden und Dateien auflisten:  \n",
    "z.B: mit"
   ]
  },
  {
   "cell_type": "code",
   "execution_count": null,
   "id": "a95032ec-02d2-4143-a1cb-da25c5e41be9",
   "metadata": {},
   "outputs": [],
   "source": [
    "%serialconnect\n",
    "\n",
    "import os\n",
    "\n",
    "print( os.listdir( \"/dir1\" ) )"
   ]
  },
  {
   "cell_type": "markdown",
   "id": "119a6441-ba3e-4488-bb3d-e1ad794adba5",
   "metadata": {},
   "source": [
    "oder dem \"magic\" `%ls`"
   ]
  },
  {
   "cell_type": "code",
   "execution_count": null,
   "id": "ec3389b0-d22e-46af-901b-702106e1bc97",
   "metadata": {},
   "outputs": [],
   "source": [
    "%ls /dir1\n",
    "\n",
    "# %ls bedeutet: %ls /"
   ]
  },
  {
   "cell_type": "markdown",
   "id": "f7519e9f-6f04-4fb3-b809-a7517fd28bd9",
   "metadata": {},
   "source": [
    "## Dateiinhalt lesen"
   ]
  },
  {
   "cell_type": "code",
   "execution_count": null,
   "id": "eda7501a-2184-4771-b4db-a32ef6d8b1ee",
   "metadata": {},
   "outputs": [],
   "source": [
    "print(open(\"/dir1/hello.txt\").read())"
   ]
  },
  {
   "cell_type": "markdown",
   "id": "2b52f60e-d25f-41d6-9b25-82489846026b",
   "metadata": {},
   "source": [
    "## Dateien löschen"
   ]
  },
  {
   "cell_type": "code",
   "execution_count": null,
   "id": "28462c34-ea93-4744-a284-591f3da9ebdd",
   "metadata": {},
   "outputs": [],
   "source": [
    "import os\n",
    "os.remove(\"/dir1/hello.txt\")\n",
    "os.rmdir( \"/dir1\" )\n",
    "\n",
    "print( os.listdir( \"/\" ) )"
   ]
  },
  {
   "cell_type": "markdown",
   "id": "7fe6e6c3-7b24-4c1a-b21a-0cc6f3656a97",
   "metadata": {},
   "source": [
    "## Praktisch Funktionen"
   ]
  },
  {
   "cell_type": "code",
   "execution_count": null,
   "id": "abbaf907-7bb8-4a6d-8e99-c21e291a5baa",
   "metadata": {},
   "outputs": [],
   "source": [
    "%serialconnect\n",
    "import os\n",
    "\n",
    "def lsDir( strDir, recurseDepth = 0, showContent = False ) :\n",
    "    \n",
    "    files = os.listdir(strDir)\n",
    "\n",
    "    if strDir[-1] != \"/\" :\n",
    "        strDir += \"/\"\n",
    "        \n",
    "    for f in files:\n",
    "        fPath = strDir + f\n",
    "        \n",
    "        if os.stat( fPath )[0] & 0x8000 > 0: # its a file\n",
    "            print( fPath )\n",
    "            \n",
    "            if showContent :\n",
    "                print( \"Content >>---\" )\n",
    "                print(open(fPath).read())\n",
    "                print( \"-----------<<\\n\" )\n",
    "        else: # its a directory\n",
    "            if   recurseDepth < 0 : lsDir( fPath, recurseDepth,    showContent )\n",
    "            elif recurseDepth > 0 : lsDir( fPath, recurseDepth -1, showContent )\n",
    "\n",
    "lsDir( \"/\" )\n",
    "print()\n",
    "lsDir( \"/\", -1 )\n",
    "print()\n",
    "lsDir( \"/\", 1 , True )\n"
   ]
  },
  {
   "cell_type": "markdown",
   "id": "a826597b-e6e2-434e-a8b8-8ab93c66074f",
   "metadata": {},
   "source": [
    "# Memory"
   ]
  },
  {
   "cell_type": "markdown",
   "id": "4f4f7200-6b6e-474c-9817-11c04c8a184b",
   "metadata": {},
   "source": [
    "## Speicherbelegung anzeigen"
   ]
  },
  {
   "cell_type": "code",
   "execution_count": null,
   "id": "938056c4-5bd3-473f-8d91-c2a8c9541dd1",
   "metadata": {},
   "outputs": [],
   "source": [
    "import gc\n",
    "import os\n",
    "\n",
    "def df():\n",
    "  s = os.statvfs('//')\n",
    "  return ('{} MB'.format((s[0]*s[3])/1048576))\n",
    "\n",
    "def free(bAbsolute=False):\n",
    "  memFree  = gc.mem_free()\n",
    "  memAlloc = gc.mem_alloc()\n",
    "  memTotal = memFree + memAlloc\n",
    "  return \"{0:.2f}%\".format(memFree/memTotal*100) if not bAbsolute else \"Free: {}, Allocated: {}, Total: {}\".format(memFree,memAlloc,memTotal)\n",
    "\n",
    "def printMem():\n",
    "    gc.collect() # first call garbage collector\n",
    "    print( \"{}; Disk: {}\".format( free(True), df()) )\n",
    "\n",
    "printMem()"
   ]
  },
  {
   "cell_type": "markdown",
   "id": "442157db-307d-4845-af65-74f81c2fc3c0",
   "metadata": {},
   "source": [
    "## RAM-Disk anlegen"
   ]
  },
  {
   "cell_type": "code",
   "execution_count": null,
   "id": "b260aec4-8bcd-47b4-bef7-d73a21060d6f",
   "metadata": {},
   "outputs": [],
   "source": [
    "%serialconnect\n",
    "\n",
    "class RAMBlockDev:\n",
    "    def __init__(self, block_size, num_blocks):\n",
    "        self.block_size = block_size\n",
    "        self.data = bytearray(block_size * num_blocks)\n",
    "\n",
    "    def readblocks(self, block_num, buf, offset=0):\n",
    "        addr = block_num * self.block_size + offset\n",
    "        for i in range(len(buf)):\n",
    "            buf[i] = self.data[addr + i]\n",
    "\n",
    "    def writeblocks(self, block_num, buf, offset=None):\n",
    "        if offset is None:\n",
    "            # do erase, then write\n",
    "            for i in range(len(buf) // self.block_size):\n",
    "                self.ioctl(6, block_num + i)\n",
    "            offset = 0\n",
    "        addr = block_num * self.block_size + offset\n",
    "        for i in range(len(buf)):\n",
    "            self.data[addr + i] = buf[i]\n",
    "\n",
    "    def ioctl(self, op, arg):\n",
    "        if op == 4: # block count\n",
    "            return len(self.data) // self.block_size\n",
    "        if op == 5: # block size\n",
    "            return self.block_size\n",
    "        if op == 6: # block erase\n",
    "            return 0"
   ]
  },
  {
   "cell_type": "code",
   "execution_count": null,
   "id": "c7eba98a-a77f-43bf-84e7-6c583bb90e5f",
   "metadata": {},
   "outputs": [],
   "source": [
    "import os\n",
    "\n",
    "bdev = RAMBlockDev(512, 50)\n",
    "os.VfsLfs2.mkfs(bdev)\n",
    "os.mount(bdev, '/ramdisk1')\n",
    "\n",
    "\n",
    "with open('/ramdisk1/hello.txt', 'w') as f:\n",
    "    f.write('Hello world!!!')\n",
    "print(open('/ramdisk1/hello.txt').read())\n"
   ]
  },
  {
   "cell_type": "code",
   "execution_count": null,
   "id": "ace690b6-428d-4e93-98ff-04a0b9b17b6a",
   "metadata": {},
   "outputs": [],
   "source": [
    "%ls /ramdisk"
   ]
  }
 ],
 "metadata": {
  "kernelspec": {
   "display_name": "MicroPython - USB",
   "language": "micropython",
   "name": "micropython"
  },
  "language_info": {
   "codemirror_mode": "python",
   "file_extension": ".py",
   "mimetype": "text/python",
   "name": "micropython"
  }
 },
 "nbformat": 4,
 "nbformat_minor": 5
}
