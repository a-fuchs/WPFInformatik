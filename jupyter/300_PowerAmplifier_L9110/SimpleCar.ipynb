{
 "cells": [
  {
   "cell_type": "markdown",
   "id": "61d5709c-a1ae-45ae-92c5-01df3525b177",
   "metadata": {},
   "source": [
    "<!--\n",
    "Doc Writer email@nixdabei.de\n",
    "v0.0.1, 2022-02-19\n",
    "-->\n",
    "[Home](../index.ipynb) /  Leistungstreiber L9110: Simple car\n",
    "***\n",
    "# Leistungstreiber L9110: Simple Car"
   ]
  },
  {
   "cell_type": "markdown",
   "id": "836b2fcc-4e0f-4ea1-ac4b-a525a2806782",
   "metadata": {
    "tags": []
   },
   "source": [
    "## Klasse: Motor"
   ]
  },
  {
   "cell_type": "code",
   "execution_count": 51,
   "id": "0cc13031-d42c-40c8-a831-90d195df933c",
   "metadata": {},
   "outputs": [
    {
     "name": "stdout",
     "output_type": "stream",
     "text": [
      "\u001b[34mConnecting to --port=/dev/ttyUSB0 --baud=115200 \u001b[0m\n",
      "\u001b[34mReady.\n",
      "\u001b[0m"
     ]
    }
   ],
   "source": [
    "%serialconnect #--port=COM3 # Windows with more than one COM-Port\n",
    "\n",
    "import machine\n",
    "\n",
    "class Motor :\n",
    "    def __init__( self, \n",
    "            iPinA, \n",
    "            iPinB,\n",
    "            iFrequency     = 1000,\n",
    "            iDutyMinLeft   =    0,  # Duty for speed = 0:              motor turns left\n",
    "            iDutyMaxLeft   = 1023,  # Duty for speed = fSpeedMaxLeft:  motor turns left\n",
    "            iDutyMinRight  =    0,  # Duty for speed = 0:              motor turns right\n",
    "            iDutyMaxRight  = 1023,  # Duty for speed = fSpeedMaxRight: motor turns right\n",
    "            fSpeedMaxLeft  = -1.0,  # Minimal value for setSpeed() --> iDutyMaxLeft\n",
    "            fSpeedMaxRight =  1.0   # Maximal value for setSpeed() --> iDutyMaxRight\n",
    "        ) :\n",
    "        self._iFrequency    = iFrequency\n",
    "        self._fScaleLeft    =  (iDutyMaxLeft  - iDutyMinLeft )/fSpeedMaxLeft\n",
    "        self._fScaleRight   =  (iDutyMaxRight - iDutyMinRight)/fSpeedMaxRight\n",
    "        self._iDutyMinLeft  = iDutyMinLeft\n",
    "        self._iDutyMinRight = iDutyMinRight\n",
    "        \n",
    "        self._fCurSpeed     = 0\n",
    "        \n",
    "        self._pwmA = machine.PWM( machine.Pin(iPinA), freq=self._iFrequency, duty=0)\n",
    "        self._pwmB = machine.PWM( machine.Pin(iPinB), freq=self._iFrequency, duty=0)\n",
    "        \n",
    "        self._pwmDir   = self._pwmA\n",
    "        self._pwmSpeed = self._pwmB\n",
    "        \n",
    "    def speedToDuty( self, fSpeed ) :\n",
    "        if fSpeed == 0 :\n",
    "            return 0\n",
    "        elif fSpeed < 0 :\n",
    "            return int(self._iDutyMinLeft  + fSpeed*self._fScaleLeft +0.5)\n",
    "        else :\n",
    "            return int(self._iDutyMinRight + fSpeed*self._fScaleRight+0.5)\n",
    "            \n",
    "    \n",
    "    def setLeft( self ) :\n",
    "        self._pwmDir   = self._pwmA\n",
    "        self._pwmDir.duty( 0 )\n",
    "        self._pwmSpeed = self._pwmB\n",
    "    \n",
    "    def setRight( self ) :\n",
    "        self._pwmDir   = self._pwmB\n",
    "        self._pwmDir.duty( 0 )\n",
    "        self._pwmSpeed = self._pwmA\n",
    "    \n",
    "    def setSpeed( self, fSpeed ) :\n",
    "        if fSpeed != self._fCurSpeed :\n",
    "            iDuty = self.speedToDuty( fSpeed )\n",
    "                \n",
    "            if fSpeed > 0 and self._fCurSpeed <= 0 :\n",
    "                self.setLeft()\n",
    "\n",
    "            elif fSpeed < 0 and self._fCurSpeed >= 0 :\n",
    "                self.setRight()\n",
    "        \n",
    "            self._pwmSpeed.duty( iDuty )\n",
    "        \n",
    "        self._fCurSpeed = fSpeed\n"
   ]
  },
  {
   "cell_type": "markdown",
   "id": "d6089082-0906-43ad-bb15-3535343fa3ba",
   "metadata": {
    "tags": []
   },
   "source": [
    "## Simple Car"
   ]
  },
  {
   "cell_type": "code",
   "execution_count": 52,
   "id": "a9277cd8-da75-41ef-9f4d-38d5cd741e53",
   "metadata": {},
   "outputs": [
    {
     "name": "stdout",
     "output_type": "stream",
     "text": [
      "...\u001b[34m\n",
      "\n",
      "*** Sending Ctrl-C\n",
      "\n",
      "\u001b[0mDone\n"
     ]
    }
   ],
   "source": [
    "from time import sleep_ms\n",
    "\n",
    "DELAY_MILLIS = 20\n",
    "\n",
    "I_STEPS     = 100\n",
    "F_SPEED_MIN = -1.0\n",
    "F_SPEED_MAX =  1.0\n",
    "\n",
    "\n",
    "motorL = Motor( 12, 13,\n",
    "    iFrequency     = 100,\n",
    "    iDutyMinLeft   = 330,\n",
    "    iDutyMaxLeft   = 1023,\n",
    "    iDutyMinRight  = 330,\n",
    "    iDutyMaxRight  = 1023,\n",
    "    fSpeedMaxLeft  = -1.0,\n",
    "    fSpeedMaxRight =  1.0 )\n",
    "\n",
    "motorR = Motor( 18, 22,\n",
    "    iFrequency     = 100,\n",
    "    iDutyMinLeft   = 330,\n",
    "    iDutyMaxLeft   = 1023,\n",
    "    iDutyMinRight  = 330,\n",
    "    iDutyMaxRight  = 1023,\n",
    "    fSpeedMaxLeft  = -1.0,\n",
    "    fSpeedMaxRight =  1.0 )\n",
    "\n",
    "\n",
    "fSpeed    = F_SPEED_MIN\n",
    "fStep     = (F_SPEED_MAX - F_SPEED_MIN)/I_STEPS\n",
    "\n",
    "\n",
    "try:    \n",
    "    for i in range( 100 ):\n",
    "        while fSpeed <= F_SPEED_MAX:\n",
    "            #motorL.setSpeed(  fSpeed )\n",
    "            motorR.setSpeed( -fSpeed )\n",
    "            sleep_ms(DELAY_MILLIS)\n",
    "            fSpeed += fStep\n",
    "        sleep_ms( 1000 )\n",
    "        while fSpeed >= F_SPEED_MIN:\n",
    "            motorL.setSpeed(  fSpeed )\n",
    "            #motorR.setSpeed( -fSpeed )\n",
    "            sleep_ms(DELAY_MILLIS)\n",
    "            fSpeed-=fStep\n",
    "            \n",
    "except KeyboardInterrupt: pass\n",
    "        \n",
    "motorL.setSpeed( 0 )\n",
    "motorR.setSpeed( 0 )\n",
    "    \n",
    "print( \"Done\" )        "
   ]
  },
  {
   "cell_type": "code",
   "execution_count": null,
   "id": "0b06a69c-4c6d-42c3-a9f0-726f7095fe3e",
   "metadata": {},
   "outputs": [],
   "source": []
  }
 ],
 "metadata": {
  "kernelspec": {
   "display_name": "MicroPython - USB",
   "language": "micropython",
   "name": "micropython"
  },
  "language_info": {
   "codemirror_mode": "python",
   "file_extension": ".py",
   "mimetype": "text/python",
   "name": "micropython"
  }
 },
 "nbformat": 4,
 "nbformat_minor": 5
}
