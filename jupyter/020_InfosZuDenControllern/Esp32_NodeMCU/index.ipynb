{
 "cells": [
  {
   "cell_type": "markdown",
   "id": "00d97d92-c7d8-4b6b-afb3-d296ea698d98",
   "metadata": {
    "tags": []
   },
   "source": [
    "[Home](../../index.ipynb) / Informationen zum Esp32 NodeMCU\n",
    "***\n",
    "<span style=\"font-size:20pt;\">Informationen zum Esp32 NodeMCU</span>\n",
    "***"
   ]
  },
  {
   "cell_type": "markdown",
   "id": "1e4d6779-353d-4b23-8efc-ef8d455a8e55",
   "metadata": {},
   "source": [
    "# Übersicht\n",
    "**Pin-Layout:**\n",
    "\n",
    "[<img src=\"images/ESP32_NodeMCU_Pinout.png\" width=\"620\">](images/ESP32_NodeMCU_Pinout.pdf)\n",
    "\n",
    "\n",
    "\n",
    "Die Platine ([Esp32 NodeMCU](doc/ESP32_NodeMCU_Developmentboard_Datenblatt.pdf) trägt den bekannten Chip ESP32 und\n",
    "kann von einem PC aus z.B. mit [MicroPython](https://micropython.org/), oder der [Arduino IDE](https://www.arduino.cc/) programmiert werden. Dazu hat die Platine einen Micro-USB Anschluss.\n",
    "Die Platine besitzt mehrere Pins die verschiedene Möglichkeiten der Ein- und Ausgabe bereitstellen.  \n",
    "\n",
    "Die Platine kann auf ein [Breadboard (Steckbrett)](https://de.wikipedia.org/wiki/Steckplatine) gesteckt werden, auf dem mit Kabeln und Bauteilen elektronische Schaltungen ohne Löten hergestellt werden können.  \n",
    "Beispiel (gezeichnet mit [Fritzing](https://fritzing.org/)):  \n",
    "_LED mit Vorwiderstand an PIN 14_\n",
    "\n",
    "| [<img src=\"images/ExternalLED_Esp32NodeMCU_Fritzing.png\" width=\"600\">](images/ExternalLED_Esp32NodeMCU_Fritzing.png)"
   ]
  },
  {
   "cell_type": "markdown",
   "id": "52ca28ad-d478-4aa1-9aae-889dd81bc166",
   "metadata": {},
   "source": [
    "***\n",
    "# <span style=\"color:red\">Hinweise</span> die unbedingt zu <span style=\"color:red\">beachten</span> sind!\n",
    "## Maximale Ströme und Spannungen beim Esp32 NodeMCU\n",
    "* <span style=\"color:red\">Maximal</span>: **15 mA pro Pin** !  \n",
    "   ⇒ Bei roter LED mindestens (>  142 Ohm) **220 Ohm Vorwiderstand**,  \n",
    "  d.h. : rot rot braun silber/gold <img src=\"../images/Resistor/Resistor_220_3.png\" width=\"50\">,  \n",
    "  oder bei den Widerständen mit 5 Ringen: rot rot schwarz schwarz braun <img src=\"../images/Resistor/Resistor_220_4.png\" width=\"50\">.  \n",
    "* <span style=\"color:red\">Maximal</span>: **80 mA Gesamtstrom** !</span>\n",
    "* <span style=\"color:red\">An</span> **<span style=\"color:red\">keinem</span>** <span style=\"color:red\">Pin</span> darf **<span style=\"color:red\">mehr als 3,3 V</span>** angelegt werden!  \n",
    "  Sonst kann der Esp32 NodeMCU zerstört werden!\n",
    "  \n",
    "\n",
    "## Der Micro-USB-Anschluss \n",
    "* So nicht schon ein Magent-USB-Stecker beiliegt:  \n",
    " Der Micro-USB-Anschluss hat eine **geringe mechanische Belastbarkeit**, aber der Hebelarm des Steckers ist groß.  \n",
    " Der USB-Anschluss kann mit Kraft von der Platine gelöst werden.  \n",
    "  **Bitte** bringen Sie **keine Kraft quer zum Stecker** auf\n",
    " und **stecken Sie sorgfältig** und **gerade** ein!\n",
    "* Praktisch sind z.B. die Magnet-USB-Stecker.\n"
   ]
  },
  {
   "cell_type": "markdown",
   "id": "c39b0503-21a5-4d57-91f0-e8708d030018",
   "metadata": {},
   "source": [
    "***\n",
    "# Hersteller Infos zum Esp32 NodeMCU\n",
    "* [Verkäufer-Website](https://www.az-delivery.de/products/esp32-developmentboard)\n",
    "* [Datenblatt](doc/ESP32_NodeMCU_Developmentboard_Datenblatt.pdf)\n",
    "* [Schaltplan](doc/ESP32_NodeMCU_Schematic.pdf)\n",
    "\n",
    "***\n",
    "# Stückliste des Sets\n",
    "\n",
    "Vorlage mit Hinweisen und Klassenliste: [LibreOffice](./SetPartList/Stueckliste.odt) und [Pdf](./SetPartList/Stueckliste.pdf)\n",
    "\n",
    "| Kathegorie |Bezeichnung      | Anzahl |\n",
    "|:------------- |:--------|-------------:|\n",
    "| *Controller* | Esp32 NodeMCU | 1 |\n",
    "| *Mechanische Teile* | Breadboard | 1 |\n",
    "| | Taster | 1 |\n",
    "| *Kabel*| für Breadboard: Satz | 1 |\n",
    "| | USB magnetisch | 1 |\n",
    "| *Widerstände* | 220 Ω | 4 |\n",
    "|  | 330 Ω | 4 |\n",
    "|  | 10 kΩ | 4 |\n",
    "|  | Potentiometer 10k | 1 |\n",
    "| *LED 5mm* | RGB | 1 |\n",
    "| | blau | 2 |\n",
    "| | rot | 2 |\n",
    "| | gelb | 2 |\n",
    "| | grün | 2 |\n",
    "| | weiß | 2 |\n",
    "| *Sensoren* | Ultraschall (HCSR04)| 1 |\n",
    "| | Beschleunigungssensor (GY-521) | 1 |\n",
    "| *Leistung* | Motorantriebsmodul (2x L9110) | 1 |\n",
    "\n",
    "\n",
    "***"
   ]
  },
  {
   "cell_type": "code",
   "execution_count": null,
   "id": "eefb2026-3edd-4f2b-a0b4-abcdb9f32c9b",
   "metadata": {},
   "outputs": [],
   "source": []
  }
 ],
 "metadata": {
  "kernelspec": {
   "display_name": "Python 3 (ipykernel)",
   "language": "python",
   "name": "python3"
  },
  "language_info": {
   "codemirror_mode": {
    "name": "ipython",
    "version": 3
   },
   "file_extension": ".py",
   "mimetype": "text/x-python",
   "name": "python",
   "nbconvert_exporter": "python",
   "pygments_lexer": "ipython3",
   "version": "3.9.10"
  }
 },
 "nbformat": 4,
 "nbformat_minor": 5
}
