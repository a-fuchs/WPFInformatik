{
 "cells": [
  {
   "cell_type": "markdown",
   "id": "9bec83ce-7bf2-4009-a023-e2000913a006",
   "metadata": {},
   "source": [
    "<!--\n",
    "Doc Writer email@nixdabei.de\n",
    "v0.0.1, 2021-03-23\n",
    "-->\n",
    "[Home](../../index.ipynb) / Esp8266 Croduino\n",
    "***\n",
    "<span style=\"font-size:20pt;\">Informationen zum Esp8266 Croduino</span>\n",
    "***"
   ]
  },
  {
   "cell_type": "markdown",
   "id": "5a06861e-866d-4dff-a78c-493226a5c9a8",
   "metadata": {},
   "source": [
    "# Übersicht\n",
    "\n",
    "**Pin-Layout:**\n",
    "\n",
    "[<img src=\"images/Esp8266CroduinoNova_Pinlayout_Vendor.jpg\" width=\"620\">](images/Esp8266CroduinoNova_Pinlayout_Vendor.pdf)\n",
    "\n",
    "\n",
    "Die [Platine](https://e-radionica.com/en/croduino-nova2.html) trägt den bekannten Chip ESP8266 und\n",
    "kann von einem PC aus z.B. mit [MicroPython](https://micropython.org/), oder der [Arduino IDE](https://www.arduino.cc/) programmiert werden. Dazu hat die Platine einen Micro-USB Anschluss.\n",
    "Die Platine besitzt außerdem 20 Pins, die verschiedene Möglichkeiten der Ein- und Ausgabe bereitstellen. Sie kann auf ein Breadboard (Steckbrett) gesteckt werden, auf dem mit Kabeln und Bauteilen elektronische Schaltungen ohne Löten hergestellt werden können.  \n",
    "Beispiel (gezeichnet mit [Fritzing](https://fritzing.org/)):  \n",
    "_LED mit Vorwiderstand an PIN 14_\n",
    "\n",
    "[<img src=\"images/ExternalLED_Esp8266CroduinoNova_Fritzing.png\" width=\"400\">](images/ExternalLED_Esp8266CroduinoNova_Fritzing.png)"
   ]
  },
  {
   "cell_type": "markdown",
   "id": "9ba3edd9-280e-4ba8-add5-53276c7cac9b",
   "metadata": {},
   "source": [
    "***\n",
    "# <span style=\"color:red\">Hinweise</span> die unbedingt zu <span style=\"color:red\">beachten</span> sind!\n",
    "## Maximale Ströme und Spannungen beim Croduino Nova\n",
    "* <span style=\"color:red\">Maximal</span>: **6 mA pro Pin** !  \n",
    "   ⇒ Bei roter LED mindestens (> 283 Ohm) **330 Ohm Vorwiderstand**,  \n",
    "  d.h. : orange orange braun silber/gold <img src=\"../images/Resistor/Resistor_330_3.png\" width=\"50\">,  \n",
    "  oder bei den Widerständen mit 5 Ringen: orange orange schwarz schwarz braun <img src=\"../images/Resistor/Resistor_330_4.png\" width=\"50\">.  \n",
    "* <span style=\"color:red\">Maximal</span> **12 mA insgesamt**,  \n",
    "  also 2 Pins mit LED und Ende Gelände!\n",
    "* <span style=\"color:red\">An</span> **<span style=\"color:red\">keinem</span>** <span style=\"color:red\">Pin</span> darf **<span style=\"color:red\">mehr als 3,3 V</span>** angelegt werden!  \n",
    "  Sonst geht der Croduino Nova den Bach runter.\n",
    "\n",
    "## Der Micro-USB-Anschluss \n",
    "* hat eine **geringe mechanische Belastbarkeit**, aber der Hebelarm des Steckers ist groß.  \n",
    " Der USB-Anschluss kann mit Kraft von der Platine gelöst werden.  \n",
    "  **Bitte** bringen Sie **keine Kraft quer zum Stecker** auf\n",
    " und **stecken Sie sorgfältig** und **gerade** ein!\n",
    "* Praktisch sind z.B. die Magnet-USB-Stecker.\n",
    "\n",
    "## Sonstiges\n",
    "* <span style=\"color:red\">**Achtung!** Pin 4 und Pin 5</span> sind bei einigen Boards <span style=\"color:red\">vertauscht beschriftet, also falsch rum!</span>. \n",
    "* Die interne LED ist bei _LOW_ aus und bei _HIGH_ an, also genau anders herum als erwartet."
   ]
  },
  {
   "cell_type": "markdown",
   "id": "62cf5de0-4119-4eb5-8754-eb31086ad713",
   "metadata": {},
   "source": [
    "***\n",
    "# Hersteller Infos zum Croduino Nova und Nova 2\n",
    "Programmieren und Download des USB-Treibers CP2102: https://e-radionica.com/en/blog/how-to-program-croduino-nova-from-arduino-ide/\n",
    "## Croduino Nova:\n",
    "[e-radionica.com](https://e-radionica.com/en/croduino-nova.html) und [github.com/e-radionicacom](https://github.com/e-radionicacom/Croduino-NOVA-Eagle-Files) (80MHz, 1MB flash, 82kB RAM)\n",
    "\n",
    "## Croduino Nova 2:\n",
    "[e-radionica.com](https://e-radionica.com/en/croduino-nova2.html)  und [github.com/e-radionicacom](https://github.com/e-radionicacom/Croduino-NOVA2-Eagle-Files) (80MHz, 1MB flash, 82kB RAM)"
   ]
  },
  {
   "cell_type": "markdown",
   "id": "a33d8df3-e6f2-478b-924d-dbd12007098d",
   "metadata": {},
   "source": [
    "***\n",
    "# Stückliste des Sets\n",
    "\n",
    "Vorlage mit Hinweisen und Klassenliste: [LibreOffice](./SetPartList/Stueckliste.odt) und [Pdf](./SetPartList/Stueckliste.pdf)\n",
    "\n",
    "| Kathegorie |Bezeichnung      | Anzahl |\n",
    "|:------------- |:--------|-------------:|\n",
    "| *Controller* | Croduino Nova | 1 |\n",
    "| *Mechanische Teile* | Breadboard | 1 |\n",
    "| | Taster | 5 |\n",
    "| *Kabel*| für Breadboard: male ↔ male | 25 |\n",
    "| | für Sensoren: male ↔ female | 10 |\n",
    "| | USB | 1 |\n",
    "| *Display* | LCD 16x2 | 1 |\n",
    "| *Audio* | Summer | 1 |\n",
    "| *Widerstände* | 200 Ω | 10 |\n",
    "|  | 330 Ω | 10 |\n",
    "|  | 1 kΩ | 10 |\n",
    "|  | 10 kΩ | 10 |\n",
    "|  | Potentiometer 10k | 2 |\n",
    "| *LED 5mm* | RGB | 2 |\n",
    "| | blau | 5 |\n",
    "| | rot | 5 |\n",
    "| | gelb | 5 |\n",
    "| | grün | 5 |\n",
    "| | weiß | 5 |\n",
    "| *Sensoren* | Photowiderstand |2 |\n",
    "| | Ultraschall (Abstand) | 1 |\n",
    "| | Bewegung: HC-SR501 | 1 |\n",
    "| | Luftfeuchte/Temperatur: DHT11 | 1 |\n",
    "| *Dioden* | 1N4148 | 2 |\n",
    "| *Transistoren* | MOSFET IRF540 | 2 |\n",
    "|  | 2N2222 | 2 |\n"
   ]
  },
  {
   "cell_type": "markdown",
   "id": "8923fcff-e923-4905-b1d2-1b4f118d3c8c",
   "metadata": {},
   "source": [
    "***"
   ]
  },
  {
   "cell_type": "code",
   "execution_count": null,
   "id": "dcc2aa83-fe90-44f3-809b-45198f358a3e",
   "metadata": {},
   "outputs": [],
   "source": []
  }
 ],
 "metadata": {
  "kernelspec": {
   "display_name": "Python 3 (ipykernel)",
   "language": "python",
   "name": "python3"
  },
  "language_info": {
   "codemirror_mode": {
    "name": "ipython",
    "version": 3
   },
   "file_extension": ".py",
   "mimetype": "text/x-python",
   "name": "python",
   "nbconvert_exporter": "python",
   "pygments_lexer": "ipython3",
   "version": "3.9.10"
  }
 },
 "nbformat": 4,
 "nbformat_minor": 5
}
