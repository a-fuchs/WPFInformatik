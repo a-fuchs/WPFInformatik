{
 "cells": [
  {
   "cell_type": "markdown",
   "id": "00d97d92-c7d8-4b6b-afb3-d296ea698d98",
   "metadata": {
    "tags": []
   },
   "source": [
    "[Home](../../index.ipynb) / Informationen zum ESP32 HelTec\n",
    "***\n",
    "<span style=\"font-size:20pt;\">Informationen zum ESP32 HelTec</span>\n",
    "***"
   ]
  },
  {
   "cell_type": "markdown",
   "id": "8cdba276-4b3b-4d4a-9ce9-1ecf6129509f",
   "metadata": {},
   "source": [
    "# Übersicht\n",
    "**Pin-Layout:**\n",
    "\n",
    "| WiFi LoRa 32 V2 (mit Spirale)| WiFi Kit 32 V2 (ohne Spirale) |\n",
    "|:---------------:|:--------------:|\n",
    "| [<img src=\"images/HelTec_WiFi-Lora-32-V2_PinoutVendor.png\" width=\"620\">](images/HelTec_WiFi-Lora-32-V2_PinoutVendor.pdf)| [<img src=\"images/HelTec_WiFi-Kit-32-V2_PinoutVendor.png\" width=\"600\">](images/HelTec_WiFi-Kit-32-V2_PinoutVendor.pdf) |\n",
    "\n",
    "\n",
    "\n",
    "Die Platine ([WiFi LoRa 32 V2](https://resource.heltec.cn/download/WiFi_LoRa_32/WIFI_LoRa_32_V2.pdf) bzw. [WiFi Kit 32 V2](https://resource.heltec.cn/download/WiFi_Kit_32/WIFI_Kit_32_pinoutDiagram_V2.pdf)) trägt den bekannten Chip ESP32 und\n",
    "kann von einem PC aus z.B. mit [MicroPython](https://micropython.org/), oder der [Arduino IDE](https://www.arduino.cc/) programmiert werden. Dazu hat die Platine einen Micro-USB Anschluss.\n",
    "Die Platine besitzt außerdem 28 Pins die verschiedene Möglichkeiten der Ein- und Ausgabe bereitstellen.  \n",
    "**Achtung:** Pin 0, 4, 5, 12, 15, 16, 17, 21 sind für uns normalerweise nicht nutzbar.  \n",
    "Die Platine kann auf ein [Breadboard (Steckbrett)](https://de.wikipedia.org/wiki/Steckplatine) gesteckt werden, auf dem mit Kabeln und Bauteilen elektronische Schaltungen ohne Löten hergestellt werden können.  \n",
    "Beispiel (gezeichnet mit [Fritzing](https://fritzing.org/)):  \n",
    "_LED mit Vorwiderstand an PIN 14_\n",
    "\n",
    "| WiFi LoRa 32 V2 | WiFi Kit 32 V2 |\n",
    "|:---------------:|:--------------:|\n",
    "| [<img src=\"images/ExternalLED_WiFiLoRa32V2_Fritzing.png\" width=\"600\">](images/ExternalLED_WiFiLoRa32V2_Fritzing.png) | [<img src=\"images/ExternalLED_WiFiKit32V2_Fritzing.png\" width=\"600\">](images/ExternalLED_WiFiKit32V2_Fritzing.png) |"
   ]
  },
  {
   "cell_type": "markdown",
   "id": "6e62b91d-1baa-4457-9c34-7282aeae5bae",
   "metadata": {},
   "source": [
    "***\n",
    "# <span style=\"color:red\">Hinweise</span> die unbedingt zu <span style=\"color:red\">beachten</span> sind!\n",
    "## Maximale Ströme und Spannungen beim HelTec ESP32\n",
    "* <span style=\"color:red\">Maximal</span>: **12 mA pro Pin** !  \n",
    "   ⇒ Bei roter LED mindestens (>  142 Ohm) **220 Ohm Vorwiderstand**,  \n",
    "  d.h. : rot rot braun silber/gold <img src=\"../images/Resistor/Resistor_220_3.png\" width=\"50\">,  \n",
    "  oder bei den Widerständen mit 5 Ringen: rot rot schwarz schwarz braun <img src=\"../images/Resistor/Resistor_220_4.png\" width=\"50\">.  \n",
    "* <span style=\"color:red\">An</span> **<span style=\"color:red\">keinem</span>** <span style=\"color:red\">Pin</span> darf **<span style=\"color:red\">mehr als 3,3 V</span>** angelegt werden!  \n",
    "  Sonst kann der HelTec ESP32 zerstört werden!\n",
    "  \n",
    "\n",
    "## Der Micro-USB-Anschluss \n",
    "* So nicht schon ein Magent-USB-Stecker beiliegt:  \n",
    " Der Micro-USB-Anschluss hat eine **geringe mechanische Belastbarkeit**, aber der Hebelarm des Steckers ist groß.  \n",
    " Der USB-Anschluss kann mit Kraft von der Platine gelöst werden.  \n",
    "  **Bitte** bringen Sie **keine Kraft quer zum Stecker** auf\n",
    " und **stecken Sie sorgfältig** und **gerade** ein!\n",
    "* Praktisch sind z.B. die Magnet-USB-Stecker.\n",
    "\n",
    "## Das OLED-Display\n",
    "* <span style=\"color:red\">Achtung Bruchgefahr!</span> Das OLED-Display ist aus Glas(!) und kann leicht an den Ecken absplittern! Also auf <span style=\"color:red\">keinen Fall mechanisch belasten!</span> Sonst geht wie beim Autor das Display kaputt, nur durch etwas \"rumpeligen\" Transport! \n",
    "\n",
    "***\n",
    "# Hersteller Infos zum HelTec ESP32\n",
    "* HelTec ESP32:\n",
    "  * Controller: [WiFi LoRa 32 V2](https://resource.heltec.cn/download/WiFi_LoRa_32/WIFI_LoRa_32_V2.pdf) bzw. [WiFi Kit 32 V2](https://resource.heltec.cn/download/WiFi_Kit_32/WIFI_Kit_32_pinoutDiagram_V2.pdf)\n",
    "  * Programmieren: https://github.com/HelTecAutomation/Heltec_ESP32\n",
    "\n",
    "***\n",
    "# Stückliste des Sets\n",
    "\n",
    "Vorlage mit Hinweisen und Klassenliste: [LibreOffice](./SetPartList/Stueckliste.odt) und [Pdf](./SetPartList/Stueckliste.pdf)\n",
    "\n",
    "| Kathegorie |Bezeichnung      | Anzahl |\n",
    "|:------------- |:--------|-------------:|\n",
    "| *Controller* | HelTec ESP32 V2 | 1 |\n",
    "| *Mechanische Teile* | Breadboard | 1 |\n",
    "| | Taster | 1 |\n",
    "| *Kabel*| für Breadboard: Satz | 1 |\n",
    "| | USB magnetisch | 1 |\n",
    "| *Widerstände* | 220 Ω | 4 |\n",
    "|  | 330 Ω | 4 |\n",
    "|  | 10 kΩ | 4 |\n",
    "|  | Potentiometer 10k | 1 |\n",
    "| *LED 5mm* | RGB | 1 |\n",
    "| | blau | 2 |\n",
    "| | rot | 2 |\n",
    "| | gelb | 2 |\n",
    "| | grün | 2 |\n",
    "| | weiß | 2 |\n",
    "| *Sensoren* | Ultraschall (HCSR04)| 1 |\n",
    "| | Beschleunigungssensor (GY-521) | 1 |\n",
    "| *Leistung* | Motorantriebsmodul (2x L9110) | 1 |\n",
    "\n",
    "\n",
    "***"
   ]
  },
  {
   "cell_type": "code",
   "execution_count": null,
   "id": "eefb2026-3edd-4f2b-a0b4-abcdb9f32c9b",
   "metadata": {},
   "outputs": [],
   "source": []
  }
 ],
 "metadata": {
  "kernelspec": {
   "display_name": "Python 3 (ipykernel)",
   "language": "python",
   "name": "python3"
  },
  "language_info": {
   "codemirror_mode": {
    "name": "ipython",
    "version": 3
   },
   "file_extension": ".py",
   "mimetype": "text/x-python",
   "name": "python",
   "nbconvert_exporter": "python",
   "pygments_lexer": "ipython3",
   "version": "3.9.10"
  }
 },
 "nbformat": 4,
 "nbformat_minor": 5
}
