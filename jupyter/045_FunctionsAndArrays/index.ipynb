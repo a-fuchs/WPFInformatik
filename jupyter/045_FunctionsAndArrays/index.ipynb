{
 "cells": [
  {
   "cell_type": "markdown",
   "id": "b3da2e96-5383-4664-b361-075235e1d48b",
   "metadata": {},
   "source": [
    "<!--\n",
    "Doc Writer email@nixdabei.de\n",
    "v0.0.1, 2022-02-19\n",
    "-->\n",
    "[Home](../index.ipynb) / Funktionen, Listen und n-Tupel\n",
    "***\n",
    "# Funktionen, Listen und n-Tupel\n",
    "\n",
    "Siehe auch [Einführung in Jupyter und Python / **Funktionen** in Python ](../010_EinfuehrungInJupyterUndPython/index.ipynb#Funktionen-in-Python)\n",
    "***\n",
    "\n",
    "## Funktionen\n",
    "---\n",
    "### Einleitung\n",
    "Funktionen (je nach Programmiersprache auch \"Methode\" oder \"Prozedur\" genannt) fassen logisch zusammen gehörende, und/oder sich mehrmals wiederholdende Code-Teile zusammen.  \n",
    "So lautet ein **Programmier-Paradigma:** \"Wiederholen sich Abschnitte im Code: lagere diesen Code in eine **Funktion** aus\".\n",
    "\n",
    "---\n",
    "### Funktionen mit einem Parameter\n",
    "Ein mathematisches Beispiel:  $f(x)\\,=\\,x^2$\n",
    "\n",
    "Wollen wir die Funktion verwenden, übergeben wir ihre einen Wert und bekommen einen berechneten Wert zurück z.B.:  \n",
    "\n",
    "$y\\, = \\, f(3)\\,=\\,3^2\\,=\\,9$\n",
    "\n",
    "$y$ hat also nach der Berechnung den Wert $10$.\n",
    "\n",
    "In Python wird diese Funktion z.B. so geschrieben:  \n",
    "\n",
    "```python\n",
    "def f( x ):\n",
    "    return x**2\n",
    "``` \n",
    "<span style=\"background-color:#EEEEFF;padding:1em\">**f** ist hier der **Funktions-Name** und **x** der **Parmeter** der Funktion.</span>\n",
    "\n",
    "Nun kann die Funktion an beliebigen Stellen im Code verwendet werden (auch innerhalb der Funktion selber, dazu gleich mehr), an denen `x**2` berechnet werden soll. Z.B.\n",
    "\n",
    "\n",
    "```python\n",
    "a = f( 2 )\n",
    "print( a )\n",
    "print( f( f(2) ) )\n",
    "``` \n",
    "\n",
    "**Das Beispiel komplett zum ausführen:**"
   ]
  },
  {
   "cell_type": "code",
   "execution_count": null,
   "id": "84e9971e-f75d-419f-8cf5-7a30d9892968",
   "metadata": {},
   "outputs": [],
   "source": [
    "%serialconnect\n",
    "# --port=COM3\n",
    "\n",
    "def f( x ):\n",
    "    return x**2\n",
    "\n",
    "a = f( 2 )\n",
    "print( a )\n",
    "print( f( f(2) ) )"
   ]
  },
  {
   "cell_type": "markdown",
   "id": "35a27a3e-f014-4710-9bbb-506dcad95689",
   "metadata": {},
   "source": [
    "Der Funktionsname und der Name des Parameters ist beliebig, wir könnten also auch schreiben:"
   ]
  },
  {
   "cell_type": "code",
   "execution_count": null,
   "id": "42a38a1b-1c0f-4668-acde-89acbeb08bfd",
   "metadata": {},
   "outputs": [],
   "source": [
    "def potenz( value ):\n",
    "    return value**2\n",
    "\n",
    "\n",
    "a = potenz( 2 )\n",
    "print( a )\n",
    "print( potenz( potenz(2) ) )"
   ]
  },
  {
   "cell_type": "markdown",
   "id": "55a4af5f-5bfd-4a19-8799-ec4a278eee96",
   "metadata": {},
   "source": [
    "---\n",
    "### Funktionen mit mehr als einem Parameter\n",
    "\n",
    "Wollen wir nun die n-te Potenz einer Zahl berechnen braucht die Funktion zwei Parameter:"
   ]
  },
  {
   "cell_type": "code",
   "execution_count": null,
   "id": "4ea8ef53-eb2e-4ab0-a8a5-a9e3033b036e",
   "metadata": {},
   "outputs": [],
   "source": [
    "def potenz( value, exponent ):\n",
    "    return value**exponent\n",
    "\n",
    "print( potenz( 3, 2 ) )\n",
    "print( potenz( 3, 4 ) )"
   ]
  },
  {
   "cell_type": "markdown",
   "id": "d66394a6-b741-4bc8-8cc4-d187223947fd",
   "metadata": {},
   "source": [
    "Die Funktion lässt sich auch unter expliziter Nennung der Parameter aufrufen:"
   ]
  },
  {
   "cell_type": "code",
   "execution_count": null,
   "id": "038c4387-a141-4d7f-baea-25139278542d",
   "metadata": {},
   "outputs": [],
   "source": [
    "print( potenz( exponent = 3, value = 2 ) )"
   ]
  },
  {
   "cell_type": "markdown",
   "id": "bf1551ee-1b29-475d-902f-eae13b239dc5",
   "metadata": {},
   "source": [
    "Parametern können auch **default**-Werte (Standardwerte) zugeordnet werden:"
   ]
  },
  {
   "cell_type": "code",
   "execution_count": null,
   "id": "a0e063a0-9d1d-4d98-b143-e96ade371deb",
   "metadata": {},
   "outputs": [],
   "source": [
    "def potenz( value, exponent = 2):\n",
    "    return value**exponent\n",
    "\n",
    "print( potenz( 3 ) )\n",
    "print( potenz( 3, 4 ) )\n",
    "print( potenz( 3, exponent = 4 ) )"
   ]
  },
  {
   "cell_type": "code",
   "execution_count": null,
   "id": "cbe857af-109b-4c47-87a6-6664aa45762f",
   "metadata": {},
   "outputs": [],
   "source": [
    "Parameter sind nur **innerhalb** einer Funktion sichtbar, von ausserhalb der Funktion kann kann auf sie nicht zugegriffen werden.  \n",
    "Folgender Code erzeugt daher eine Fehlermeldung:"
   ]
  },
  {
   "cell_type": "code",
   "execution_count": null,
   "id": "82b44588-f681-4ac1-94a7-55685ec7881d",
   "metadata": {},
   "outputs": [],
   "source": [
    "def potenz( value ):\n",
    "    result = value**2\n",
    "    return result\n",
    "\n",
    "print( potenz( 5 ) )\n",
    "print( value )"
   ]
  },
  {
   "cell_type": "markdown",
   "id": "b68a5e97-6099-4a0b-b1d9-160b269bc0ba",
   "metadata": {},
   "source": [
    "---\n",
    "### Funktionen ohne Parameter"
   ]
  },
  {
   "cell_type": "code",
   "execution_count": null,
   "id": "4d09ecbc-cc44-4ee8-abe0-9b5c19522309",
   "metadata": {},
   "outputs": [],
   "source": [
    "Funktionen müssen keine Parameter aufweisen und müssen auch keine Rückgabewerte zurückgeben:"
   ]
  },
  {
   "cell_type": "code",
   "execution_count": null,
   "id": "1c374b5b-1669-4084-bbe0-0ee6e3a43a89",
   "metadata": {},
   "outputs": [],
   "source": [
    "def printSomething():\n",
    "    print( \"Hello world!\" )\n",
    "    \n",
    "printSomething()\n",
    "print( printSomething() )"
   ]
  },
  {
   "cell_type": "code",
   "execution_count": null,
   "id": "4416826b-468e-4109-ab4d-996bb020e659",
   "metadata": {},
   "outputs": [],
   "source": [
    "## Rekursion\n",
    "Funktionen können sich selber aufrufen: Hier mal zwei Beispiele"
   ]
  },
  {
   "cell_type": "code",
   "execution_count": null,
   "id": "4b753e56-fdea-437b-a78f-e295c7ed5115",
   "metadata": {},
   "outputs": [],
   "source": [
    "def recurse( value ):\n",
    "    if value >= 0:\n",
    "        print( \"-\"*value + str(value) )\n",
    "        recurse( value -1 )\n",
    "    else:\n",
    "        print( \"Stop\" )\n",
    "              \n",
    "recurse( 4 )"
   ]
  },
  {
   "cell_type": "code",
   "execution_count": null,
   "id": "ce7e4bac-aa72-42ea-b3ed-95b1d11678e7",
   "metadata": {},
   "outputs": [],
   "source": [
    "def sum( value ):\n",
    "    if value > 0:\n",
    "        return value + sum( value -1 )\n",
    "    else:\n",
    "        return 0\n",
    "              \n",
    "print( sum( 10 ) )"
   ]
  },
  {
   "cell_type": "markdown",
   "id": "bde69758-8326-42b8-b151-c7371c762a98",
   "metadata": {},
   "source": [
    "---\n",
    "### Funktionen zum strukturieren des Codes\n",
    "\n",
    "**Aufgabe:** es sollen die Zahlen von 0 bis 3 aufgelistet werden und angezeigt, ob eine Zahl gerade, oder ungerade ist.\n",
    "\n",
    "Folgender Code funktioniert zwar, vermischt aber die Anzeige mit der Logik des Porgramms:\n",
    "ob die Zahl iNumber gerade oder ungerade ist, ist fest mit deren Anzeige verwoben."
   ]
  },
  {
   "cell_type": "code",
   "execution_count": null,
   "id": "6aeecd1f-6762-47c0-92c5-c17478637986",
   "metadata": {},
   "outputs": [],
   "source": [
    "for iNumber in range(4):\n",
    "    if iNumber % 2 == 0:\n",
    "        print( \"Die Zahl {} ist gerade\".format( iNumber ) )\n",
    "    else:\n",
    "        print( \"Die Zahl {} ist ungerade\".format( iNumber ) )"
   ]
  },
  {
   "cell_type": "markdown",
   "id": "353b52ef-0620-4ba3-ac29-acfa8f91773b",
   "metadata": {},
   "source": [
    "Besser ist es, die **Darstellung von** der **Logik** zu **trennen**, am einfachsten geschieht dies mit einer Funktion:"
   ]
  },
  {
   "cell_type": "code",
   "execution_count": null,
   "id": "b5fe2665-d288-42da-b0b9-e9f9d729b003",
   "metadata": {},
   "outputs": [],
   "source": [
    "# Ausgabe:\n",
    "def printNumber( num, isEven ):\n",
    "    if isEven:\n",
    "        print( \"Die Zahl {} ist gerade\".format( num ) )\n",
    "    else:\n",
    "        print( \"Die Zahl {} ist ungerade\".format( num ) )    \n",
    "\n",
    "# Logik:\n",
    "for iNumber in range(4):\n",
    "    printNumber( iNumber, iNumber % 2 == 0 )"
   ]
  },
  {
   "cell_type": "markdown",
   "id": "e7caa51e-f092-4c59-b199-316818811594",
   "metadata": {},
   "source": [
    "Was ist damit gewonnen?\n",
    "\n",
    "Ist die Ausgabe der Zahl etwas zu langweilig, kann jetzt einfach nur die `printNumner` angepasst werden, die `for`-Schleife bleibt gleich!  \n"
   ]
  },
  {
   "cell_type": "code",
   "execution_count": null,
   "id": "9b549bdb-19a1-4997-ad49-a3d4d0a025a8",
   "metadata": {},
   "outputs": [],
   "source": [
    "# Ausgabe:\n",
    "def printNumber( num, isEven ):\n",
    "    def printTrenner():  # Definition einer Funktion in einer Funktion geht auch!\n",
    "        print( \"*\"*19 )\n",
    "\n",
    "    print()\n",
    "    printTrenner()\n",
    "    print( \"* {: >2} ist {} *\".format( num,  \"gerade  \" if isEven else \"ungerade\" ) )\n",
    "    printTrenner()\n",
    "        \n",
    "        \n",
    "# Logik:\n",
    "for iNumber in range(4):\n",
    "    printNumber( iNumber, iNumber % 2 == 0 )"
   ]
  },
  {
   "cell_type": "markdown",
   "id": "f9ab53b0-217e-4fe0-8200-6d6f61f961f1",
   "metadata": {},
   "source": [
    "---\n",
    "## Listen und Tupel¶\n",
    "\n",
    "Siehe auch z.B. [w3schools.com](https://www.w3schools.com/python/python_tuples.asphttps://www.w3schools.com/python/python_tuples.asp)\n",
    "\n",
    "---\n",
    "### Tupel\n",
    "\n",
    "* Tupel sind unveränderbare, numerierte Aufzählungen von Python-Objekten. Bsp.: `tup = (\"Eins\", \"Zwei\", 5, \"Rot\", \"Gruen\", \"Blau\" )`.\n",
    "* Der Zugriff erfolgt über `variablename[index]`.\n",
    "* Der erste Eintrag hat den Index `[0]`, der zweite den Index `[1]` etc.. . z.B `tuptup[0]` wäre `\"Eins\"`.\n",
    "* Der Index [-1] bedeutet den letzten Eintrag etc. Im Beispiel wäre `tup[-1]` gleich `\"Blau\"`.\n",
    "* **[von** (einschliesslich)**:bis** (ausschliesslich)**]** gibt ein Tupel zurück. Im Beispiel `tup[2:5]` wäre `[5, \"Rot\", \"Gruen\"]`.\n",
    "* Die **Anzahl der Einträge** eines Tupels wird über `len(name_des_tupels)` ermittelt. Im Beispiel `len(tup)` wäre `6`.\n",
    "* Über Tupel kann iteriert werden: `for obj in name_des_tupels:`\n",
    "* Beachte: `keinTupel = (\"Kein Tupel\" )`, aber `tup = (\"Tupel\", )`\n",
    "* Gibt eine Funktion ein Tupel zurück z.B. `def f() : return (1,2,3)`, kann mit  \n",
    "  `w1,w2,w3 = f()` bequem auf die einzelnen Werte zugegriffen werden.\n",
    "\n",
    "\n",
    "**Beispiele:**"
   ]
  },
  {
   "cell_type": "code",
   "execution_count": null,
   "id": "b0e45144-33bd-4343-8291-9360a1f24de2",
   "metadata": {},
   "outputs": [],
   "source": [
    "%serialconnect #--port=COM3 # Windows with more than one COM-Port\n",
    "\n",
    "tup = (\"Eins\", \"Zwei\", 5, \"Rot\", \"Gruen\", \"Blau\" )\n",
    "print( tup )\n",
    "print( tup[0] )  # das erste Element des Tupel\n",
    "print( tup[-1] ) # das letzte Element\n",
    "print( tup[ len(tup)-1] ) # das letzte Element\n",
    "print( tup[-2] ) # das Vorletzte\n",
    "\n",
    "print( tup[2:5] )\n",
    "print( tup[:5] )\n",
    "print( tup[4:] )\n",
    "\n",
    "for obj in tup:\n",
    "    print( obj )\n",
    "\n",
    "for obj in enumerate( tup ):\n",
    "    print( obj )\n",
    "    \n",
    "print( tup )\n",
    "\n",
    "def f():\n",
    "    return (1,2,3)\n",
    "\n",
    "w1, w2, w3 = f()\n",
    "print( w1 )"
   ]
  },
  {
   "cell_type": "markdown",
   "id": "4b855228-fc50-4646-8c8b-34ac5498217c",
   "metadata": {},
   "source": [
    "---\n",
    "### Listen\n",
    "\n",
    "Listen verhalten sich genau wie Tupel, sind aber **veränderbar**.\n",
    "\n",
    "* Initialisierung z.B. mit `aData = [0]*10` wird zu `aData = [0,0,0,0,0,0,0,0,0,0]\n",
    "* Strings verhalten sich ein bischen wie Listen:  \n",
    "  `strTest = \"#\"*4` ergibt `strTest = \"####\"`  \n",
    "  `for ch in strTest: print( ch, end=\" \" )` gibt `H e l l o   w o r l d !` aus\n",
    "* Listen kopieren (nicht deep copy!):  \n",
    "  `a1 = [2,3,4]`  \n",
    "  `a2 = a1[:]`  \n",
    "* List comprehension: `[mach was mit x for x in bereich]` liefert eine liste. Z.B. `[x**2 for x in range(5)]` --> `[0,1,4,9,16]`\n"
   ]
  },
  {
   "cell_type": "code",
   "execution_count": null,
   "id": "fdea7b7e-d06a-440d-b82e-0ec640359f4e",
   "metadata": {},
   "outputs": [],
   "source": [
    "%serialconnect #--port=COM3 # Windows with more than one COM-Port\n",
    "\n",
    "def delim(): print( \"\\n=====================\" )\n",
    "\n",
    "aData = (\"Eins\", \"Zwei\", 5, \"Rot\", \"Gruen\", \"Blau\" )\n",
    "\n",
    "print( aData )\n",
    "print( aData[-1] )\n",
    "print( aData[-2] )\n",
    "print( aData[2:5] )\n",
    "print( aData[:5] )\n",
    "print( aData[4:] )\n",
    "\n",
    "delim()\n",
    "for obj in aData:\n",
    "    print( obj )\n",
    "\n",
    "delim()    \n",
    "for obj in enumerate( aData ):\n",
    "    print( obj )\n",
    "    \n",
    "delim()\n",
    "print( aData )\n",
    "\n",
    "delim()\n",
    "strTest = \"#\"*4\n",
    "print( strTest )\n",
    "\n",
    "delim()\n",
    "strTest = \"Hello world!\"\n",
    "\n",
    "for ch in strTest:\n",
    "    print( ch, end=\" \" )\n",
    "print()\n",
    "\n",
    "delim()\n",
    "# Referenz:\n",
    "a1 = [2,3,4]\n",
    "a2 = a1\n",
    "a1[1] = 5\n",
    "print( a1 )\n",
    "print( a2 )\n",
    "\n",
    "delim()\n",
    "# Aber hier Kopie:\n",
    "a1 = [2,3,4]\n",
    "a2 = a1[:] \n",
    "a1[1] = 5\n",
    "print( a1 )\n",
    "print( a2 )\n",
    "\n",
    "delim()\n",
    "a4 = [[1,2,3],[4,5,6]]\n",
    "print( a4 )\n",
    "print( a4[1] )\n",
    "print( a4[1][2] )\n",
    "\n",
    "delim()\n",
    "a5 = [(1,2,\"ha\"),-1,[3,[\"test\"],\"u\"]]\n",
    "for obj in a5:\n",
    "    print( obj )\n"
   ]
  },
  {
   "cell_type": "markdown",
   "id": "c29d2854-69c1-4221-b615-dc387b088eae",
   "metadata": {},
   "source": [
    "---\n",
    "## Anwendung\n",
    "---\n",
    "### Primzahlen berechnen"
   ]
  },
  {
   "cell_type": "code",
   "execution_count": null,
   "id": "7785b376-1a75-4400-aa82-cd8a1f18dffb",
   "metadata": {},
   "outputs": [],
   "source": [
    "import math\n",
    "\n",
    "iN = 20\n",
    "\n",
    "def isPrime( n ):\n",
    "    for iNum in range( 2, int(math.sqrt(n)) + 1 ):\n",
    "        if ( n % iNum == 0 ) : return False\n",
    "\n",
    "    return True\n",
    "\n",
    "\n",
    "aIsPrime = [(x,isPrime(x)) for x in range(2, iN)]\n",
    "\n",
    "# or:\n",
    "# aY = list( map( isPrime, aX ) )\n",
    "\n",
    "print( aIsPrime )"
   ]
  },
  {
   "cell_type": "markdown",
   "id": "22afd05a-eefb-4919-bf10-c719d6006bb9",
   "metadata": {},
   "source": [
    "---\n",
    "### Aufgaben\n",
    "1) Funktion programmieren, die einen Text wie \"Hello world!\" von hinten her (am Bildschirm oder Display) ausgibt, also \"!dlrow olleH\"\n",
    "\n",
    "2) Funktion programmieren, die die Fakultät $n!$ einer Zahl $n \\in \\mathbb{N}$ berechnet. D.h. bei Eingabe einer (beliebigen) natürlichen Zahl (z.B. 5) soll $$5! = 5 \\cdot 4 \\cdot 3 \\cdot 2 \\cdot 1 = 120$$ berechnet werden, wobei $0! := 1$ gilt.\n",
    "\n",
    "3) Auslesen einer Spannung über ADC und kontinuierliche Ausgabe des Mittelwerts über die jeweils letzten 10 Werte (z.B. im Abstand von jeweils 0.5 Sekunden)."
   ]
  },
  {
   "cell_type": "code",
   "execution_count": null,
   "id": "62f14339-93bf-4a90-b9f6-3f761a904c52",
   "metadata": {},
   "outputs": [],
   "source": []
  }
 ],
 "metadata": {
  "kernelspec": {
   "display_name": "MicroPython - USB",
   "language": "micropython",
   "name": "micropython"
  },
  "language_info": {
   "codemirror_mode": "python",
   "file_extension": ".py",
   "mimetype": "text/python",
   "name": "micropython"
  }
 },
 "nbformat": 4,
 "nbformat_minor": 5
}
