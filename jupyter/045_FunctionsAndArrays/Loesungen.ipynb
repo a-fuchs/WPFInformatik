{
 "cells": [
  {
   "cell_type": "markdown",
   "id": "f5db822b",
   "metadata": {},
   "source": [
    "[Home](../index.ipynb) / Funktionen, Listen und n-Tupel\n",
    "***\n",
    "<span style=\"font-size:20pt;\">Funktionen, Listen und n-Tupel</span>"
   ]
  },
  {
   "cell_type": "markdown",
   "id": "5b45f25c-0160-4078-a454-07802819c162",
   "metadata": {},
   "source": [
    "---\n",
    "# Lösungsvorschlag"
   ]
  },
  {
   "cell_type": "markdown",
   "id": "c70900af-0ace-4417-babf-ca70b3091eb4",
   "metadata": {},
   "source": [
    "---\n",
    "## Aufgabe 1)\n",
    "### Angabe\n",
    "Funktion programmieren, die einen Text wie \"Hello world!\" von hinten her (am Bildschirm oder Display) ausgibt, also \"!dlrow olleH\"\n",
    "### Lösung 1"
   ]
  },
  {
   "cell_type": "code",
   "execution_count": 9,
   "id": "7f362197-f5d5-4e2a-bbb6-48435b81923f",
   "metadata": {},
   "outputs": [
    {
     "name": "stdout",
     "output_type": "stream",
     "text": [
      "!dlrow olleH\n",
      ".desrever era uoY\n"
     ]
    }
   ],
   "source": [
    "def printReversedString( strText ):\n",
    "    for ch in reversed( strText ):\n",
    "        print( ch, end=\"\" )\n",
    "    print()\n",
    "\n",
    "printReversedString( \"Hello world!\" )\n",
    "printReversedString( \"You are reversed.\" )"
   ]
  },
  {
   "cell_type": "markdown",
   "id": "c293c676-a4e0-4d56-9c4e-1c0e18e0d9fe",
   "metadata": {},
   "source": [
    "### Lösung 2"
   ]
  },
  {
   "cell_type": "code",
   "execution_count": 12,
   "id": "cd3552be-501f-4b60-8a97-2a2759853a05",
   "metadata": {},
   "outputs": [
    {
     "name": "stdout",
     "output_type": "stream",
     "text": [
      "!dlrow olleH\n",
      ".desrever era uoY\n"
     ]
    }
   ],
   "source": [
    "def printReversedString( strText ):\n",
    "    for iIndex in range( len( strText )-1, -1, -1 ):\n",
    "        print( strText[ iIndex ], end=\"\" )\n",
    "    print()\n",
    "\n",
    "printReversedString( \"Hello world!\" )\n",
    "printReversedString( \"You are reversed.\" )"
   ]
  },
  {
   "cell_type": "markdown",
   "id": "224466ea-153e-4129-bd64-d3097fc81bf2",
   "metadata": {},
   "source": [
    "### Lösung 3"
   ]
  },
  {
   "cell_type": "code",
   "execution_count": 17,
   "id": "4559c8cb-c96e-4744-8deb-5331dc65d808",
   "metadata": {},
   "outputs": [
    {
     "name": "stdout",
     "output_type": "stream",
     "text": [
      "!dlrow olleH\n",
      ".desrever era uoY"
     ]
    }
   ],
   "source": [
    "def printReversedString( strText ):\n",
    "    if len( strText ) > 0 :\n",
    "        print( strText[ -1 ], end=\"\" )\n",
    "        printReversedString( strText[:-1] )\n",
    "\n",
    "printReversedString( \"Hello world!\" )\n",
    "print()\n",
    "printReversedString( \"You are reversed.\" )"
   ]
  },
  {
   "cell_type": "markdown",
   "id": "a4041aa3-e4d7-44a6-9303-661fab8a8fcc",
   "metadata": {},
   "source": [
    "---\n",
    "## Aufgabe 2)\n",
    "### Angabe\n",
    "Funktion programmieren, die die Fakultät $n!$ einer Zahl $n \\in \\mathbb{N}$ berechnet. D.h. bei Eingabe einer (beliebigen) natürlichen Zahl (z.B. 5) soll $$5! = 5 \\cdot 4 \\cdot 3 \\cdot 2 \\cdot 1 = 120$$ berechnet werden, wobei $0! := 1$ gilt.\n",
    "\n",
    "### Lösung 1 (rekursiv)"
   ]
  },
  {
   "cell_type": "code",
   "execution_count": 27,
   "id": "c3572daf-9596-45e6-b7b3-49d9ed90da93",
   "metadata": {},
   "outputs": [
    {
     "name": "stdout",
     "output_type": "stream",
     "text": [
      "0! = 1\n",
      "1! = 1\n",
      "2! = 2\n",
      "3! = 6\n",
      "4! = 24\n",
      "5! = 120\n",
      "6! = 720\n",
      "7! = 5040\n",
      "8! = 40320\n",
      "9! = 362880\n"
     ]
    }
   ],
   "source": [
    "def fakultaet( n ):\n",
    "    if n > 1 :\n",
    "        return fakultaet( n-1)*n\n",
    "    else :\n",
    "        return 1\n",
    "    \n",
    "for x in range( 10 ):\n",
    "    print( \"{}! = {}\".format( x, fakultaet( x ) ) )"
   ]
  },
  {
   "cell_type": "markdown",
   "id": "01c63223-c1bf-47fa-a514-b652c19ba47d",
   "metadata": {},
   "source": [
    "### Lösung 2 (rekursiv)\n",
    "Kurzversion von oben"
   ]
  },
  {
   "cell_type": "code",
   "execution_count": 28,
   "id": "bed20523-e1f4-4b5f-904a-673246fe0e5f",
   "metadata": {},
   "outputs": [
    {
     "name": "stdout",
     "output_type": "stream",
     "text": [
      "0! = 1\n",
      "1! = 1\n",
      "2! = 2\n",
      "3! = 6\n",
      "4! = 24\n",
      "5! = 120\n",
      "6! = 720\n",
      "7! = 5040\n",
      "8! = 40320\n",
      "9! = 362880\n"
     ]
    }
   ],
   "source": [
    "def fakultaet( n ):\n",
    "    return fakultaet( n-1)*n if n > 1 else 1\n",
    "\n",
    "for x in range( 10 ):\n",
    "    print( \"{}! = {}\".format( x, fakultaet( x ) ) )"
   ]
  },
  {
   "cell_type": "markdown",
   "id": "aac5ffb5-2562-4ec6-bf3b-77ad5f86b4ae",
   "metadata": {},
   "source": [
    "### Lösung 3 (iterativ)"
   ]
  },
  {
   "cell_type": "code",
   "execution_count": 31,
   "id": "50a16e19-2145-407d-9fb5-0f5ad5aad4bb",
   "metadata": {},
   "outputs": [
    {
     "name": "stdout",
     "output_type": "stream",
     "text": [
      "0! = 1\n",
      "1! = 1\n",
      "2! = 2\n",
      "3! = 6\n",
      "4! = 24\n",
      "5! = 120\n",
      "6! = 720\n",
      "7! = 5040\n",
      "8! = 40320\n",
      "9! = 362880\n"
     ]
    }
   ],
   "source": [
    "def fakultaet( n ):\n",
    "    if n < 2:\n",
    "        return 1\n",
    "    \n",
    "    for i in range( n-1, 0, -1):\n",
    "        n *= i\n",
    "        \n",
    "    return n\n",
    "\n",
    "for x in range( 10 ):\n",
    "    print( \"{}! = {}\".format( x, fakultaet( x ) ) )"
   ]
  },
  {
   "cell_type": "markdown",
   "id": "2caed49e-1c54-4562-8a9b-fbc71cf586a2",
   "metadata": {},
   "source": [
    "---\n",
    "## Aufgabe 3)\n",
    "### Angabe\n",
    "Auslesen einer Spannung über ADC und kontinuierliche Ausgabe des Mittelwerts über die jeweils letzten 10 Werte (z.B. im Abstand von jeweils 0.5 Sekunden).\n",
    "\n",
    "### Lösung\n",
    "Folgt"
   ]
  },
  {
   "cell_type": "code",
   "execution_count": null,
   "id": "260a20ea-188b-4dca-bb8e-039e590866ee",
   "metadata": {},
   "outputs": [],
   "source": []
  }
 ],
 "metadata": {
  "kernelspec": {
   "display_name": "Python 3 (ipykernel)",
   "language": "python",
   "name": "python3"
  },
  "language_info": {
   "codemirror_mode": {
    "name": "ipython",
    "version": 3
   },
   "file_extension": ".py",
   "mimetype": "text/x-python",
   "name": "python",
   "nbconvert_exporter": "python",
   "pygments_lexer": "ipython3",
   "version": "3.9.10"
  }
 },
 "nbformat": 4,
 "nbformat_minor": 5
}
