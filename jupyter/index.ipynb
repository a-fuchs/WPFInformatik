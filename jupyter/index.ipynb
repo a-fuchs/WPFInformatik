{
 "cells": [
  {
   "cell_type": "markdown",
   "id": "dff8c9ec",
   "metadata": {
    "tags": []
   },
   "source": [
    "Home\n",
    "***\n",
    "<span style=\"font-size:20pt;\">Programmieren mit Jupyter und MicroPython</span>\n",
    "***"
   ]
  },
  {
   "cell_type": "markdown",
   "id": "73a93aeb-48a2-48a9-9774-90843ed2705d",
   "metadata": {
    "tags": []
   },
   "source": [
    "# [Einführung in Jupyter und Python](010_EinfuehrungInJupyterUndPython/index.ipynb)\n",
    "\n",
    "# Wichtige Informationen zu den Controllern\n",
    "  * [Esp8266 Croduino](020_InfosZuDenControllern/Esp8266_Croduino/index.ipynb)\n",
    "  * [Esp32 HelTec](020_InfosZuDenControllern/Esp32_HelTec/index.ipynb)\n",
    "  * [Esp32 NodeMCU](020_InfosZuDenControllern/Esp32_NodeMCU/index.ipynb)\n",
    "\n",
    "# [MicroPython auf dem Microcontroller installieren](030_InstallAndSetup/index.ipynb)\n",
    "  \n",
    "# [Erste Schritte mit MicroPython](040_ErsteSchritte/index.ipynb)"
   ]
  },
  {
   "cell_type": "code",
   "execution_count": null,
   "id": "315457bf-7f9a-4939-8274-2e7bf1bd92a1",
   "metadata": {},
   "outputs": [],
   "source": []
  }
 ],
 "metadata": {
  "kernelspec": {
   "display_name": "Python 3 (ipykernel)",
   "language": "python",
   "name": "python3"
  },
  "language_info": {
   "codemirror_mode": {
    "name": "ipython",
    "version": 3
   },
   "file_extension": ".py",
   "mimetype": "text/x-python",
   "name": "python",
   "nbconvert_exporter": "python",
   "pygments_lexer": "ipython3",
   "version": "3.9.10"
  },
  "toc-autonumbering": true
 },
 "nbformat": 4,
 "nbformat_minor": 5
}
