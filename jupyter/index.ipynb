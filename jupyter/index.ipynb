{
 "cells": [
  {
   "cell_type": "markdown",
   "id": "dff8c9ec",
   "metadata": {
    "tags": []
   },
   "source": [
    "Home\n",
    "***\n",
    "<span style=\"font-size:20pt;\">Programmieren mit Jupyter und MicroPython</span>\n",
    "***"
   ]
  },
  {
   "cell_type": "markdown",
   "id": "73a93aeb-48a2-48a9-9774-90843ed2705d",
   "metadata": {
    "tags": []
   },
   "source": [
    "# [Einführung in Jupyter und Python](010_EinfuehrungInJupyterUndPython/index.ipynb)\n",
    "\n",
    "# Wichtige Informationen zu den Controllern\n",
    "  * [Esp8266 Croduino](020_InfosZuDenControllern/Esp8266_Croduino/index.ipynb)\n",
    "  * [Esp32 HelTec](020_InfosZuDenControllern/Esp32_HelTec/index.ipynb)\n",
    "  * [Esp32 NodeMCU](020_InfosZuDenControllern/Esp32_NodeMCU/index.ipynb)\n",
    "\n",
    "# [MicroPython auf dem Microcontroller installieren](030_InstallAndSetup/index.ipynb)\n",
    "\n",
    "---\n",
    "# Microcontroller mit MicroPython programmieren\n",
    "## [Erste Schritte mit MicroPython](040_ErsteSchritte/index.ipynb)\n",
    "## [Ampel mit drei LEDs](041_TrafficLight/index.ipynb)\n",
    "## [Time and Timer-Interrupts](043_TimeAndInterrupts/index.ipynb)\n",
    "## [Push button](044_PushButton/index.ipynb)\n",
    "## [Rotary encoder](046_RotaryEncoder/index.ipynb)\n",
    "## [ADC](050_ADC/index.ipynb)\n",
    "## [Ultrasonic](060_Ultrasonic/index.ipynb)\n",
    "## [Web-Server](090_WebServer/index.ipynb)\n",
    "## [Beschleunigungssensor und Gyroskop MPU6050](100_MPU6050/index.ipynb)\n",
    "## [Servo](200_Servo/index.ipynb)\n",
    "## [Leisungstreiber L 9110: Motor ansteuern & Audio](300_PowerAmplifier_L9110/index.ipynb)\n",
    "## [Dateien und Speicher](800_FilesAndMemory/index.ipynb)\n",
    "\n",
    "---\n",
    "## [Grundlagen](990_Grundlagen/index.ipynb)\n"
   ]
  },
  {
   "cell_type": "markdown",
   "id": "24dda146-3f39-4b9a-8dac-07ab0e97b80e",
   "metadata": {},
   "source": [
    "---\n",
    "# Quellen\n",
    "## Fritzings\n",
    "Downloaded (and modified) from this sources:\n",
    "\n",
    "  * [Esp8266 Croduino Nova: e-radionica.com on Github](https://github.com/e-radionicacom/e-radionica.com-Fritzing-Library-parts-)\n",
    "  * [Esp32 Heltec WiFi Kit: Cornelius Mendoza](https://raw.githubusercontent.com/MakerCorn/Heltec-NEW-WiFi-32/main/Heltec%20New%20WiFi%20Kit%2032.fzpz)\n",
    "  * [Esp32 HeltecWiFi Lora: Peter Harrison](https://forum.fritzing.org/t/heltec-dev-boards/8112)\n",
    "  * [Esp32 NodeMCU: Thomas Plunkett](https://forum.fritzing.org/uploads/default/original/2X/8/8d99adbb2e8f966178bdb46f5cffa7bd72ce2c2a.fzpz)\n",
    "  \n",
    "## MicroPython moldules\n",
    "Downloaded (and modified) from this sources:\n",
    "\n",
    "* OLED Display-Driver for SSD1306 : [Adafruit on Github](https://github.com/adafruit/micropython-adafruit-ssd1306/blob/master/ssd1306.py) ([Licence: local copy](030_InstallAndSetup/licenses/Licence_ssd1306.txt))\n",
    "* OLED Display-Driver for SH1106 : [Robert Hammelrath on Github](https://github.com/robert-hh/SH1106) ([Licence: local copy](030_InstallAndSetup/licenses/Licence_sh1106.txt))\n",
    "* Ultrasonic HC-SR04 driver: [Roberto Sánchez on Github](https://github.com/rsc1975/micropython-hcsr04) ([Licence: local copy](060_Ultrasonic/licenses/LICENCE.txt))\n",
    "* Adapted MPU-6050 driver from: [Bryan Siepert (Adafruit) on Github](https://github.com/adafruit/Adafruit_CircuitPython_MPU6050.git)\n",
    "* Adapted \"Robust Rotary encoder reading\" by [John Main](https://www.best-microcontroller-projects.com/rotary-encoder.html)"
   ]
  },
  {
   "cell_type": "code",
   "execution_count": null,
   "id": "219a9f1e-eb88-4697-a2b9-51fc827a48e5",
   "metadata": {},
   "outputs": [],
   "source": []
  }
 ],
 "metadata": {
  "kernelspec": {
   "display_name": "Python 3 (ipykernel)",
   "language": "python",
   "name": "python3"
  },
  "language_info": {
   "codemirror_mode": {
    "name": "ipython",
    "version": 3
   },
   "file_extension": ".py",
   "mimetype": "text/x-python",
   "name": "python",
   "nbconvert_exporter": "python",
   "pygments_lexer": "ipython3",
   "version": "3.9.10"
  },
  "toc-autonumbering": true
 },
 "nbformat": 4,
 "nbformat_minor": 5
}
