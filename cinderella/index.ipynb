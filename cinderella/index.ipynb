{
 "cells": [
  {
   "cell_type": "markdown",
   "id": "dff8c9ec",
   "metadata": {
    "tags": []
   },
   "source": [
    "Home\n",
    "***\n",
    "<span style=\"font-size:20pt;\">Programmieren mit Cinderella</span>\n",
    "***"
   ]
  },
  {
   "cell_type": "markdown",
   "id": "73a93aeb-48a2-48a9-9774-90843ed2705d",
   "metadata": {
    "tags": []
   },
   "source": [
    "# Programmieren mit Cinderella"
   ]
  },
  {
   "cell_type": "markdown",
   "id": "24dda146-3f39-4b9a-8dac-07ab0e97b80e",
   "metadata": {},
   "source": []
  }
 ],
 "metadata": {
  "kernelspec": {
   "display_name": "Python 3 (ipykernel)",
   "language": "python",
   "name": "python3"
  },
  "language_info": {
   "codemirror_mode": {
    "name": "ipython",
    "version": 3
   },
   "file_extension": ".py",
   "mimetype": "text/x-python",
   "name": "python",
   "nbconvert_exporter": "python",
   "pygments_lexer": "ipython3",
   "version": "3.9.10"
  },
  "toc-autonumbering": true
 },
 "nbformat": 4,
 "nbformat_minor": 5
}
